{
  "nbformat": 4,
  "nbformat_minor": 0,
  "metadata": {
    "colab": {
      "provenance": [],
      "include_colab_link": true
    },
    "kernelspec": {
      "name": "python3",
      "display_name": "Python 3"
    },
    "language_info": {
      "name": "python"
    }
  },
  "cells": [
    {
      "cell_type": "markdown",
      "metadata": {
        "id": "view-in-github",
        "colab_type": "text"
      },
      "source": [
        "<a href=\"https://colab.research.google.com/github/calistojuupiter-collab/sic_ai_2025_sept/blob/main/2_preprocesamiento/contribuciones_estudiantes/EJ1_SICAI.ipynb\" target=\"_parent\"><img src=\"https://colab.research.google.com/assets/colab-badge.svg\" alt=\"Open In Colab\"/></a>"
      ]
    },
    {
      "cell_type": "markdown",
      "source": [
        "### SAMSUNG INNOVATION CAMPUS - CURSO INTELIGENCIA ARTIFICIAL\n",
        "#### CAPÍTULO 3 :\n",
        "### __ANÁLISIS EXPLORATORIO DE DATOS: NumPy Arrays para Cálculo Numérico Optimizado y Pandas__\n",
        "\n",
        "[ESP SIC_AI_Chapter 3.pdf](https://drive.google.com/drive/folders/1U-qnwGcFqv9VVB3seJiS7J7aAZVCSlnd)\n",
        "\n",
        "\n",
        "Comentarios y observaciones #EQUIPO 2 💛 __Páginas 76 -106__\n",
        "\n"
      ],
      "metadata": {
        "id": "uhd_TVdniuzL"
      }
    },
    {
      "cell_type": "markdown",
      "source": [
        "UNIDAD 1\n",
        "## __Estructura de datos de matriz NumPy para un rendimiento computacional óptimo.__\n",
        "### 1.3. Operaciones de matriz Numpy\n"
      ],
      "metadata": {
        "id": "1skFsmJ7lBCw"
      }
    },
    {
      "cell_type": "markdown",
      "source": [
        "\n",
        "\n",
        "> En la matriz en NumPy los datos pueden procesarse colectivamente, gracias a la vectorización de la información, esto potencia el rendimiento  \n",
        "\n",
        "\n"
      ],
      "metadata": {
        "id": "cOt6IHOrljEo"
      }
    },
    {
      "cell_type": "code",
      "source": [
        "import numpy as np"
      ],
      "metadata": {
        "id": "ZxRxWzajliY0"
      },
      "execution_count": null,
      "outputs": []
    },
    {
      "cell_type": "code",
      "source": [
        "# LISTAS PARA EJEMPLOS\n",
        "\n",
        "list1 = [1,2,3,4,5,6,7,8]\n",
        "list2 = [5,10,15,20,25,30,35,40]\n",
        "\n",
        "# ARRAYS DE NUMPY PARA EJEMPLOS\n",
        "\n",
        "arr1 = np.array([1,2,3,4,5])\n",
        "arr2 = np.array([3,9,27,81,729])\n"
      ],
      "metadata": {
        "id": "0lFogLynb2Lz"
      },
      "execution_count": null,
      "outputs": []
    },
    {
      "cell_type": "code",
      "source": [
        "# Comparación de listas Python con matrices Numpy: Operador +  [Pág 77 - 78]\n",
        "\n",
        "A1 = list1 + list2\n",
        "A2 = arr1 + arr2\n",
        "\n",
        "print(f\"Esto es una suma de listas \\n{A1}\")\n",
        "\n",
        "print(f\"\\nEsto es una suma de arrays \\n{A2}\")\n"
      ],
      "metadata": {
        "colab": {
          "base_uri": "https://localhost:8080/"
        },
        "id": "nulSMB3Kmdke",
        "outputId": "0e0eda27-befe-48ab-f009-6958a95d12d0"
      },
      "execution_count": null,
      "outputs": [
        {
          "output_type": "stream",
          "name": "stdout",
          "text": [
            "Esto es una suma de listas \n",
            "[1, 2, 3, 4, 5, 6, 7, 8, 5, 10, 15, 20, 25, 30, 35, 40]\n",
            "\n",
            "Esto es una suma de arrays \n",
            "[  4  11  30  85 734]\n"
          ]
        }
      ]
    },
    {
      "cell_type": "code",
      "source": [
        "# Operadores de suma, resta, multiplicación y división con matrices y igual dimensión [Pág 79]\n",
        "\n",
        "\"\"\"\n",
        "Primero se compara si ambos arrays son iguales\n",
        "\"\"\"\n",
        "print(f\"Comparación ndim entre matrices {arr1.ndim , arr2.ndim}\")\n",
        "print(f\"Comparación size entre matrices {arr1.size , arr2.size}\")\n",
        "print(f\"Comparación shape entre matrices {arr1.shape , arr2.shape}\")\n",
        "print(\"\")\n",
        "\n",
        "B1 = arr1 + arr2\n",
        "B2 = arr1 - arr2\n",
        "B3 = arr1 * arr2\n",
        "B4 = arr1 / arr2\n",
        "\n",
        "# Operadores entre matrices\n",
        "print(f\"Sume de matrices            :  {B1}\")\n",
        "print(f\"Resta de matrices           :  {B2}\")\n",
        "print(f\"Multiplicación de matrices  :  {B3}\")\n",
        "print(f\"Divisiones de matrices      :  {B2}\")\n"
      ],
      "metadata": {
        "colab": {
          "base_uri": "https://localhost:8080/"
        },
        "id": "ZhtoqmTLnnQm",
        "outputId": "db4d7463-17b0-47f3-918f-bee806c97750"
      },
      "execution_count": null,
      "outputs": [
        {
          "output_type": "stream",
          "name": "stdout",
          "text": [
            "Comparación ndim entre matrices (1, 1)\n",
            "Comparación size entre matrices (5, 5)\n",
            "Comparación shape entre matrices ((5,), (5,))\n",
            "\n",
            "Sume de matrices            :  [  4  11  30  85 734]\n",
            "Resta de matrices           :  [  -2   -7  -24  -77 -724]\n",
            "Multiplicación de matrices  :  [   3   18   81  324 3645]\n",
            "Divisiones de matrices      :  [  -2   -7  -24  -77 -724]\n"
          ]
        }
      ]
    },
    {
      "cell_type": "code",
      "source": [
        "# Comparación de listas Python con matrices Numpy: Muiltiplicación  [Pág 80]\n",
        "\n",
        "C1 = list1 * 1\n",
        "C2 = arr1 * 3\n",
        "\n",
        "print(f\"Esto es una multiplicación de lista * una variable \\n{C1}\")\n",
        "print(\" 🔹NOTA: al multuplicar una lista por una variable n, esta se repite n veces\")\n",
        "\n",
        "print(f\"\\nEsto es una multiplicación de un array * una variable \\n{C2}\")\n"
      ],
      "metadata": {
        "colab": {
          "base_uri": "https://localhost:8080/"
        },
        "id": "NZ1Xl5hwsqCm",
        "outputId": "53e04135-3190-4596-ccf0-5dc2d4181c6f"
      },
      "execution_count": null,
      "outputs": [
        {
          "output_type": "stream",
          "name": "stdout",
          "text": [
            "Esto es una multiplicación de lista * una variable \n",
            "[1, 2, 3, 4, 5, 6, 7, 8]\n",
            " 🔹NOTA: al multuplicar una lista por una variable n, esta se repite n veces\n",
            "\n",
            "Esto es una multiplicación de un array * una variable \n",
            "[ 3  6  9 12 15]\n"
          ]
        }
      ]
    },
    {
      "cell_type": "code",
      "source": [
        "# Repetir y mosaico [Pág 81]\n",
        "\n",
        "D1 = np.repeat(list1,3)\n",
        "D2 = np.tile(list1,3)\n",
        "\n",
        "print(f\"Esto es un array con repeat [3 veces] :  \\n{D1}\")\n",
        "print(\"🔹NOTA: Al aplicar repear, los valores se repiten consecutivamente\")\n",
        "\n",
        "print(f\"\\nEsto es un array con tile [3 veces]   :  \\n{D2}\")\n",
        "print(\"🔹NOTA: Al aplicar tile, la matriz se repetira consecutivamente\")"
      ],
      "metadata": {
        "colab": {
          "base_uri": "https://localhost:8080/"
        },
        "id": "qQT9TCcNsc5V",
        "outputId": "fd9ffd4d-3846-4764-a419-1e401b4511ad"
      },
      "execution_count": null,
      "outputs": [
        {
          "output_type": "stream",
          "name": "stdout",
          "text": [
            "Esto es un array con repeat [3 veces] :  \n",
            "[1 1 1 2 2 2 3 3 3 4 4 4 5 5 5 6 6 6 7 7 7 8 8 8]\n",
            "🔹NOTA: Al aplicar repear, los valores se repiten consecutivamente\n",
            "\n",
            "Esto es un array con tile [3 veces]   :  \n",
            "[1 2 3 4 5 6 7 8 1 2 3 4 5 6 7 8 1 2 3 4 5 6 7 8]\n",
            "🔹NOTA: Al aplicar tile, la matriz se repetira consecutivamente\n"
          ]
        }
      ]
    },
    {
      "cell_type": "code",
      "source": [
        "# Cuando se utliza el método de mosaico, la matriz se puede repetir de forma bidimensional [Pág 82]\n",
        "\n",
        "arr3 = np.arange(15)\n",
        "arr3 = arr3.reshape(3,5)\n",
        "\n",
        "E1 = np.tile(arr3,3)\n",
        "\n",
        "print(f\"Esto es un array con tile [3 veces]: \\n{E1}\")"
      ],
      "metadata": {
        "colab": {
          "base_uri": "https://localhost:8080/"
        },
        "id": "q55_ALgGGqL9",
        "outputId": "37d43b4e-727e-4a8c-cbfd-48d61cea8a55"
      },
      "execution_count": null,
      "outputs": [
        {
          "output_type": "stream",
          "name": "stdout",
          "text": [
            "Esto es un array con tile [3 veces]: \n",
            "[[ 0  1  2  3  4  0  1  2  3  4  0  1  2  3  4]\n",
            " [ 5  6  7  8  9  5  6  7  8  9  5  6  7  8  9]\n",
            " [10 11 12 13 14 10 11 12 13 14 10 11 12 13 14]]\n"
          ]
        }
      ]
    },
    {
      "cell_type": "code",
      "source": [
        "# Las matrices también pueden realizar operaciones exponenciales [Pág 83]\n",
        "\n",
        "F1 = arr1 ** 2\n",
        "F2 = arr1 / (arr2 ** 2)\n",
        "\n",
        "print(f\"Esto es un array elevado al cuadrado  :  {F1}\")\n",
        "print(f\"Esto es array / array^2               :  {F2}\")"
      ],
      "metadata": {
        "colab": {
          "base_uri": "https://localhost:8080/"
        },
        "id": "wE7f9iHYba3I",
        "outputId": "ed23b394-d9e4-4eac-b010-ffacc22415fc"
      },
      "execution_count": null,
      "outputs": [
        {
          "output_type": "stream",
          "name": "stdout",
          "text": [
            "Esto es un array elevado al cuadrado  :  [ 1  4  9 16 25]\n",
            "Esto es array / array^2               :  [1.11111111e-01 2.46913580e-02 4.11522634e-03 6.09663161e-04\n",
            " 9.40838212e-06]\n"
          ]
        }
      ]
    },
    {
      "cell_type": "code",
      "source": [
        "# La matriz tambien puede realizar operaciones de comparación [...], devuelve True si hay una coincidencia y False si no la hay. [Pág 84]\n",
        "\n",
        "G1 = arr1 > 4\n",
        "G2 = arr1 <= 3\n",
        "\n",
        "print(f\"Esto es el array original             :  {arr1}\")\n",
        "print(f\"Aplicamos array > 4 y obtenemos       :  {G1}\")\n",
        "print(f\"Aplicamos array <= 3 y obtenemos      :  {G2}\")\n"
      ],
      "metadata": {
        "colab": {
          "base_uri": "https://localhost:8080/"
        },
        "id": "JFJRkrWblA21",
        "outputId": "08e721e0-6bba-4963-df03-01878073bea0"
      },
      "execution_count": null,
      "outputs": [
        {
          "output_type": "stream",
          "name": "stdout",
          "text": [
            "Esto es el array original             :  [1 2 3 4 5]\n",
            "Aplicamos array > 4 y obtenemos       :  [False False False False  True]\n",
            "Aplicamos array <= 3 y obtenemos      :  [ True  True  True False False]\n"
          ]
        }
      ]
    },
    {
      "cell_type": "code",
      "source": [
        "# Funciones universales [Pág 85 - 87]\n",
        "H1 = arr1**2\n",
        "H2 = np.sqrt(H1)\n",
        "\n",
        "print(f\"Esto es un array elevado al cuadrado              :  \\n{H1}\")\n",
        "print(f\"Esto es la raíz cuadrada del resultado anterior   :  \\n{H2}\")\n",
        "\n",
        "\n",
        "print(\"\\n\\n🔹NOTA: Para más detalles consultar np.ufunc\")\n",
        "\n",
        "\n",
        "\"Otro ejemplo de funcion\"\n",
        "print(np.sin(c))\n",
        "\n"
      ],
      "metadata": {
        "colab": {
          "base_uri": "https://localhost:8080/"
        },
        "id": "UQGkF-TAlKtF",
        "outputId": "0cab9995-fb12-4f7b-b6be-fdc06e0049c1"
      },
      "execution_count": null,
      "outputs": [
        {
          "output_type": "stream",
          "name": "stdout",
          "text": [
            "Esto es un array elevado al cuadrado              :  \n",
            "[ 1  4  9 16 25]\n",
            "Esto es la raíz cuadrada del resultado anterior   :  \n",
            "[1. 2. 3. 4. 5.]\n",
            "\n",
            "\n",
            "🔹NOTA: Para más detalles consultar np.ufunc\n"
          ]
        }
      ]
    },
    {
      "cell_type": "markdown",
      "source": [
        "Link para revisar más funciones universales\n",
        "\n",
        "[\"NUMPY Universal functions - ufunc\"](https://numpy.org/doc/stable/reference/ufuncs.html)"
      ],
      "metadata": {
        "id": "uJDYThKZnhf0"
      }
    },
    {
      "cell_type": "code",
      "source": [
        "## Martina y Aracely\n",
        "\n",
        "import numpy as np\n"
      ],
      "metadata": {
        "id": "HFzlLDd9KiSt"
      },
      "execution_count": null,
      "outputs": []
    },
    {
      "cell_type": "code",
      "source": [
        "# Métodos estadísticos de las matrices NumPy [Pág 88-93]\n",
        "\n",
        "arr4 = np.arange(1,41)\n",
        "I1 = arr4.sum()\n",
        "I2 = arr4.mean()\n",
        "I3 = arr4.std()\n",
        "I4 = arr4.var()\n",
        "\n",
        "# Cálculo de la suma de la desviación\n",
        "I5 = ( ((arr4-I2)**2).sum() ) / arr4.size\n",
        "I6 = np.sqrt(I5)\n",
        "\n",
        "# Suma acumulada\n",
        "I7 = arr4.cumsum()          # PÁG [93]\n",
        "\n",
        "print(f\"Esto es el array original   :  \\n{arr4}\\n\")\n",
        "print(f\"Suma del array                 : {I1}\")\n",
        "print(f\"Promedio del array             : {I2}\")\n",
        "print(f\"Desviación estándar del array  : {I3:.2f}\")\n",
        "print(f\"Varianza del array             : {I4}\")\n",
        "\n",
        "print(f\"\\nCalculos paso a paso\")\n",
        "print(f\"Desviación estandar del array  : {I5}\")\n",
        "print(f\"Varianza (raiz de la desv. std): {I6:.2f}\")\n",
        "\n",
        "print(f\"\\nSuma acumulada del array      : \\n{I7}\")\n"
      ],
      "metadata": {
        "id": "3SvPLLVJHjXE",
        "colab": {
          "base_uri": "https://localhost:8080/"
        },
        "outputId": "70ebe9e2-19a2-4a96-929c-a64d27542bdc"
      },
      "execution_count": null,
      "outputs": [
        {
          "output_type": "stream",
          "name": "stdout",
          "text": [
            "Esto es el array original   :  \n",
            "[ 1  2  3  4  5  6  7  8  9 10 11 12 13 14 15 16 17 18 19 20 21 22 23 24\n",
            " 25 26 27 28 29 30 31 32 33 34 35 36 37 38 39 40]\n",
            "\n",
            "Suma del array                 : 820\n",
            "Promedio del array             : 20.5\n",
            "Desviación estándar del array  : 11.54\n",
            "Varianza del array             : 133.25\n",
            "\n",
            "Calculos paso a paso\n",
            "Desviación estandar del array  : 133.25\n",
            "Varianza (raiz de la desv. std): 11.54\n",
            "\n",
            "Suma acumulada del array      : \n",
            "[  1   3   6  10  15  21  28  36  45  55  66  78  91 105 120 136 153 171\n",
            " 190 210 231 253 276 300 325 351 378 406 435 465 496 528 561 595 630 666\n",
            " 703 741 780 820]\n"
          ]
        }
      ]
    },
    {
      "cell_type": "code",
      "source": [
        "## Pág 88 - 90\n",
        "#Primero, se crea un arreglo que contiene los números enteros del 1 al 10.\n",
        "x = np.arange(1,11)\n",
        "print(x)\n",
        "#El código `x = np.arange(1, 11)` genera esa secuencia de números. La función arange crea números desde el primer valor (1) hasta uno antes del segundo valor (11). Este arreglo se almacena en la variable x.\n",
        "x.sum() #Se utiliza para calcular la suma de todos los elementos que están dentro del arreglo x.\n",
        "x.mean() #calcula el promedio (o media aritmetica) de los elementos en el arreglo.\n",
        "x_mean=x.mean() #calcula el promedio del arreglo original x  y lo almacena en la variable x_mean para usarlo fácilmente en los siguientes pasos.\n",
        "x-x_mean #calcula la desviación de cada dato. NumPy le resta el promedio (5.5) a cada uno de los elementos del arreglo original x.\n",
        "#El resultado es un nuevo arreglo que nos dice qué tan lejos está cada número original del promedio.\n",
        "(x-x_mean)**2 #Toma ese arreglo de desviaciones y eleva al cuadrado cada uno de sus elementos.\n",
        "#Al elevar al cuadrado convertimos los valores negativos en positivos.\n",
        "dev=(x-x_mean)**2 #Tomamos el calculo anterior y lo guardamos en una nueva variable llamada dev.\n",
        "dev.sum() #Suma todos los valores que están en el arreglo dev"
      ],
      "metadata": {
        "id": "cO32rwLUsGc2"
      },
      "execution_count": null,
      "outputs": []
    },
    {
      "cell_type": "code",
      "source": [
        "## MARTINA #Pág 91- 93\n",
        "\n",
        "z = np.arange(4,20) #crea una matriz de una dimension desde el numero 4 hasta 20\n",
        "#Calculos estadisticos\n",
        "promedio=z.mean() #calcula el promedio de la matriz z a traves de la funcion mean\n",
        "Desviacion= (z-promedio)** 2 #Se calcula la desviacion donde a la matriz z se le resta su promedio y esto se eleva a 2\n",
        "Varianza= z.var()\n",
        "Desviacion_estandar = np.sqrt(Varianza) # el metodo sqrt calcula la raiz cuadrada y en este caso al aplicarse a la varianza se calcula la desviacion estandar\n",
        "Valores_acumulados_de_Z=z.cumsum() #calcula los valores acumulados de la matriz z"
      ],
      "metadata": {
        "id": "9HC-unQPxFKi"
      },
      "execution_count": null,
      "outputs": []
    },
    {
      "cell_type": "code",
      "source": [
        "# Métodos estadísticos de las matrices NumPy [Pág 94-95]\n",
        "\n",
        "# Las funciones universales tambíen pueden usarse en las respectivas filas y columnas de una matriz\n",
        "\n",
        "J1 = arr4.reshape(4,10)\n",
        "# Al dar reshape a una lista matriz de datos , puedo hacerlo con los valores exactos,\n",
        "# o definir ya sea las filas o las columnas y dejar como -1 el otro valor, para que sea calculados automaticamente\n",
        "\n",
        "J2 = arr4.reshape(8,-1) # -1, def automaticamente la cantidad necesaria de cols\n",
        "J3 = arr4.reshape(-1,5) # -1, def automaticamente la cantidad necesaria de filas\n",
        "\n",
        "print(f\"Esto es el array original en su nueva forma :  \\n{J1}\\n\")\n",
        "\n",
        "J4 = J1.mean(axis=0) # 0 para columnas\n",
        "J5 = J1.mean(axis=1) # 1 para las filas\n",
        "\n",
        "print(f\"Promedio de las columnas del array :  {J4}\")\n",
        "print(f\"Promedio de las filas del array    :  {J5}\")\n",
        "\n",
        "\n",
        "# Bucle que se detiene cuando el random = 15\n",
        "while True:\n",
        "  num = np.random.randint(13,27)\n",
        "  print(num)\n",
        "  if (num==15):\n",
        "    break\n"
      ],
      "metadata": {
        "colab": {
          "base_uri": "https://localhost:8080/"
        },
        "id": "_I6VpCGnh0rm",
        "outputId": "b709dc66-99ab-4ec5-9dd7-891924b54752"
      },
      "execution_count": null,
      "outputs": [
        {
          "output_type": "stream",
          "name": "stdout",
          "text": [
            "Esto es el array original en su nueva forma :  \n",
            "[[ 1  2  3  4  5  6  7  8  9 10]\n",
            " [11 12 13 14 15 16 17 18 19 20]\n",
            " [21 22 23 24 25 26 27 28 29 30]\n",
            " [31 32 33 34 35 36 37 38 39 40]]\n",
            "\n",
            "Promedio de las columnas del array :  [16. 17. 18. 19. 20. 21. 22. 23. 24. 25.]\n",
            "Promedio de las filas del array    :  [ 5.5 15.5 25.5 35.5]\n"
          ]
        }
      ]
    },
    {
      "cell_type": "code",
      "source": [
        "# Camila --- diapo 94 a la 99\n",
        "\n",
        "a = np.arange(1, 19, 3)\n",
        "\n",
        "# Definir dimensiones de matrices\n",
        "print(a.reshape(2,3))\n",
        "print(a.reshape(2,-1))\n",
        "a = a.reshape(2,3)\n",
        "\n",
        "# Estadística\n",
        "\n",
        "# promedio\n",
        "print(a.mean(axis=0)) # para cols\n",
        "print(a.mean(axis=1)) # para filas\n",
        "\n",
        "# eligiendo una semilla\n",
        "b = np.random.seed(13)\n",
        "\n",
        "# generando números aleatorios\n",
        "print(np.random.randint(8))\n",
        "print(np.random.randint(13,27))\n",
        "\n",
        "# confirmando semilla\n"
      ],
      "metadata": {
        "id": "BhDhFabjMGsz"
      },
      "execution_count": null,
      "outputs": []
    },
    {
      "cell_type": "code",
      "source": [
        "# Numeros aleatorios en NumPy [96-99]\n",
        "\n",
        "K1 = 626\n",
        "\n",
        "np.random.seed(K1) # Para iniciar la semilla de los nuevos aleatorios\n",
        "\n",
        "# En Python se los números inician en 0\n",
        "# Además, al definir intervalos se incluye el valor inicla pero expcluyen el valor final\n",
        "# \"low inclusive\" & \"high exclusive\" : Ejemplo: (10)  -> Desde el 0 al 9\n",
        "#                                              (1,11) -> Desde el 1 al 10\n",
        "\n",
        "K2 = np.random.randint(21)\n",
        "K3 = np.random.randint(0, 10, size=(3, 3))\n",
        "\n",
        "print(f\"Entrega un random int (máx 20)= {K2}\") # genera  enteros de 0 a 20\n",
        "print(f\"Entra una matriz random de 3x3= \\n{K3}\") # genera enteros de 0 a 10 en matriz de 3x3\n"
      ],
      "metadata": {
        "id": "ospQuP8tqZHQ",
        "colab": {
          "base_uri": "https://localhost:8080/"
        },
        "outputId": "8bbdd746-2e7a-44bc-bdf4-eed8d07cc3a7"
      },
      "execution_count": null,
      "outputs": [
        {
          "output_type": "stream",
          "name": "stdout",
          "text": [
            "Entrega un random int (máx 20)= 17\n",
            "Entra una matriz random de 3x3= \n",
            "[[8 9 5]\n",
            " [6 9 4]\n",
            " [2 7 0]]\n"
          ]
        }
      ]
    },
    {
      "cell_type": "code",
      "source": [
        "# Antonia\n",
        "#Resumen final 101\n",
        "\n",
        "np.random.seed(130)\n",
        "print(f\"\"\"con la funcion randit podemos generar numero aleatorios segun un tamaño determinado \\n en este caso crearremos numero aleatorios del 1 al 10 de un largo de 100\"\"\")\n",
        "\n",
        "a=np.random.randint(1,11,size=100)\n",
        "print(f\"vector de 1000 elementos con numero del 1 al 10 \\n\",a)\n",
        "print(\"###\"*20)\n",
        "\n",
        "a1 = np.random.randint(1,11,size=(4,4))\n",
        "print(f\"genera una matriz 4*4 con numero aleatorios \\n\",a1)\n",
        "print(\"###\"*20)\n",
        "a2= np.random.randint(1,11,size=(4,4,4))\n",
        "print(f\"genera una matriz tridimencional 4*4*4 con numero aleatorios \\n\",a2)\n",
        "print(f\"el tamaño de nuestro primer ejemplo es:\",a.size)\n",
        "print(f\"los numero que encontraremos en el primer ejempo:\",np.unique(a))\n",
        "print(f\"la media de nuestro ejemplo es:\", np.median(a))\n",
        "print(f\"la suma total de nuestro ejemplo es:\", np.sum(a))\n",
        "print(f\"La media de nuestro ejemplo es: \", np.round(np.mean(a), 2))\n",
        "print(f\"La varianza de nuestro ejemplo es:\", np.round(np.var(a), 2))\n",
        "print(f\"La desviación estándar de nuestro ejemplo es: \",np.round(np.std(a), 2))\n",
        "print(f\"El mínimo de nuestro ejemplo es:\", a.min())\n",
        "print(f\"El máximo de nuestro ejemplo es:\",a.max())\n",
        "a=np.random.randint(-10,11,size=100)\n",
        "print(\"\\nVector de 100 elementos con números del -10 al 10:\\n\", a)\n",
        "print(f\"Los números únicos en este ejemplo son:\",np.unique(a))\n",
        "print(f\"La ubicación del índice con el valor más alto es:\",a.argmax())\n",
        "print(f\"La ubicación del índice con el valor más bajo es:\", a.argmin())"
      ],
      "metadata": {
        "id": "jouNHpE4NhjP",
        "colab": {
          "base_uri": "https://localhost:8080/"
        },
        "outputId": "b0673fdc-3140-4182-ebb8-0cc373c1c88f"
      },
      "execution_count": null,
      "outputs": [
        {
          "output_type": "stream",
          "name": "stdout",
          "text": [
            "con la funcion randit podemos generar numero aleatorios segun un tamaño determinado \n",
            " en este caso crearremos numero aleatorios del 1 al 10 de un largo de 100\n",
            "vector de 1000 elementos con numero del 1 al 10 \n",
            " [10  6  4  2  1  7  9  8  1  6  8  2  7  2 10  8  3  2  5  9  3  3  2  3\n",
            "  8  4  2  3  7  9  5  4  9  6  3 10  4  6  9  3  8  8  3  1  6  2  1  9\n",
            "  4  1  5 10  3  9 10  2  5  7  6  8  6  6  4  4  2  2  3  6  6 10  8  3\n",
            "  3  2  5  1  5  5  9  1  5  1  3 10  2  8  9  8 10  2  4  1  8  5  6  9\n",
            "  5  8  1  6]\n",
            "############################################################\n",
            "genera una matriz 4*4 con numero aleatorios \n",
            " [[ 4  3  9  9]\n",
            " [ 1  7  7  8]\n",
            " [ 9  9  5  3]\n",
            " [ 8 10  6  7]]\n",
            "############################################################\n",
            "genera una matriz tridimencional 4*4*4 con numero aleatorios \n",
            " [[[ 7  7 10  2]\n",
            "  [ 1  9  8  8]\n",
            "  [ 1  8  1  3]\n",
            "  [ 1  7  7  4]]\n",
            "\n",
            " [[ 8  6  2  9]\n",
            "  [ 4  1  6  3]\n",
            "  [ 6  9  4  7]\n",
            "  [ 7  1  4  6]]\n",
            "\n",
            " [[ 2  7 10  7]\n",
            "  [ 2  7  8  1]\n",
            "  [ 5  8  4 10]\n",
            "  [ 9  7  3  7]]\n",
            "\n",
            " [[ 4  2  8  7]\n",
            "  [ 8  1  8  1]\n",
            "  [ 2  5  1  7]\n",
            "  [ 9 10  8  2]]]\n",
            "el tamaño de nuestro primer ejemplo es: 100\n",
            "los numero que encontraremos en el primer ejempo: [ 1  2  3  4  5  6  7  8  9 10]\n",
            "la media de nuestro ejemplo es: 5.0\n",
            "la suma total de nuestro ejemplo es: 523\n",
            "La media de nuestro ejemplo es:  5.23\n",
            "La varianza de nuestro ejemplo es: 8.28\n",
            "La desviación estándar de nuestro ejemplo es:  2.88\n",
            "El mínimo de nuestro ejemplo es: 1\n",
            "El máximo de nuestro ejemplo es: 10\n",
            "\n",
            "Vector de 100 elementos con números del -10 al 10:\n",
            " [-10   2   6   1   2  -1   2   2   6  -6   5   6   4   3   4   8   3  -8\n",
            "  -5   5  -2   1 -10  -1   8   4  -6  -4   6  -7  -1  -6  -1 -10  -3 -10\n",
            "  -7   6 -10  -6  -2  10  -4  -5  -9   3  10   3  -3  -4  -5   1  10   0\n",
            "  -2   0   4   9   5  -6  -6   8   9   5  -8   0   8  -2  10   0  -6  -4\n",
            "   4   8  -4   6  -8  -1 -10   4  -3  -8  -2   7   1  -1  -1   0   9   6\n",
            "   7  -7  -6  -5  -1  -5  -5   2   5  -5]\n",
            "Los números únicos en este ejemplo son: [-10  -9  -8  -7  -6  -5  -4  -3  -2  -1   0   1   2   3   4   5   6   7\n",
            "   8   9  10]\n",
            "La ubicación del índice con el valor más alto es: 41\n",
            "La ubicación del índice con el valor más bajo es: 0\n"
          ]
        }
      ]
    }
  ]
}