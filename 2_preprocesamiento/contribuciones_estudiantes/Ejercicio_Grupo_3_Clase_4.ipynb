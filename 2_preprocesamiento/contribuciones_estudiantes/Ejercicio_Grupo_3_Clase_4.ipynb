{
  "nbformat": 4,
  "nbformat_minor": 0,
  "metadata": {
    "colab": {
      "provenance": []
    },
    "kernelspec": {
      "name": "python3",
      "display_name": "Python 3"
    },
    "language_info": {
      "name": "python"
    }
  },
  "cells": [
    {
      "cell_type": "markdown",
      "source": [
        "Operaciones Matriciales"
      ],
      "metadata": {
        "id": "6AazPn6QFMcF"
      }
    },
    {
      "cell_type": "markdown",
      "source": [
        "###Ejercicio 1"
      ],
      "metadata": {
        "id": "2D0jO63-Hxke"
      }
    },
    {
      "cell_type": "code",
      "source": [
        "\n",
        "import numpy as np\n",
        "#El primero es el largo de la lista y el Segundo son la cantidad de lista que secciona\n",
        "A = np.array([0, 1, 2, 3]).reshape(2,2)\n",
        "B = np.array([1, 6, 2, 4]).reshape(2,2)\n",
        "print(\"El primero es el largo de la lista y el Segundo son la cantidad de lista que secciona\")\n",
        "print(\">>>>>>>>><<<<<<<<<\")\n",
        "print(f\"matriz 1:\\n{A}\")\n",
        "print(\">>>>>>>>><<<<<<<<<\")\n",
        "print(f\"matriz 2:\\n{B}\")\n",
        "print(\">>>>>>>>><<<<<<<<<\")\n"
      ],
      "metadata": {
        "colab": {
          "base_uri": "https://localhost:8080/"
        },
        "id": "mYiM7o_uFFh_",
        "outputId": "6061b4b9-8851-44ae-9881-55200407368e"
      },
      "execution_count": null,
      "outputs": [
        {
          "output_type": "stream",
          "name": "stdout",
          "text": [
            "El primero es el largo de la lista y el Segundo son la cantidad de lista que secciona\n",
            ">>>>>>>>><<<<<<<<<\n",
            "matriz 1:\n",
            "[[0 1]\n",
            " [2 3]]\n",
            ">>>>>>>>><<<<<<<<<\n",
            "matriz 2:\n",
            "[[1 6]\n",
            " [2 4]]\n",
            ">>>>>>>>><<<<<<<<<\n"
          ]
        }
      ]
    },
    {
      "cell_type": "markdown",
      "source": [
        "###Ejercicio 2\n",
        "El np.dot() en NumPy se usa para calcular el producto punto de dos arreglos. En el contexto de matrices, se refiere a la multiplicación de matrices.\n",
        "\n",
        "​Cuando multiplicas la matriz A por la matriz B (np.dot(A, B)), el resultado es una nueva matriz donde cada elemento se calcula de la siguiente manera:\n",
        "​Se toma una fila de la matriz A.\n",
        "​Se toma una columna de la matriz B.\n",
        "​Se multiplican los elementos correspondientes de la fila y la columna, y luego se suman los resultados.\n",
        "​Est\n",
        "Este proceso se repite para cada combinación de filas de A y columnas de B para llenar la nueva matriz resultante. Es importante que el número de columnas de la primera matriz (A) sea igual al número de filas de la segunda matriz (B). Si no lo son, la multiplicación de matrices no se puede realizar.\n"
      ],
      "metadata": {
        "id": "_S2b_yKUPobB"
      }
    },
    {
      "cell_type": "code",
      "source": [
        "print(\">>>>>>>>><<<<<<<<<\")\n",
        "print(f\"matriz 1:\\n{A}\")\n",
        "print(\">>>>>>>>><<<<<<<<<\")\n",
        "print(f\"matriz 2:\\n{B}\")\n",
        "print(\">>>>>>>>><<<<<<<<<\")\n",
        "print(\">>>>>>>>><<<<<<<<<\")\n",
        "print(\"Dot 1 A.dot(B)\")\n",
        "print(A.dot(B))\n",
        "print(\">>>>>>>>><<<<<<<<<\")\n",
        "print(\"Dot 2 np.dot(A,B)\")\n",
        "\n",
        "print(np.dot(A,B))\n",
        "print(\">>>>>>>>><<<<<<<<<\")\n"
      ],
      "metadata": {
        "colab": {
          "base_uri": "https://localhost:8080/"
        },
        "id": "K6uadPfNIeMX",
        "outputId": "7ea05b08-8a82-4af0-b76d-b34b4385a0ad"
      },
      "execution_count": null,
      "outputs": [
        {
          "output_type": "stream",
          "name": "stdout",
          "text": [
            ">>>>>>>>><<<<<<<<<\n",
            "matriz 1:\n",
            "[[0 1]\n",
            " [2 3]]\n",
            ">>>>>>>>><<<<<<<<<\n",
            "matriz 2:\n",
            "[[1 6]\n",
            " [2 4]]\n",
            ">>>>>>>>><<<<<<<<<\n",
            ">>>>>>>>><<<<<<<<<\n",
            "Dot 1 A.dot(B)\n",
            "[[ 2  4]\n",
            " [ 8 24]]\n",
            ">>>>>>>>><<<<<<<<<\n",
            "Dot 2 np.dot(A,B)\n",
            "[[ 2  4]\n",
            " [ 8 24]]\n",
            ">>>>>>>>><<<<<<<<<\n"
          ]
        }
      ]
    },
    {
      "cell_type": "markdown",
      "source": [
        "\n",
        "\n",
        "### Ejercicio 3\n"
      ],
      "metadata": {
        "id": "qADVrORjPhq2"
      }
    },
    {
      "cell_type": "code",
      "source": [
        "print(\"Es la matriz transpuerta\")\n",
        "print(\"​La matriz transpuesta es el resultado de intercambiar las filas por las columnas\")\n",
        "A = np.array([0, 1, 2, 3]).reshape(2,2)\n",
        "B = np.array([1, 6, 2, 4]).reshape(2,2)\n",
        "print(\">>>>>>>>><<<<<<<<<\")\n",
        "print(\"A\")\n",
        "print(A)\n",
        "print(\">>>>>>>>><<<<<<<<<\")\n",
        "print(\"B\")\n",
        "print(B)\n",
        "print(\">>>>>>>>><<<<<<<<<\")\n",
        "print(\"trans_1 = B.transpose()\")\n",
        "trans_1 = B.transpose()\n",
        "print(\">>>>>>>>><<<<<<<<<\")\n",
        "print(trans_1)\n"
      ],
      "metadata": {
        "id": "SbRmSw3iKb8D",
        "colab": {
          "base_uri": "https://localhost:8080/"
        },
        "outputId": "0ff672ea-cae1-4630-da1f-ab81dee94b56"
      },
      "execution_count": null,
      "outputs": [
        {
          "output_type": "stream",
          "name": "stdout",
          "text": [
            "Es la matriz transpuerta\n",
            "​La matriz transpuesta es el resultado de intercambiar las filas por las columnas\n",
            ">>>>>>>>><<<<<<<<<\n",
            "A\n",
            "[[0 1]\n",
            " [2 3]]\n",
            ">>>>>>>>><<<<<<<<<\n",
            "B\n",
            "[[1 6]\n",
            " [2 4]]\n",
            ">>>>>>>>><<<<<<<<<\n",
            "trans_1 = B.transpose()\n",
            ">>>>>>>>><<<<<<<<<\n",
            "[[1 2]\n",
            " [6 4]]\n"
          ]
        }
      ]
    },
    {
      "cell_type": "code",
      "source": [
        "print(\">>>>>>>>><<<<<<<<<\")\n",
        "print(\"A\")\n",
        "print(A)\n",
        "print(\">>>>>>>>><<<<<<<<<\")\n",
        "print(\"B\")\n",
        "print(B)\n",
        "print(\">>>>>>>>><<<<<<<<<\")\n",
        "print(\"Inversa\")\n",
        "print(np.linalg.inv(A))\n",
        "print(\">>>>>>>>><<<<<<<<<\")\n",
        "print(\"Determinante\")\n",
        "\n",
        "print(np.linalg.det(A))"
      ],
      "metadata": {
        "colab": {
          "base_uri": "https://localhost:8080/"
        },
        "id": "J400ETPHMPpa",
        "outputId": "48bf8ca3-43a9-483a-cc2a-874b5ab06f3a"
      },
      "execution_count": null,
      "outputs": [
        {
          "output_type": "stream",
          "name": "stdout",
          "text": [
            ">>>>>>>>><<<<<<<<<\n",
            "A\n",
            "[[0 1]\n",
            " [2 3]]\n",
            ">>>>>>>>><<<<<<<<<\n",
            "B\n",
            "[[1 6]\n",
            " [2 4]]\n",
            ">>>>>>>>><<<<<<<<<\n",
            "Inversa\n",
            "[[-1.5  0.5]\n",
            " [ 1.   0. ]]\n",
            ">>>>>>>>><<<<<<<<<\n",
            "Determinante\n",
            "-2.0\n"
          ]
        }
      ]
    },
    {
      "cell_type": "code",
      "source": [],
      "metadata": {
        "id": "1bJKmlJCQfwT"
      },
      "execution_count": null,
      "outputs": []
    }
  ]
}