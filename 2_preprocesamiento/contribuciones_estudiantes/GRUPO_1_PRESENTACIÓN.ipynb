{
  "nbformat": 4,
  "nbformat_minor": 0,
  "metadata": {
    "colab": {
      "provenance": [],
      "authorship_tag": "ABX9TyNszAoBMC9vb5reh6Ma8jwZ",
      "include_colab_link": true
    },
    "kernelspec": {
      "name": "python3",
      "display_name": "Python 3"
    },
    "language_info": {
      "name": "python"
    }
  },
  "cells": [
    {
      "cell_type": "markdown",
      "metadata": {
        "id": "view-in-github",
        "colab_type": "text"
      },
      "source": [
        "<a href=\"https://colab.research.google.com/github/mariavanez/sic_ai_2025_sept/blob/main/2_preprocesamiento/contribuciones_estudiantes/GRUPO_1_PRESENTACI%C3%93N.ipynb\" target=\"_parent\"><img src=\"https://colab.research.google.com/assets/colab-badge.svg\" alt=\"Open In Colab\"/></a>"
      ]
    },
    {
      "cell_type": "markdown",
      "source": [
        "# ÍNDICE"
      ],
      "metadata": {
        "id": "o90HsViFdw4R"
      }
    },
    {
      "cell_type": "markdown",
      "source": [
        "## 1. Números aleatorios. (62 - 68)\n",
        "- Antonia Reyes (Slides 62-64).\n",
        "- Montserrat Espinoza (Slides 65-67).\n",
        "- María Añez (Slide 68).\n",
        "## 2. Adición de elementos a Numpy (69 - 72)\n",
        "- María Añez (Slide 69).\n",
        "- Daniela Alarcón (Slides 70-72).\n",
        "## 3. Eliminación de elementos de matrices Numpy. (73 - 74)\n",
        "- Danna Villa (Slides 73-74).\n",
        "\n",
        "PRESENTACIÓN:\n",
        "https://drive.google.com/drive/folders/1U-qnwGcFqv9VVB3seJiS7J7aAZVCSlnd\n",
        "\n"
      ],
      "metadata": {
        "id": "CJsrf03neOE_"
      }
    },
    {
      "cell_type": "markdown",
      "source": [
        "\n",
        "# SLIDE 62-64. Números aleatorios con NumPy"
      ],
      "metadata": {
        "id": "GW2w-tY4OIGq"
      }
    },
    {
      "cell_type": "code",
      "source": [
        "import numpy as np\n",
        "\n",
        "data=np.random.randn(2,3)"
      ],
      "metadata": {
        "id": "GeMWE9_8E8Ia"
      },
      "execution_count": null,
      "outputs": []
    },
    {
      "cell_type": "markdown",
      "source": [
        "**Explicación**\n",
        "\n",
        "```\n",
        "np.random.randn(100,100)\n",
        "```\n",
        "está en una distribución normal. Campana de Gauss.\n",
        "\n",
        "Genera números aleatorios que siguen una distribución normal estándar\n",
        "(media = 0, desviación estándar = 1).\n",
        "\n",
        "El resultado es una matriz de 100 filas y 100 columnas (10,000 valores en total).\n",
        "\n",
        "\n",
        "```\n",
        "np.mean(data2)\n",
        "```\n",
        "Calcula el promedio de todos los 10,000 números generados.\n",
        "\n",
        "Como la media teórica de la distribución normal estándar es 0, el resultado es muy cercano a 0.\n",
        "\n",
        "```\n",
        "data2\n",
        "```\n",
        "\n",
        "\n",
        "\n",
        "Muestra la matriz generada (se imprime solo una parte porque es muy grande).\n",
        "\n",
        "Idea clave\n",
        "\n",
        "Con pocos números aleatorios, el promedio puede alejarse bastante de 0.\n",
        "\n",
        "Con muchos números aleatorios (10,000 en este caso), el promedio se acerca mucho al valor esperado (0).\n",
        "\n",
        "*Esto demuestra la Ley de los Grandes Números:*\n",
        "\n",
        "Mientras más datos se generan, más se aproximan los resultados a los valores teóricos esperados.\n"
      ],
      "metadata": {
        "id": "NSeydQtiPtWv"
      }
    },
    {
      "cell_type": "code",
      "source": [
        "import numpy as np\n",
        "\n",
        "data=np.random.randn(3,4) ## (número de filas, número de columnas)\n",
        "print(data)\n",
        "print(np.mean(data)) ## el promedio de todos los valores dentro de la matriz\n"
      ],
      "metadata": {
        "colab": {
          "base_uri": "https://localhost:8080/"
        },
        "outputId": "32c536be-cdcf-4730-caa7-eaaed2f0a404",
        "id": "Rn8kLH4FNbGs"
      },
      "execution_count": null,
      "outputs": [
        {
          "output_type": "stream",
          "name": "stdout",
          "text": [
            "[[-2.14293201  0.26120511 -0.82614061 -0.69726052]\n",
            " [ 0.53712036  0.37936657 -0.98005254  2.37106805]\n",
            " [ 0.43211999  2.29867943  0.23386184 -0.32979729]]\n",
            "0.12810319833654446\n"
          ]
        }
      ]
    },
    {
      "cell_type": "code",
      "source": [
        "## ejemplo Datos 2\n",
        "data2 = np.random.randn(100,100)\n",
        "\n",
        "print('promedio:',np.mean(data2))\n",
        "data2\n",
        "## En total hay 10000 valores"
      ],
      "metadata": {
        "colab": {
          "base_uri": "https://localhost:8080/"
        },
        "id": "5ju37EAlLANk",
        "outputId": "0420308d-9f2b-41e3-f818-33c756eae12d"
      },
      "execution_count": null,
      "outputs": [
        {
          "output_type": "stream",
          "name": "stdout",
          "text": [
            "promedio: 0.009848381488615962\n"
          ]
        },
        {
          "output_type": "execute_result",
          "data": {
            "text/plain": [
              "array([[ 1.59552558, -2.21129338,  1.65553804, ..., -0.13102436,\n",
              "        -1.75018706, -0.96134648],\n",
              "       [-1.13769802, -0.56415956, -0.13604522, ...,  0.45201482,\n",
              "        -0.2546302 ,  1.05291578],\n",
              "       [ 1.27345287, -0.25626823,  1.69415198, ...,  0.70445794,\n",
              "         1.6536671 ,  1.66779318],\n",
              "       ...,\n",
              "       [-2.16189141, -0.50646133, -0.80967149, ..., -1.43862151,\n",
              "         1.63064028, -0.3116743 ],\n",
              "       [ 0.01281206, -0.60853703, -0.10366321, ..., -0.40714168,\n",
              "         0.22544711,  1.92078116],\n",
              "       [-0.92745008, -0.06944664, -0.24278193, ..., -0.51303493,\n",
              "        -0.61628055,  0.77571337]])"
            ]
          },
          "metadata": {},
          "execution_count": 18
        }
      ]
    },
    {
      "cell_type": "code",
      "source": [
        "## Ejemplo datos3\n",
        "data3 = np.random.randn(1000,1000)\n",
        "\n",
        "print('promedio:',np.mean(data3))\n",
        "data3\n",
        "## En total hay 1000000 valores\n"
      ],
      "metadata": {
        "colab": {
          "base_uri": "https://localhost:8080/"
        },
        "id": "zEbBewHuQ_g-",
        "outputId": "20ad00c2-44be-414c-a503-437f144d66f8"
      },
      "execution_count": null,
      "outputs": [
        {
          "output_type": "stream",
          "name": "stdout",
          "text": [
            "promedio: -0.00037824745223618975\n"
          ]
        },
        {
          "output_type": "execute_result",
          "data": {
            "text/plain": [
              "array([[-0.26944819, -0.15217521, -0.98284389, ...,  0.4452991 ,\n",
              "         1.60432252, -0.6703235 ],\n",
              "       [-0.32711247,  0.1866937 ,  0.74677509, ..., -0.77557097,\n",
              "         1.65755979, -1.22342766],\n",
              "       [-0.74878716, -1.54326337,  0.44712455, ..., -0.21887001,\n",
              "        -0.33710941, -1.37410426],\n",
              "       ...,\n",
              "       [ 0.16845514,  1.97797593, -1.21686073, ..., -0.49272072,\n",
              "         1.2764578 ,  1.14337357],\n",
              "       [ 1.70207208, -0.11244461, -0.27140431, ...,  1.13418252,\n",
              "        -0.60998114, -1.14233482],\n",
              "       [-0.89238339,  0.20228979,  0.86609976, ..., -0.1297339 ,\n",
              "        -0.08991897, -0.84297909]])"
            ]
          },
          "metadata": {},
          "execution_count": 21
        }
      ]
    },
    {
      "cell_type": "markdown",
      "source": [
        "# SLIDES 65-67. Comparacion de listas de Python vs Matrices Numpy. Velocidades de procesamiento (Parte 1 - Parte 3)"
      ],
      "metadata": {
        "id": "TW2ZVXS8fUAo"
      }
    },
    {
      "cell_type": "markdown",
      "source": [
        "- Lista de Python: Es una forma básica de guardar muchos datos en Python\n",
        "\n",
        " ej:\n",
        "\n",
        " List (range(5)) → [0, 1, 2, 3, 4]\n",
        "\n",
        "\n",
        "  - Arrays/Matrices en Numpy: Es parecida a la lista, pero más rápido para calculos númericos.\n",
        "\n",
        "  ej:\n",
        "\n",
        "  np.arange(1000000) → genera un millón de números del 0 al 999999.\n",
        "\n",
        "\n",
        "## Principales diferencias:\n",
        "\n",
        "Las listas son mas lentas porque pueden guardar cualquier cosa. Mientras que los array solo datos homogeneos (como solo números) y usan memoria optimizada.\n",
        "\n",
        "Velocidad\n",
        "\n",
        "Ejemplo de velocidad\n",
        "\n",
        "Multiplicar un array de NumPy por 2: np.arange(1000000)*2 → tarda 2.69 segundos.\n",
        "\n",
        "Multiplicar una lista de Python por 2: list(range(1000000))*2 → tarda 40.6 segundos.\n",
        "\n",
        "¡Más de 20 veces más lento con listas!"
      ],
      "metadata": {
        "id": "Awpy0l7Rgrfk"
      }
    },
    {
      "cell_type": "markdown",
      "source": [
        "# SLIDE 68. Comparativa de listas de Python frente a Matrices Numpy. Velocidad de procesamiento (Parte 4)\n",
        "\n",
        "\n",
        "\n",
        "\n"
      ],
      "metadata": {
        "id": "5bFWf2tIIBk2"
      }
    },
    {
      "cell_type": "markdown",
      "source": [
        "## 1.   Diferencia entre listas de Python y arrays de NumPy"
      ],
      "metadata": {
        "id": "320biym4S42v"
      }
    },
    {
      "cell_type": "markdown",
      "source": [
        "\n",
        "\n",
        "En Python, cuando usas listas, las operaciones suelen hacerse con bucles:"
      ],
      "metadata": {
        "id": "GPFCUYh1JhVN"
      }
    },
    {
      "cell_type": "code",
      "source": [
        "# Con listas de Python\n",
        "lista = [1, 2, 3, 4, 5]\n",
        "doble = []\n",
        "for i in lista:\n",
        "    doble.append(i * 2)\n",
        "\n",
        "print(doble)  # [2, 4, 6, 8, 10]\n",
        "\n",
        "# Aquí el programa recorre elemento por elemento con un for, lo cual es lento."
      ],
      "metadata": {
        "id": "hzPNnddcJjr6",
        "colab": {
          "base_uri": "https://localhost:8080/"
        },
        "outputId": "410faa83-321c-40f7-ae21-5ee74722f9ba"
      },
      "execution_count": 2,
      "outputs": [
        {
          "output_type": "stream",
          "name": "stdout",
          "text": [
            "[2, 4, 6, 8, 10]\n"
          ]
        }
      ]
    },
    {
      "cell_type": "markdown",
      "source": [
        "Con NumPy, la operación se hace en una sola instrucción (vectorización):"
      ],
      "metadata": {
        "id": "-K29kwcwJotz"
      }
    },
    {
      "cell_type": "code",
      "source": [
        "import numpy as np\n",
        "\n",
        "array = np.array([1, 2, 3, 4, 5])\n",
        "doble = array * 2\n",
        "\n",
        "print(doble)  # [ 2  4  6  8 10 ]\n",
        "\n",
        "# NumPy internamente usa código en C optimizado, evitando el bucle en Python."
      ],
      "metadata": {
        "id": "tOsxufTpJ0Jq"
      },
      "execution_count": null,
      "outputs": []
    },
    {
      "cell_type": "markdown",
      "source": [
        "##2. Tiempo de ejecución (\"tiempo de pared\")"
      ],
      "metadata": {
        "id": "poAAQpo9S9cE"
      }
    },
    {
      "cell_type": "markdown",
      "source": [
        "\n",
        "\n",
        "El tiempo de ejecución (o “tiempo de pared”) es el tiempo real que tarda un programa o un fragmento de código en ejecutarse desde que inicia hasta que termina.\n",
        "Incluye:\n",
        "\n",
        "- Tiempo de CPU 🖥️ (cálculos matemáticos).\n",
        "\n",
        "- Tiempo de E/S (entrada/salida, por ejemplo leer del disco o mostrar en pantalla).\n",
        "\n",
        "- Llamadas a funciones/subprogramas.\n",
        "\n",
        "- En otras palabras, es lo que percibimos como tiempo total de espera."
      ],
      "metadata": {
        "id": "kW93ntsTKDIN"
      }
    },
    {
      "cell_type": "code",
      "source": [
        "import numpy as np\n",
        "import time\n",
        "\n",
        "# Listas en Python\n",
        "lista = list(range(1_000_000))       # 1. Crear una lista con un millón de números\n",
        "start = time.time()                  # 2. Guardar el tiempo de inicio\n",
        "doble_lista = [x*2 for x in lista]   # 3. Recorrer la lista y multiplicar cada elemento\n",
        "print(\"Tiempo con listas:\", time.time() - start)  # 4. Calcular tiempo de ejecución\n"
      ],
      "metadata": {
        "colab": {
          "base_uri": "https://localhost:8080/"
        },
        "id": "RIOrShUBLAkR",
        "outputId": "e563f6e6-b23b-42db-ee89-dfb6345d9318"
      },
      "execution_count": 6,
      "outputs": [
        {
          "output_type": "stream",
          "name": "stdout",
          "text": [
            "Tiempo con listas: 0.06225919723510742\n"
          ]
        }
      ]
    },
    {
      "cell_type": "markdown",
      "source": [
        "¿Qué pasa en cada línea?\n",
        "\n",
        "1. Crear la lista: Aquí Python reserva memoria y llena la lista con números de 0 a 999,999.\n",
        "\n",
        "2. Guardar tiempo inicial: Tomamos un \"reloj\" en ese instante.\n",
        "\n",
        "3. Multiplicación con bucle: Python recorre uno por uno los elementos y crea otra lista → aquí es donde más tiempo se gasta.\n",
        "\n",
        "4. Tiempo final: Restamos el tiempo actual menos el inicial, obteniendo cuánto tardó el paso 3.\n",
        "\n",
        "Ahora con NumPy:"
      ],
      "metadata": {
        "id": "TzZIT4r3LJne"
      }
    },
    {
      "cell_type": "code",
      "source": [
        "array = np.arange(1_000_000)     # 1. Crear un array con un millón de números\n",
        "start = time.time()              # 2. Guardar el tiempo de inicio\n",
        "doble_array = array * 2          # 3. Multiplicar TODO el array a la vez (vectorización en C)\n",
        "print(\"Tiempo con NumPy:\", time.time() - start)  # 4. Tiempo total"
      ],
      "metadata": {
        "id": "cnEfaz7VLQ3z",
        "colab": {
          "base_uri": "https://localhost:8080/"
        },
        "outputId": "ec92d6a1-e7e9-4333-bba5-574b32befbaf"
      },
      "execution_count": 7,
      "outputs": [
        {
          "output_type": "stream",
          "name": "stdout",
          "text": [
            "Tiempo con NumPy: 0.003941059112548828\n"
          ]
        }
      ]
    },
    {
      "cell_type": "markdown",
      "source": [
        "¿Qué pasa en cada línea?\n",
        "\n",
        "1. Crear el array: Similar a la lista, pero se almacena en memoria contigua y en formato numérico optimizado.\n",
        "\n",
        "2. Tiempo inicial: Igual que antes, empezamos a medir.\n",
        "\n",
        "3. Vectorización: NumPy no hace un for, sino que manda la operación al núcleo en C, y multiplica todos los elementos de golpe → esto es muy rápido.\n",
        "\n",
        "4. Tiempo final: Medimos cuánto tardó (muchísimo menor que con listas)."
      ],
      "metadata": {
        "id": "-vmIL5x4LPwD"
      }
    },
    {
      "cell_type": "markdown",
      "source": [
        "## 3. Vectorización sin bucles"
      ],
      "metadata": {
        "id": "eFl2qL2_TBAH"
      }
    },
    {
      "cell_type": "markdown",
      "source": [
        "\n",
        "\n",
        "La vectorización es una técnica en la que aplicamos operaciones matemáticas o lógicas a un conjunto de datos entero (vector, matriz, array) de una sola vez, en lugar de hacerlo elemento por elemento con un bucle.\n",
        "\n",
        "En palabras simples: en vez de decirle a la computadora “multiplica el primero, después el segundo, después el tercero…”, le dices “multiplica todo el conjunto de una sola vez”.\n",
        "\n",
        "Esto es posible porque librerías como NumPy internamente usan código en C optimizado y aprovechan instrucciones vectoriales de la CPU (SIMD).\n",
        "\n",
        "- Vectorización con bucles (lo tradicional en Python)"
      ],
      "metadata": {
        "id": "9H22EZFaPAgL"
      }
    },
    {
      "cell_type": "code",
      "execution_count": 1,
      "metadata": {
        "colab": {
          "base_uri": "https://localhost:8080/"
        },
        "id": "hZyX4e5qOwCi",
        "outputId": "c71a9298-0d18-4972-804c-4e9cbb073492"
      },
      "outputs": [
        {
          "output_type": "stream",
          "name": "stdout",
          "text": [
            "[2, 4, 6, 8, 10]\n"
          ]
        }
      ],
      "source": [
        "# Multiplicar cada número de una lista por 2\n",
        "lista = [1, 2, 3, 4, 5]\n",
        "doble = []\n",
        "\n",
        "for i in lista:         # Aquí usamos un bucle\n",
        "    doble.append(i * 2)\n",
        "\n",
        "print(doble)  # [2, 4, 6, 8, 10]\n"
      ]
    },
    {
      "cell_type": "markdown",
      "source": [
        "Aquí el programa repite la instrucción *2 para cada elemento. Esto es lento porque Python interpreta cada paso.\n",
        "\n",
        "- Vectorización sin bucles (con NumPy)"
      ],
      "metadata": {
        "id": "5m5ML-1NPojx"
      }
    },
    {
      "cell_type": "code",
      "source": [
        "import numpy as np\n",
        "\n",
        "array = np.array([1, 2, 3, 4, 5])\n",
        "doble = array * 2   # Sin bucles visibles\n",
        "\n",
        "print(doble)  # [ 2  4  6  8 10 ]\n"
      ],
      "metadata": {
        "id": "Tc47v2U1PzLp"
      },
      "execution_count": null,
      "outputs": []
    },
    {
      "cell_type": "markdown",
      "source": [
        "- Vectorización en programación: aplicar operaciones a un conjunto completo de datos en paralelo (aprovechando CPU/GPU).\n",
        "\n",
        "- Vectorización sin bucles: para el programador, no hay for o while; en cambio, se usa una sola instrucción (array * 2, a + b, etc.).\n",
        "\n",
        "- Internamente, sí existen bucles, pero en C y hardware optimizado, muchísimo más rápidos que los bucles de Python."
      ],
      "metadata": {
        "id": "egmSaECRPtDI"
      }
    },
    {
      "cell_type": "markdown",
      "source": [
        "## 4. Ejemplo en Machine Learning"
      ],
      "metadata": {
        "id": "_yuUH4LVTGo1"
      }
    },
    {
      "cell_type": "markdown",
      "source": [
        "\n",
        "\n",
        "Cuando entrenas un modelo, por ejemplo una regresión lineal, tienes que hacer operaciones con vectores y matrices.\n",
        "\n",
        "En Python normal:"
      ],
      "metadata": {
        "id": "SxZt0XtKQNER"
      }
    },
    {
      "cell_type": "code",
      "source": [
        "# Simulando pesos y características\n",
        "x = [1, 2, 3, 4, 5]\n",
        "w = [0.5, 0.2, 0.9, 1.1, 0.3]\n",
        "\n",
        "# producto punto \"a mano\"\n",
        "resultado = 0\n",
        "for i in range(len(x)):\n",
        "    resultado += x[i] * w[i]\n",
        "\n",
        "print(resultado)\n"
      ],
      "metadata": {
        "colab": {
          "base_uri": "https://localhost:8080/"
        },
        "id": "YZf5lXAuQW4f",
        "outputId": "85127232-0aea-4838-ff1a-ba1a5e04650f"
      },
      "execution_count": 8,
      "outputs": [
        {
          "output_type": "stream",
          "name": "stdout",
          "text": [
            "9.5\n"
          ]
        }
      ]
    },
    {
      "cell_type": "markdown",
      "source": [
        "En NumPy:"
      ],
      "metadata": {
        "id": "v8Pz_7RkQXzv"
      }
    },
    {
      "cell_type": "code",
      "source": [
        "import numpy as np\n",
        "\n",
        "x = np.array([1, 2, 3, 4, 5])\n",
        "w = np.array([0.5, 0.2, 0.9, 1.1, 0.3])\n",
        "\n",
        "resultado = np.dot(x, w)\n",
        "print(resultado)\n"
      ],
      "metadata": {
        "colab": {
          "base_uri": "https://localhost:8080/"
        },
        "id": "rC3CI60GQZ3M",
        "outputId": "6d505c91-1d25-4d2f-de08-2889a05f11e8"
      },
      "execution_count": 9,
      "outputs": [
        {
          "output_type": "stream",
          "name": "stdout",
          "text": [
            "9.5\n"
          ]
        }
      ]
    },
    {
      "cell_type": "markdown",
      "source": [
        "Así es como aprendizaje automático usa NumPy para cálculos masivos de manera rápida."
      ],
      "metadata": {
        "id": "q0QhjOZmQdcl"
      }
    },
    {
      "cell_type": "markdown",
      "source": [
        "# SLIDE 69. Adición de Elementos en Numpy"
      ],
      "metadata": {
        "id": "jMWnsD4FTeLr"
      }
    },
    {
      "cell_type": "markdown",
      "source": [
        "---\n",
        "\n",
        "### 🔹 `np.array`\n",
        "\n",
        "Es una función de **NumPy** (la librería de Python para cálculo numérico) que se usa para **crear un arreglo (array) de Numpy**.\n",
        "\n",
        "Un `array` es similar a una lista de Python, pero mucho más eficiente para operaciones matemáticas porque todos los elementos tienen el **mismo tipo de dato** y NumPy puede aprovechar optimizaciones internas.\n",
        "\n",
        "📌 Ejemplo:\n",
        "\n",
        "```python\n",
        "import numpy as np\n",
        "\n",
        "# Crear un array a partir de una lista\n",
        "arr = np.array([1, 2, 3, 4, 5])\n",
        "print(arr)\n",
        "# Resultado: [1 2 3 4 5]\n",
        "\n",
        "# Crear un array bidimensional (matriz)\n",
        "matriz = np.array([[1, 2], [3, 4]])\n",
        "print(matriz)\n",
        "# Resultado:\n",
        "# [[1 2]\n",
        "#  [3 4]]\n",
        "```\n",
        "\n",
        "---\n",
        "\n",
        "### 🔹 `np.append`\n",
        "\n",
        "Sirve para **añadir elementos a un array existente** y devuelve **un nuevo array** (los arrays de NumPy son inmutables en tamaño, así que en realidad no se modifica el original).\n",
        "\n",
        "📌 Ejemplo 1: añadir un valor\n",
        "\n",
        "```python\n",
        "arr = np.array([1, 2, 3])\n",
        "nuevo = np.append(arr, 4)\n",
        "print(nuevo)  \n",
        "# Resultado: [1 2 3 4]\n",
        "```\n",
        "\n",
        "📌 Ejemplo 2: añadir varios valores\n",
        "\n",
        "```python\n",
        "arr = np.array([1, 2, 3])\n",
        "nuevo = np.append(arr, [4, 5, 6])\n",
        "print(nuevo)\n",
        "# Resultado: [1 2 3 4 5 6]\n",
        "```\n",
        "\n",
        "📌 Ejemplo 3: en matrices\n",
        "\n",
        "```python\n",
        "matriz = np.array([[1, 2], [3, 4]])\n",
        "nueva = np.append(matriz, [[5, 6]], axis=0)  # agregar fila\n",
        "print(nueva)\n",
        "# Resultado:\n",
        "# [[1 2]\n",
        "#  [3 4]\n",
        "#  [5 6]]\n",
        "```\n",
        "\n",
        "---\n",
        "\n",
        "✅ En resumen:\n",
        "\n",
        "* `np.array` 👉 crea un array de NumPy.\n",
        "* `np.append` 👉 añade elementos a un array y devuelve uno nuevo.\n"
      ],
      "metadata": {
        "id": "fD4JzrNzTkFT"
      }
    },
    {
      "cell_type": "markdown",
      "source": [
        "# SLIDES 70-72. Conceptos básicos de NumPy Array"
      ],
      "metadata": {
        "id": "ubu1jQiGhIKD"
      }
    },
    {
      "cell_type": "markdown",
      "source": [
        "\n",
        "\n",
        "    ¿Qué es numpy.append()?\n",
        "\n",
        "Es un método de NumPy que sirve para agregar valores a un arreglo (array) existente. A diferencia de las listas en Python, no se usa + para unir, sino este método.\n",
        "\n",
        "    Si el array es 2D (matriz), debes indicar la dirección con el parámetro axis:\n",
        "\n",
        "axis=0 → se agregan filas (extensión vertical).\n",
        "\n",
        "axis=1 → se agregan columnas (extensión horizontal).\n",
        "\n",
        "    np.append() devuelve un nuevo array, no modifica el original. Por eso, es importante que si quieres conservar el cambio, debes asignarlo a una variable.\n",
        "\n"
      ],
      "metadata": {
        "id": "u9KUvJh_hJyw"
      }
    },
    {
      "cell_type": "markdown",
      "source": [
        "*Array* original:"
      ],
      "metadata": {
        "id": "iTATwpN2cQ2D"
      }
    },
    {
      "cell_type": "code",
      "source": [
        "import numpy as np\n",
        "\n",
        "a = np.array([[1, 2],\n",
        "              [3, 4]])\n",
        "print(a)"
      ],
      "metadata": {
        "id": "uIT-1qhPcV71",
        "outputId": "aab1e49a-f0f2-472f-fee5-59e76d83cb98",
        "colab": {
          "base_uri": "https://localhost:8080/"
        }
      },
      "execution_count": null,
      "outputs": [
        {
          "output_type": "stream",
          "name": "stdout",
          "text": [
            "[[1 2]\n",
            " [3 4]]\n"
          ]
        }
      ]
    },
    {
      "cell_type": "markdown",
      "source": [
        "Agregamos una fila con axis=0: (Vertical)"
      ],
      "metadata": {
        "id": "IFdMbZNGcbHa"
      }
    },
    {
      "cell_type": "code",
      "source": [
        "b = np.append(a, [[9, 9]], axis=0)\n",
        "print(b)"
      ],
      "metadata": {
        "id": "JMEvaOsXcp07",
        "outputId": "c87b505b-9121-4edc-83a5-78d36ceea0e5",
        "colab": {
          "base_uri": "https://localhost:8080/"
        }
      },
      "execution_count": null,
      "outputs": [
        {
          "output_type": "stream",
          "name": "stdout",
          "text": [
            "[[1 2]\n",
            " [3 4]\n",
            " [9 9]]\n"
          ]
        }
      ]
    },
    {
      "cell_type": "markdown",
      "source": [
        "Agregamos una fila con axis=1: (Horizontal)\n",
        "\n",
        "> Agregar bloque entrecomillado\n",
        "\n"
      ],
      "metadata": {
        "id": "EUG2sKPcc6Oj"
      }
    },
    {
      "cell_type": "code",
      "source": [
        "c = np.append(a, [[9], [9]], axis=1)\n",
        "print(c)"
      ],
      "metadata": {
        "colab": {
          "base_uri": "https://localhost:8080/"
        },
        "id": "rQukkTtPc92I",
        "outputId": "fb0623b0-72bf-4064-e16a-62517345f44b"
      },
      "execution_count": null,
      "outputs": [
        {
          "output_type": "stream",
          "name": "stdout",
          "text": [
            "[[1 2 9]\n",
            " [3 4 9]]\n"
          ]
        }
      ]
    },
    {
      "cell_type": "markdown",
      "source": [
        "# SLIDES 73-74. Eliminación de Elementos de Matrices Numpy"
      ],
      "metadata": {
        "id": "cFSaOfCIqNY6"
      }
    }
  ]
}