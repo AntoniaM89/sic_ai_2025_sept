{
  "cells": [
    {
      "cell_type": "markdown",
      "metadata": {
        "id": "view-in-github",
        "colab_type": "text"
      },
      "source": [
        "<a href=\"https://colab.research.google.com/github/itscarop-ui/sic_ai_2025_sept/blob/main/2_preprocesamiento/contribuciones_estudiantes/grupo5_exx_4_ex_0103b.ipynb\" target=\"_parent\"><img src=\"https://colab.research.google.com/assets/colab-badge.svg\" alt=\"Open In Colab\"/></a>"
      ]
    },
    {
      "cell_type": "markdown",
      "metadata": {
        "id": "HNxZ4aL1EnSE"
      },
      "source": [
        "Array Transposition"
      ]
    },
    {
      "cell_type": "code",
      "execution_count": null,
      "metadata": {
        "id": "VaWReZgWEnSF"
      },
      "outputs": [],
      "source": [
        "import numpy as np #Se importa la librería numpy con np como apodo para utilizarla más rápido"
      ]
    },
    {
      "cell_type": "code",
      "execution_count": null,
      "metadata": {
        "id": "uRyU4TpNEnSG",
        "outputId": "43cf068c-18a6-406e-a366-45967043a58f",
        "colab": {
          "base_uri": "https://localhost:8080/"
        }
      },
      "outputs": [
        {
          "output_type": "execute_result",
          "data": {
            "text/plain": [
              "array([[ 0,  1,  2,  3,  4],\n",
              "       [ 5,  6,  7,  8,  9],\n",
              "       [10, 11, 12, 13, 14]])"
            ]
          },
          "metadata": {},
          "execution_count": 2
        }
      ],
      "source": [
        "arr=np.arange(15).reshape((3,5)) #Se crea una matriz de dos dimensiones de 3x5 con números del 0 al 14\n",
        "arr"
      ]
    },
    {
      "cell_type": "code",
      "execution_count": null,
      "metadata": {
        "id": "GLEOsP9MEnSG",
        "outputId": "1e17da63-8937-4b03-9bb9-e7d077520a95",
        "colab": {
          "base_uri": "https://localhost:8080/"
        }
      },
      "outputs": [
        {
          "output_type": "execute_result",
          "data": {
            "text/plain": [
              "array([[ 0,  5, 10],\n",
              "       [ 1,  6, 11],\n",
              "       [ 2,  7, 12],\n",
              "       [ 3,  8, 13],\n",
              "       [ 4,  9, 14]])"
            ]
          },
          "metadata": {},
          "execution_count": 3
        }
      ],
      "source": [
        "arr.T # Con este código se traspone la matriz dejandola de 5x3"
      ]
    },
    {
      "cell_type": "code",
      "execution_count": null,
      "metadata": {
        "id": "fWrW47n5EnSH",
        "outputId": "99a3a705-2e29-407b-bc25-ab32ee69d66c",
        "colab": {
          "base_uri": "https://localhost:8080/"
        }
      },
      "outputs": [
        {
          "output_type": "execute_result",
          "data": {
            "text/plain": [
              "array([[-3.35641383,  1.43583814, -0.33053685],\n",
              "       [ 0.21262748, -0.71802597,  0.43836546],\n",
              "       [-0.82622727,  0.5809071 , -0.90938406],\n",
              "       [-0.27439054,  0.25057169, -0.85785276],\n",
              "       [-0.6183831 , -0.96436851, -1.15291873],\n",
              "       [-1.9322816 ,  0.04208619,  0.64958165]])"
            ]
          },
          "metadata": {},
          "execution_count": 4
        }
      ],
      "source": [
        "arr=np.random.randn(6,3) #Se crea una matriz de dos dimensiones de 6x3 de forma aleatoria\n",
        "arr"
      ]
    },
    {
      "cell_type": "code",
      "execution_count": null,
      "metadata": {
        "id": "zC34h_tlEnSH",
        "outputId": "c213a628-5867-46c4-f4e6-ed003186cc33",
        "colab": {
          "base_uri": "https://localhost:8080/"
        }
      },
      "outputs": [
        {
          "output_type": "execute_result",
          "data": {
            "text/plain": [
              "array([[16.18477571, -5.00562799,  1.64714238],\n",
              "       [-5.00562799,  3.90920956, -0.39339954],\n",
              "       [ 1.64714238, -0.39339954,  3.61548753]])"
            ]
          },
          "metadata": {},
          "execution_count": 5
        }
      ],
      "source": [
        "np.dot(arr.T, arr) # Multiplicación de la matriz traspuesta con la original creando una matriz de 3x3, se utiliza para ver la similitud entre la columna 0 y la columna 1"
      ]
    },
    {
      "cell_type": "code",
      "execution_count": null,
      "metadata": {
        "id": "iRM7ZnijEnSH"
      },
      "outputs": [],
      "source": [
        "arr=np.arange(16).reshape(2,2,4) # Crea una matriz tridimensional de 2x2x4 hasta la posición 15"
      ]
    },
    {
      "cell_type": "code",
      "execution_count": null,
      "metadata": {
        "id": "qlqwZbIdEnSH",
        "outputId": "66ba5361-2306-4d60-d7d9-c01cd3eacadc",
        "colab": {
          "base_uri": "https://localhost:8080/"
        }
      },
      "outputs": [
        {
          "output_type": "execute_result",
          "data": {
            "text/plain": [
              "array([[[ 0,  1,  2,  3],\n",
              "        [ 4,  5,  6,  7]],\n",
              "\n",
              "       [[ 8,  9, 10, 11],\n",
              "        [12, 13, 14, 15]]])"
            ]
          },
          "metadata": {},
          "execution_count": 7
        }
      ],
      "source": [
        "arr"
      ]
    },
    {
      "cell_type": "code",
      "execution_count": null,
      "metadata": {
        "id": "d6aEWz9uEnSH",
        "outputId": "224c14fb-1d3a-4d38-9e82-c5e6f2394c00",
        "colab": {
          "base_uri": "https://localhost:8080/"
        }
      },
      "outputs": [
        {
          "output_type": "execute_result",
          "data": {
            "text/plain": [
              "array([[[ 0,  1,  2,  3],\n",
              "        [ 8,  9, 10, 11]],\n",
              "\n",
              "       [[ 4,  5,  6,  7],\n",
              "        [12, 13, 14, 15]]])"
            ]
          },
          "metadata": {},
          "execution_count": 8
        }
      ],
      "source": [
        "arr.transpose((1,0,2)) # Intercambia el eje 0 y el 1 entre ellos. Sigue quedando una matriz de 2x2x4"
      ]
    },
    {
      "cell_type": "code",
      "execution_count": null,
      "metadata": {
        "id": "j8HrKEMJEnSI",
        "outputId": "3703bae1-065f-4a0b-b25e-f356d4a3121e",
        "colab": {
          "base_uri": "https://localhost:8080/"
        }
      },
      "outputs": [
        {
          "output_type": "execute_result",
          "data": {
            "text/plain": [
              "array([[[ 0,  1,  2,  3],\n",
              "        [ 4,  5,  6,  7]],\n",
              "\n",
              "       [[ 8,  9, 10, 11],\n",
              "        [12, 13, 14, 15]]])"
            ]
          },
          "metadata": {},
          "execution_count": 9
        }
      ],
      "source": [
        "arr # Imprime la matriz"
      ]
    },
    {
      "cell_type": "code",
      "execution_count": null,
      "metadata": {
        "id": "81knFlOAEnSI",
        "outputId": "fa506031-7adf-4e3e-b2ac-ec36aa205c2d",
        "colab": {
          "base_uri": "https://localhost:8080/"
        }
      },
      "outputs": [
        {
          "output_type": "execute_result",
          "data": {
            "text/plain": [
              "array([[[ 0,  4],\n",
              "        [ 1,  5],\n",
              "        [ 2,  6],\n",
              "        [ 3,  7]],\n",
              "\n",
              "       [[ 8, 12],\n",
              "        [ 9, 13],\n",
              "        [10, 14],\n",
              "        [11, 15]]])"
            ]
          },
          "metadata": {},
          "execution_count": 10
        }
      ],
      "source": [
        "arr.swapaxes(1,2) #Intercambia el eje 1 con el 2. útil en arrays de más de 2 dimensiones, cambiando la dimensión de la matriz, quedando en 4x4x2"
      ]
    },
    {
      "cell_type": "code",
      "execution_count": null,
      "metadata": {
        "id": "4ANct7HlEnSI"
      },
      "outputs": [],
      "source": []
    }
  ],
  "metadata": {
    "kernelspec": {
      "display_name": "Python 3 (ipykernel)",
      "language": "python",
      "name": "python3"
    },
    "language_info": {
      "codemirror_mode": {
        "name": "ipython",
        "version": 3
      },
      "file_extension": ".py",
      "mimetype": "text/x-python",
      "name": "python",
      "nbconvert_exporter": "python",
      "pygments_lexer": "ipython3",
      "version": "3.10.11"
    },
    "colab": {
      "provenance": [],
      "include_colab_link": true
    }
  },
  "nbformat": 4,
  "nbformat_minor": 0
}