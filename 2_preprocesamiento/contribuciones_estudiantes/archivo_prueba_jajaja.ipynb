{
  "nbformat": 4,
  "nbformat_minor": 0,
  "metadata": {
    "colab": {
      "provenance": [],
      "authorship_tag": "ABX9TyOBhpEEuvhnwvWN39atVXg8",
      "include_colab_link": true
    },
    "kernelspec": {
      "name": "python3",
      "display_name": "Python 3"
    },
    "language_info": {
      "name": "python"
    }
  },
  "cells": [
    {
      "cell_type": "markdown",
      "metadata": {
        "id": "view-in-github",
        "colab_type": "text"
      },
      "source": [
        "<a href=\"https://colab.research.google.com/github/itscarop-ui/sic_ai_2025_sept/blob/main/2_preprocesamiento/contribuciones_estudiantes/archivo_prueba_jajaja.ipynb\" target=\"_parent\"><img src=\"https://colab.research.google.com/assets/colab-badge.svg\" alt=\"Open In Colab\"/></a>"
      ]
    },
    {
      "cell_type": "code",
      "execution_count": null,
      "metadata": {
        "id": "gfPRgG7O-prS",
        "outputId": "004ed926-4006-45f9-e907-a587781f0a4c",
        "colab": {
          "base_uri": "https://localhost:8080/"
        }
      },
      "outputs": [
        {
          "output_type": "stream",
          "name": "stdout",
          "text": [
            "[[1 1 2 2]\n",
            " [1 1 2 2]\n",
            " [3 4 7 8]\n",
            " [5 6 9 0]]\n",
            "[[1 1 2 2]\n",
            " [1 1 2 2]\n",
            " [3 4 7 8]\n",
            " [5 6 9 0]]\n",
            "[[1 1 2 2]\n",
            " [1 1 2 2]\n",
            " [3 4 7 8]\n",
            " [5 6 9 0]]\n"
          ]
        }
      ],
      "source": [
        "import numpy as np\n",
        "\n",
        "A = np.asmatrix('1 1; 1 1')\n",
        "B = np.asmatrix('2 2; 2 2')\n",
        "C = np.asmatrix('3 4; 5 6')\n",
        "D = np.asmatrix('7 8; 9 0')\n",
        "\n",
        "# 1. Con lista anidada\n",
        "print(np.bmat([[A, B], [C, D]]))\n",
        "\n",
        "# 2. Usando np.r_ y np.c_\n",
        "print(np.bmat(np.r_[np.c_[A, B], np.c_[C, D]]))\n",
        "\n",
        "# 3. Usando string\n",
        "print(np.bmat('A,B; C,D'))\n"
      ]
    },
    {
      "cell_type": "code",
      "source": [
        "### jeanmelys navarro"
      ],
      "metadata": {
        "id": "fvr9lU0M-q0G"
      },
      "execution_count": null,
      "outputs": []
    }
  ]
}