{
  "nbformat": 4,
  "nbformat_minor": 0,
  "metadata": {
    "colab": {
      "provenance": [],
      "authorship_tag": "ABX9TyMpCTqfhihik/SZjpMK7wSQ",
      "include_colab_link": true
    },
    "kernelspec": {
      "name": "python3",
      "display_name": "Python 3"
    },
    "language_info": {
      "name": "python"
    }
  },
  "cells": [
    {
      "cell_type": "markdown",
      "metadata": {
        "id": "view-in-github",
        "colab_type": "text"
      },
      "source": [
        "<a href=\"https://colab.research.google.com/github/camccl/sic_ai_2025_sept/blob/main/2_preprocesamiento/contribuciones_estudiantes/CH4_ejercicio_grupal.ipynb\" target=\"_parent\"><img src=\"https://colab.research.google.com/assets/colab-badge.svg\" alt=\"Open In Colab\"/></a>"
      ]
    },
    {
      "cell_type": "code",
      "source": [
        "import numpy as np"
      ],
      "metadata": {
        "id": "luJSeqG-93Go"
      },
      "execution_count": null,
      "outputs": []
    },
    {
      "cell_type": "markdown",
      "source": [
        "## Ejercicio express\n"
      ],
      "metadata": {
        "id": "b4Fbk31OACT6"
      }
    },
    {
      "cell_type": "code",
      "source": [],
      "metadata": {
        "id": "d0P0EKDt23Hc"
      },
      "execution_count": null,
      "outputs": []
    }
  ]
}