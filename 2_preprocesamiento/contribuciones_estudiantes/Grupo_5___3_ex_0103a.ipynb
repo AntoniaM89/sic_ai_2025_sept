{
  "cells": [
    {
      "cell_type": "markdown",
      "metadata": {
        "id": "view-in-github",
        "colab_type": "text"
      },
      "source": [
        "<a href=\"https://colab.research.google.com/github/Maria-Saldivia/sic_ai_2025_sept/blob/main/2_preprocesamiento/contribuciones_estudiantes/Grupo_5___3_ex_0103a.ipynb\" target=\"_parent\"><img src=\"https://colab.research.google.com/assets/colab-badge.svg\" alt=\"Open In Colab\"/></a>"
      ]
    },
    {
      "cell_type": "markdown",
      "metadata": {
        "id": "NOlIgwGAEaMI"
      },
      "source": [
        "## ¿Qué es un array de NumPy?\n",
        "\n",
        "Un **array de NumPy** es una estructura de datos proporcionada por la biblioteca **NumPy** en Python. Está diseñado para trabajar de forma eficiente con **grandes volúmenes de datos numéricos**.\n",
        "\n",
        "### 🧮 Características principales\n",
        "\n",
        "- Es similar a una **lista** de Python, pero mucho más **eficiente** para operaciones matemáticas.\n",
        "- Todos los elementos son del **mismo tipo de dato** (por ejemplo, todos `int` o todos `float`).\n",
        "- Puede tener múltiples dimensiones:\n",
        "  - 1D: Vector\n",
        "  - 2D: Matriz\n",
        "  - 3D o más: Tensor (usado en machine learning, deep learning, etc.)\n",
        "\n",
        "---\n",
        "\n",
        "### 📦 Ejemplo básico\n",
        "\n",
        "```python\n",
        "import numpy as np\n",
        "\n",
        "# Crear un array de 1 dimensión\n",
        "a = np.array([1, 2, 3, 4])\n",
        "\n",
        "# Crear un array de 2 dimensiones (matriz)\n",
        "b = np.array([[1, 2], [3, 4]])\n"
      ]
    },
    {
      "cell_type": "code",
      "execution_count": null,
      "metadata": {
        "id": "lm0r1v86EaMJ"
      },
      "outputs": [],
      "source": [
        "import numpy as np  #Importar la librería"
      ]
    },
    {
      "cell_type": "code",
      "execution_count": null,
      "metadata": {
        "id": "LxbQPtkBEaMK"
      },
      "outputs": [],
      "source": [
        "a = np.array([1, 2, 3, 4, 5])\t\t# A one dimensional NumPy array. Que sería un VECTOR. Se crea un arreglo de una dimensión"
      ]
    },
    {
      "cell_type": "code",
      "execution_count": null,
      "metadata": {
        "id": "vKHwYbhZEaMK",
        "outputId": "8f90ac68-9c96-47a0-a66c-0b5a82dbe901",
        "colab": {
          "base_uri": "https://localhost:8080/"
        }
      },
      "outputs": [
        {
          "output_type": "execute_result",
          "data": {
            "text/plain": [
              "array([1, 2, 3])"
            ]
          },
          "metadata": {},
          "execution_count": 3
        }
      ],
      "source": [
        "a[:3]\t\t\t\t\t\t\t# From the index 0 up to the index 1 (excluding 2).  Muestra el dato que que se encuentra en el índice 0 y 1"
      ]
    },
    {
      "cell_type": "code",
      "execution_count": null,
      "metadata": {
        "id": "m8dm1JSAEaML",
        "outputId": "97f5d86c-d638-4913-f759-266668edb3c6",
        "colab": {
          "base_uri": "https://localhost:8080/"
        }
      },
      "outputs": [
        {
          "output_type": "execute_result",
          "data": {
            "text/plain": [
              "np.int64(5)"
            ]
          },
          "metadata": {},
          "execution_count": 4
        }
      ],
      "source": [
        "a[-1] # Muestra el último número del arreglo"
      ]
    },
    {
      "cell_type": "code",
      "execution_count": null,
      "metadata": {
        "id": "BA8Wpj8nEaMM",
        "outputId": "2d4994b0-fe5c-41ac-e5bd-372f0d84d846",
        "colab": {
          "base_uri": "https://localhost:8080/"
        }
      },
      "outputs": [
        {
          "output_type": "execute_result",
          "data": {
            "text/plain": [
              "array([1, 2, 3, 4, 5])"
            ]
          },
          "metadata": {},
          "execution_count": 5
        }
      ],
      "source": [
        "a[:] #Muestra todo el arreglo ya que   Slicing: seleccionar por rangos."
      ]
    },
    {
      "cell_type": "code",
      "execution_count": null,
      "metadata": {
        "id": "VprCArz7EaMM"
      },
      "outputs": [],
      "source": [
        "a = np.array([[1, 2, 3], [4, 5, 6], [7, 8, 9]])\t# This is a 3 x 3 two dimensional array (matrix). Se crea una matriz de dos dimensiones de 3x3"
      ]
    },
    {
      "cell_type": "code",
      "execution_count": null,
      "metadata": {
        "id": "7b_SciTQEaMM",
        "outputId": "bc55b77a-89c0-4ac0-e3b4-756af172cc60",
        "colab": {
          "base_uri": "https://localhost:8080/"
        }
      },
      "outputs": [
        {
          "output_type": "execute_result",
          "data": {
            "text/plain": [
              "array([4, 5, 6])"
            ]
          },
          "metadata": {},
          "execution_count": 7
        }
      ],
      "source": [
        "a[1]\t\t\t\t# The row 1. FILA 1 COMPLETA"
      ]
    },
    {
      "cell_type": "code",
      "execution_count": null,
      "metadata": {
        "id": "xW3keLHBEaMN",
        "outputId": "ddf974a3-4f3a-4d1c-a3a9-5b30e6c65f87",
        "colab": {
          "base_uri": "https://localhost:8080/"
        }
      },
      "outputs": [
        {
          "output_type": "execute_result",
          "data": {
            "text/plain": [
              "array([7, 8, 9])"
            ]
          },
          "metadata": {},
          "execution_count": 8
        }
      ],
      "source": [
        "a[-1]\t\t\t\t# The last row. ULTIMA FILA"
      ]
    },
    {
      "cell_type": "markdown",
      "source": [
        "## 📌 `a[:]` en Python\n",
        "\n",
        "`a[:]` es una operación de **slicing** (segmentación o corte) que selecciona **todos los elementos** de un array o lista, desde el primero hasta el último.\n",
        "\n",
        "Se le puede agregar posiciones"
      ],
      "metadata": {
        "id": "YBQDpYCCNMH9"
      }
    },
    {
      "cell_type": "code",
      "execution_count": null,
      "metadata": {
        "id": "l1N8VHxoEaMN",
        "outputId": "d9cafaf3-71bd-40bb-f43b-44155959210a",
        "colab": {
          "base_uri": "https://localhost:8080/"
        }
      },
      "outputs": [
        {
          "output_type": "execute_result",
          "data": {
            "text/plain": [
              "array([[1, 2, 3],\n",
              "       [4, 5, 6],\n",
              "       [7, 8, 9]])"
            ]
          },
          "metadata": {},
          "execution_count": 9
        }
      ],
      "source": [
        "a[:]\t\t\t\t# The whole array (matrix). TODA LA MATRIZ"
      ]
    },
    {
      "cell_type": "code",
      "execution_count": null,
      "metadata": {
        "id": "Pkfgh4BVEaMN",
        "outputId": "4aa126b9-81bd-4365-ac3a-c40316c86374",
        "colab": {
          "base_uri": "https://localhost:8080/"
        }
      },
      "outputs": [
        {
          "output_type": "execute_result",
          "data": {
            "text/plain": [
              "array([[1, 2, 3],\n",
              "       [4, 5, 6]])"
            ]
          },
          "metadata": {},
          "execution_count": 10
        }
      ],
      "source": [
        "a[:2]\t\t\t\t# From the row 0 to the row 1 (excluding the row 2)."
      ]
    },
    {
      "cell_type": "code",
      "execution_count": null,
      "metadata": {
        "id": "10WzcetgEaMN",
        "outputId": "1927e28d-4ab8-4469-aa0d-03b219cc7af0",
        "colab": {
          "base_uri": "https://localhost:8080/"
        }
      },
      "outputs": [
        {
          "output_type": "execute_result",
          "data": {
            "text/plain": [
              "np.int64(8)"
            ]
          },
          "metadata": {},
          "execution_count": 11
        }
      ],
      "source": [
        "a[2][1]\t\t\t# The element from the row 2 and the column 1."
      ]
    },
    {
      "cell_type": "code",
      "execution_count": null,
      "metadata": {
        "id": "5TC6aUMnEaMN",
        "outputId": "569ef118-7249-4060-b658-ecc930008a71",
        "colab": {
          "base_uri": "https://localhost:8080/"
        }
      },
      "outputs": [
        {
          "output_type": "execute_result",
          "data": {
            "text/plain": [
              "np.int64(8)"
            ]
          },
          "metadata": {},
          "execution_count": 12
        }
      ],
      "source": [
        "a[2, 1]\t\t\t# The same as above."
      ]
    },
    {
      "cell_type": "code",
      "execution_count": null,
      "metadata": {
        "id": "WqcU-yv-EaMO",
        "outputId": "00c3eb98-1db8-4a77-f5ef-ae8651f5a671",
        "colab": {
          "base_uri": "https://localhost:8080/"
        }
      },
      "outputs": [
        {
          "output_type": "execute_result",
          "data": {
            "text/plain": [
              "array([[1, 2, 3],\n",
              "       [7, 8, 9]])"
            ]
          },
          "metadata": {},
          "execution_count": 13
        }
      ],
      "source": [
        "a[[0, 2]]\t\t\t# The rows 0 and 2."
      ]
    },
    {
      "cell_type": "code",
      "execution_count": null,
      "metadata": {
        "id": "NH-Jd-bTEaMO",
        "outputId": "36f2bbd2-7172-484d-db5c-360d1519768f",
        "colab": {
          "base_uri": "https://localhost:8080/"
        }
      },
      "outputs": [
        {
          "output_type": "execute_result",
          "data": {
            "text/plain": [
              "array([[5, 6],\n",
              "       [8, 9]])"
            ]
          },
          "metadata": {},
          "execution_count": 14
        }
      ],
      "source": [
        "a[1:, 1:]\t\t\t# From the row 1 to the end. From the column 1 to the end."
      ]
    },
    {
      "cell_type": "markdown",
      "metadata": {
        "id": "TAuEyA-WEaMO"
      },
      "source": [
        "## 🧠 Resumen: Filtrado de arrays con máscaras booleanas (NumPy)\n",
        "\n",
        "### 📌 ¿Qué es una máscara booleana?\n",
        "Una **máscara booleana** es un array de `True`/`False` que permite **filtrar elementos** de otro array usando condiciones lógicas.\n",
        "Este método de acceso se conoce como **fancy indexing**.\n",
        "---\n",
        "\n",
        "### 🧪 Ejemplo\n",
        "\n",
        "```python\n",
        "import numpy as np\n",
        "\n",
        "arr = np.arange(100)  # Array de 0 a 99\n",
        "\n",
        "# 1. Múltiplos de 5\n",
        "mask = (arr % 5 == 0)\n",
        "arr[mask]\n",
        "\n",
        "# 2. Múltiplos de 5 y mayores a 0\n",
        "mask = ((arr % 5 == 0) & (arr > 0))\n",
        "arr[mask]\n"
      ]
    },
    {
      "cell_type": "code",
      "execution_count": null,
      "metadata": {
        "id": "syOUkzw0EaMO"
      },
      "outputs": [],
      "source": [
        "arr = np.arange(100)\t\t# A sequence from 0 to 99."
      ]
    },
    {
      "cell_type": "code",
      "execution_count": null,
      "metadata": {
        "id": "d_IZk43fEaMO"
      },
      "outputs": [],
      "source": [
        "arrMask = ((arr % 5) == 0) \t\t# A Boolean array. True if multiple of 5, else False."
      ]
    },
    {
      "cell_type": "code",
      "execution_count": null,
      "metadata": {
        "id": "Eq--EHjdEaMO",
        "outputId": "a420af38-2d70-4931-bfc7-fc74541374f0",
        "colab": {
          "base_uri": "https://localhost:8080/"
        }
      },
      "outputs": [
        {
          "output_type": "execute_result",
          "data": {
            "text/plain": [
              "array([ 0,  5, 10, 15, 20, 25, 30, 35, 40, 45, 50, 55, 60, 65, 70, 75, 80,\n",
              "       85, 90, 95])"
            ]
          },
          "metadata": {},
          "execution_count": 17
        }
      ],
      "source": [
        "arr[arrMask]\t\t\t# Apply fancy indexing."
      ]
    },
    {
      "cell_type": "code",
      "execution_count": null,
      "metadata": {
        "id": "lA7yWDg5EaMO"
      },
      "outputs": [],
      "source": [
        "arrMask = ( ( (arr % 5) == 0 )  & ( arr >0) )\t# A Boolean array. True if multiple of 5 or 0, else False."
      ]
    },
    {
      "cell_type": "code",
      "execution_count": null,
      "metadata": {
        "id": "-NWlZNSAEaMO",
        "outputId": "e58c0753-a8cd-47ce-b9db-74ebc5012442",
        "colab": {
          "base_uri": "https://localhost:8080/"
        }
      },
      "outputs": [
        {
          "output_type": "execute_result",
          "data": {
            "text/plain": [
              "array([ 5, 10, 15, 20, 25, 30, 35, 40, 45, 50, 55, 60, 65, 70, 75, 80, 85,\n",
              "       90, 95])"
            ]
          },
          "metadata": {},
          "execution_count": 19
        }
      ],
      "source": [
        "arr[arrMask]\t\t\t# Apply fancy indexing."
      ]
    },
    {
      "cell_type": "markdown",
      "metadata": {
        "id": "q9bMEpw8EaMP"
      },
      "source": [
        "## 🧠 Resumen: Boolean Indexing en NumPy\n",
        "\n",
        "### 📌 ¿Qué es?\n",
        "El **boolean indexing** permite filtrar elementos de un array usando una condición lógica que devuelve un array de `True`/`False`.\n",
        "\n",
        "---\n",
        "\n",
        "### 🧪 Ejemplo rápido\n",
        "\n",
        "```python\n",
        "test_a = np.array([1, 4, 0, 2, 3, 8, 9, 7])\n",
        "test_a[test_a > 3]\n",
        "\n"
      ]
    },
    {
      "cell_type": "code",
      "execution_count": null,
      "metadata": {
        "id": "jr-14b23EaMP"
      },
      "outputs": [],
      "source": [
        "test_a = np.array([1,4,0,2,3,8,9,7])"
      ]
    },
    {
      "cell_type": "code",
      "execution_count": null,
      "metadata": {
        "id": "EONBofXeEaMP",
        "outputId": "e0ab7bb9-8bc4-44eb-aa0d-27be67d25fc9",
        "colab": {
          "base_uri": "https://localhost:8080/"
        }
      },
      "outputs": [
        {
          "output_type": "execute_result",
          "data": {
            "text/plain": [
              "array([1, 4, 0, 2, 3, 8, 9, 7])"
            ]
          },
          "metadata": {},
          "execution_count": 21
        }
      ],
      "source": [
        "test_a"
      ]
    },
    {
      "cell_type": "code",
      "execution_count": null,
      "metadata": {
        "id": "z4loDOx9EaMP"
      },
      "outputs": [],
      "source": [
        "#The boolean value for whether the value is greater or less than 3 among each element in test_a."
      ]
    },
    {
      "cell_type": "code",
      "execution_count": null,
      "metadata": {
        "id": "6Mf4UyO_EaMP",
        "outputId": "d6a1a817-8d77-4788-b4f2-04d85198c6ef",
        "colab": {
          "base_uri": "https://localhost:8080/"
        }
      },
      "outputs": [
        {
          "output_type": "execute_result",
          "data": {
            "text/plain": [
              "array([False,  True, False, False, False,  True,  True,  True])"
            ]
          },
          "metadata": {},
          "execution_count": 23
        }
      ],
      "source": [
        "test_a > 3  # Muestra el array pero mostrando si cumple o no la condición"
      ]
    },
    {
      "cell_type": "code",
      "execution_count": null,
      "metadata": {
        "id": "9M7UQMd3EaMP",
        "outputId": "8835550c-74ed-4fb7-adf4-3dba4a0fcedf",
        "colab": {
          "base_uri": "https://localhost:8080/"
        }
      },
      "outputs": [
        {
          "output_type": "execute_result",
          "data": {
            "text/plain": [
              "array([4, 8, 9, 7])"
            ]
          },
          "metadata": {},
          "execution_count": 24
        }
      ],
      "source": [
        "test_a[test_a>3]"
      ]
    },
    {
      "cell_type": "markdown",
      "source": [
        "Slicing: seleccionar por rangos.\n",
        "\n",
        "Fancy indexing: seleccionar usando listas o máscaras booleanas complejas.\n",
        "\n",
        "Boolean indexing: filtrar directamente según condiciones lógicas."
      ],
      "metadata": {
        "id": "1IWOsc9qLHVH"
      }
    }
  ],
  "metadata": {
    "kernelspec": {
      "display_name": "Python 3 (ipykernel)",
      "language": "python",
      "name": "python3"
    },
    "language_info": {
      "codemirror_mode": {
        "name": "ipython",
        "version": 3
      },
      "file_extension": ".py",
      "mimetype": "text/x-python",
      "name": "python",
      "nbconvert_exporter": "python",
      "pygments_lexer": "ipython3",
      "version": "3.10.11"
    },
    "colab": {
      "provenance": [],
      "include_colab_link": true
    }
  },
  "nbformat": 4,
  "nbformat_minor": 0
}