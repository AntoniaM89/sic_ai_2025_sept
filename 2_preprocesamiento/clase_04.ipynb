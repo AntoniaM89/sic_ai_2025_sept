{
  "nbformat": 4,
  "nbformat_minor": 0,
  "metadata": {
    "colab": {
      "provenance": [],
      "authorship_tag": "ABX9TyNqv4hfCwVy+3qlPqPMBYtk",
      "include_colab_link": true
    },
    "kernelspec": {
      "name": "python3",
      "display_name": "Python 3"
    },
    "language_info": {
      "name": "python"
    }
  },
  "cells": [
    {
      "cell_type": "markdown",
      "metadata": {
        "id": "view-in-github",
        "colab_type": "text"
      },
      "source": [
        "<a href=\"https://colab.research.google.com/github/davidlealo/sic_ai_2025_sept/blob/main/2_preprocesamiento/clase_04.ipynb\" target=\"_parent\"><img src=\"https://colab.research.google.com/assets/colab-badge.svg\" alt=\"Open In Colab\"/></a>"
      ]
    },
    {
      "cell_type": "markdown",
      "source": [
        "# Clase 4\n",
        "\n",
        "Comprender y preparar una explicación con código del fragmento/parte de la presentación asignada.\n",
        "\n",
        "El código debe ser compartido en '2_preprocesamiento/contribuciones_estudiantes'\n",
        "\n",
        "Trabajo en grupos:\n",
        "\n",
        "GRUPO 1: Slide 62 - 74\n",
        "\n",
        "GRUPO 2: Slide 76 - 106\n",
        "\n",
        "GRUPO 3: Slide 107 - 114 (INCLUIR\n",
        "https://drive.google.com/file/d/1BXSvLmXWNtXjr2d0Kq8C34X-rKQhgigi/view?usp=drive_link\n",
        "\n",
        "https://drive.google.com/file/d/1BzV3rWjjco0reAj88-D3dN5DtouWze7k/view?usp=drive_link )\n",
        "\n",
        "GRUPO 4: Slide 116 - 137\n",
        "\n",
        "GRUPO 5: Slide 139 - 148 (INCLUIR\n",
        "https://drive.google.com/file/d/1CRoFJuDV16DHEB0AF3rkLDUqPEJ0fh0-/view?usp=drive_link\n",
        "\n",
        "https://drive.google.com/file/d/1BqaA7A1DABgqOe1-o2sIp688VRWqYqya/view?usp=drive_link\n",
        ")\n",
        "\n"
      ],
      "metadata": {
        "id": "ysLnTnhZ2Joz"
      }
    },
    {
      "cell_type": "code",
      "execution_count": null,
      "metadata": {
        "id": "l6mSVjpb2CnH"
      },
      "outputs": [],
      "source": []
    }
  ]
}