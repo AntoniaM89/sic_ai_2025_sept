{
  "nbformat": 4,
  "nbformat_minor": 0,
  "metadata": {
    "colab": {
      "provenance": [],
      "authorship_tag": "ABX9TyM7DZvkREuCLLTWJ2wXtorz",
      "include_colab_link": true
    },
    "kernelspec": {
      "name": "python3",
      "display_name": "Python 3"
    },
    "language_info": {
      "name": "python"
    }
  },
  "cells": [
    {
      "cell_type": "markdown",
      "metadata": {
        "id": "view-in-github",
        "colab_type": "text"
      },
      "source": [
        "<a href=\"https://colab.research.google.com/github/davidlealo/sic_ai_2025_sept/blob/main/2_preprocesamiento/clase_03.ipynb\" target=\"_parent\"><img src=\"https://colab.research.google.com/assets/colab-badge.svg\" alt=\"Open In Colab\"/></a>"
      ]
    },
    {
      "cell_type": "markdown",
      "source": [
        "# Guía completa: ¿Por qué usamos NumPy en Python?\n",
        "\n",
        "## 1. Python y la ausencia de arrays nativos\n",
        "Python fue diseñado como un lenguaje de propósito general, sencillo de leer y muy flexible.  \n",
        "En su versión base ofrece **listas (`list`)**, que permiten guardar distintos tipos de datos en una sola colección.  \n",
        "\n",
        "Sin embargo:\n",
        "- No existe un **tipo de array numérico nativo** optimizado como en C (`int[]`) o Java (`double[]`).\n",
        "- Las listas son estructuras versátiles, pero **ineficientes para cálculos numéricos de gran escala**.\n",
        "- Procesar grandes volúmenes de datos en ciencia, estadística o machine learning era muy lento y costoso en memoria.\n",
        "\n",
        "**Ejemplo con listas de Python:**\n",
        "```python\n",
        "lista = [1, 2, 3, 4, 5]\n",
        "lista_doble = [x*2 for x in lista]\n",
        "print(lista_doble)  # [2, 4, 6, 8, 10]\n",
        "```\n",
        "\n",
        "Aunque funciona, detrás de escena hay mucho procesamiento innecesario.\n",
        "\n",
        "---\n",
        "\n",
        "## 2. ¿Qué es NumPy?\n",
        "**NumPy (Numerical Python)** es una librería de código abierto que introduce:\n",
        "\n",
        "- Un nuevo tipo de dato: **ndarray** (N-dimensional array).\n",
        "- Funciones optimizadas para **cálculo numérico, álgebra lineal y estadísticas**.\n",
        "- Operaciones vectorizadas que reemplazan bucles explícitos en Python.\n",
        "- Integración con librerías en C y Fortran, lo que le da un gran rendimiento.\n",
        "\n",
        "El **array de NumPy** es:\n",
        "- Homogéneo: todos los elementos son del mismo tipo (`int32`, `float64`, etc.).\n",
        "- Contiguo: los datos se guardan en bloques continuos de memoria.\n",
        "- Multidimensional: permite vectores, matrices y tensores.\n",
        "\n",
        "---\n",
        "\n",
        "## 3. Breve historia\n",
        "- Años 90: surge **Numeric**, la primera librería para cálculos numéricos en Python.\n",
        "- Luego aparece **Numarray**, pensada para arrays grandes.\n",
        "- En 2005, **Travis Oliphant** unifica ambos proyectos creando **NumPy**.\n",
        "- Hoy es la **base del ecosistema científico y de IA en Python**, usado por:\n",
        "  - **pandas** (análisis de datos),\n",
        "  - **scikit-learn** (machine learning),\n",
        "  - **TensorFlow y PyTorch** (deep learning).\n",
        "\n",
        "---\n",
        "\n",
        "## 4. Ejemplo básico con NumPy\n",
        "```python\n",
        "import numpy as np\n",
        "\n",
        "# Crear un array\n",
        "arr = np.array([1, 2, 3, 4, 5])\n",
        "\n",
        "# Operaciones rápidas\n",
        "print(arr * 2)     # [ 2  4  6  8 10]\n",
        "print(arr + 10)    # [11 12 13 14 15]\n",
        "print(arr ** 2)    # [ 1  4  9 16 25]\n",
        "print(arr.mean())  # 3.0\n",
        "```\n",
        "\n",
        "Diferencia clave: no se necesitan bucles, todo es **vectorizado**.\n",
        "\n",
        "---\n",
        "\n",
        "## 5. Comparación de memoria\n",
        "```python\n",
        "import sys\n",
        "import numpy as np\n",
        "\n",
        "lista = list(range(1000))\n",
        "array = np.arange(1000)\n",
        "\n",
        "print(\"Tamaño lista:\", sys.getsizeof(lista))    # más grande\n",
        "print(\"Tamaño array:\", array.nbytes)           # más compacto\n",
        "```\n",
        "\n",
        "**Resultado típico:**\n",
        "- Lista: ~8,000 bytes  \n",
        "- Array NumPy: ~4,000 bytes  \n",
        "\n",
        "👉 NumPy usa menos memoria.\n",
        "\n",
        "---\n",
        "\n",
        "## 6. Comparación de velocidad\n",
        "```python\n",
        "import time\n",
        "import numpy as np\n",
        "\n",
        "# Lista de Python\n",
        "lista = list(range(1_000_000))\n",
        "start = time.time()\n",
        "[x*2 for x in lista]\n",
        "print(\"Tiempo lista:\", time.time() - start)\n",
        "\n",
        "# Array NumPy\n",
        "array = np.arange(1_000_000)\n",
        "start = time.time()\n",
        "array * 2\n",
        "print(\"Tiempo NumPy:\", time.time() - start)\n",
        "```\n",
        "\n",
        "**Resultado típico:**\n",
        "- Lista: ~0.2 segundos  \n",
        "- NumPy: ~0.01 segundos  \n",
        "\n",
        "👉 NumPy puede ser hasta **20 veces más rápido**.\n",
        "\n",
        "---\n",
        "\n",
        "## 7. Operaciones vectorizadas\n",
        "```python\n",
        "import numpy as np\n",
        "\n",
        "arr = np.array([1, 2, 3, 4, 5])\n",
        "\n",
        "print(arr + 100)     # [101 102 103 104 105]\n",
        "print(arr - 1)       # [0 1 2 3 4]\n",
        "print(arr * arr)     # [ 1  4  9 16 25]\n",
        "print(arr / 2)       # [0.5 1.  1.5 2.  2.5]\n",
        "```\n",
        "\n",
        "Esto se llama **vectorización**:  \n",
        "- Código más corto.  \n",
        "- Ejecución más rápida.  \n",
        "- Sintaxis más matemática.  \n",
        "\n",
        "---\n",
        "\n",
        "## 8. Analogía para estudiantes\n",
        "- **Listas de Python**: repartir libros mesa por mesa (un bucle manual).  \n",
        "- **NumPy**: llegar con una caja con todos los libros ya ordenados y dejarla en la sala (operación en bloque).  \n",
        "\n",
        "👉 Menos trabajo, más eficiencia.\n",
        "\n",
        "---\n",
        "\n",
        "## 9. Recursos oficiales\n",
        "- Sitio web: [https://numpy.org](https://numpy.org)  \n",
        "- Documentación: [https://numpy.org/doc](https://numpy.org/doc)  \n",
        "- Repositorio en GitHub: [https://github.com/numpy/numpy](https://github.com/numpy/numpy)  \n",
        "- Historia: [https://numpy.org/history/](https://numpy.org/history/)\n",
        "\n",
        "---\n",
        "\n",
        "## 10. Resumen final\n",
        "1. Python no incluye arrays numéricos eficientes de forma nativa.  \n",
        "2. NumPy introduce **ndarray**, un tipo optimizado para cálculos científicos.  \n",
        "3. Nace en 2005 al unificar Numeric y Numarray.  \n",
        "4. Sus ventajas: **menos memoria, mayor velocidad, operaciones vectorizadas**.  \n",
        "5. Hoy es la base de gran parte de la ciencia de datos e inteligencia artificial.  \n",
        "\n",
        "**Frase para recordar:**  \n",
        "*\"Si Python es el lenguaje, NumPy es la herramienta que lo hace apto para la ciencia de datos y la inteligencia artificial.\"*\n"
      ],
      "metadata": {
        "id": "aIDHJNfgknuf"
      }
    },
    {
      "cell_type": "code",
      "execution_count": 1,
      "metadata": {
        "colab": {
          "base_uri": "https://localhost:8080/"
        },
        "id": "AkS4yg3MklUd",
        "outputId": "a89c0c33-7f99-4a2c-a5bc-a16c6328bf9d"
      },
      "outputs": [
        {
          "output_type": "stream",
          "name": "stdout",
          "text": [
            "<class 'int'>\n"
          ]
        }
      ],
      "source": [
        "# Tipos de datos\n",
        "\n",
        "entero = 1\n",
        "\n",
        "print(type(entero))"
      ]
    },
    {
      "cell_type": "code",
      "source": [
        "pi = 3.14\n",
        "\n",
        "print(type(pi))"
      ],
      "metadata": {
        "colab": {
          "base_uri": "https://localhost:8080/"
        },
        "id": "RHHdQlDbuTmR",
        "outputId": "b1f0bc6c-6a74-42bc-aed5-6092e0be4852"
      },
      "execution_count": 2,
      "outputs": [
        {
          "output_type": "stream",
          "name": "stdout",
          "text": [
            "<class 'float'>\n"
          ]
        }
      ]
    },
    {
      "cell_type": "code",
      "source": [
        "entero_uno = 1.0\n",
        "\n",
        "print(type(entero_uno))"
      ],
      "metadata": {
        "colab": {
          "base_uri": "https://localhost:8080/"
        },
        "id": "8Mj0HjAZucq9",
        "outputId": "8ea2d214-ce7a-4638-cb75-ca0701ea8aa8"
      },
      "execution_count": 3,
      "outputs": [
        {
          "output_type": "stream",
          "name": "stdout",
          "text": [
            "<class 'float'>\n"
          ]
        }
      ]
    },
    {
      "cell_type": "code",
      "source": [
        "cadena = \"Hola mundo!\"\n",
        "\n",
        "print(type(cadena))"
      ],
      "metadata": {
        "colab": {
          "base_uri": "https://localhost:8080/"
        },
        "id": "puYPGU3uusxs",
        "outputId": "a6d27504-af48-416a-b0b9-5b4ac003325e"
      },
      "execution_count": 5,
      "outputs": [
        {
          "output_type": "stream",
          "name": "stdout",
          "text": [
            "<class 'str'>\n"
          ]
        }
      ]
    },
    {
      "cell_type": "code",
      "source": [
        "boleano = True\n",
        "\n",
        "print(type(boleano))"
      ],
      "metadata": {
        "colab": {
          "base_uri": "https://localhost:8080/"
        },
        "id": "I3MbRI_Vu1Gi",
        "outputId": "072e1444-81f5-4d89-96c9-fc9ebcd0568a"
      },
      "execution_count": 6,
      "outputs": [
        {
          "output_type": "stream",
          "name": "stdout",
          "text": [
            "<class 'bool'>\n"
          ]
        }
      ]
    },
    {
      "cell_type": "code",
      "source": [
        "import pandas as pd\n",
        "\n",
        "df = pd.read_csv(\"/content/20250708_Asistencia_JUNIO_2025_20250707_PUBL.csv\", sep=\";\")"
      ],
      "metadata": {
        "id": "WZyLPw9owfkz"
      },
      "execution_count": 9,
      "outputs": []
    },
    {
      "cell_type": "code",
      "source": [
        "df"
      ],
      "metadata": {
        "colab": {
          "base_uri": "https://localhost:8080/",
          "height": 791
        },
        "id": "aCQxgVeGw6PN",
        "outputId": "3fb89874-1f7c-4f5a-ca05-0e7e73c64f0d"
      },
      "execution_count": 10,
      "outputs": [
        {
          "output_type": "execute_result",
          "data": {
            "text/plain": [
              "         AGNO  MES_ESCOLAR   RBD  DGV_RBD                  NOM_RBD  \\\n",
              "0        2025            6     1        9  LICEO POLITECNICO ARICA   \n",
              "1        2025            6     1        9  LICEO POLITECNICO ARICA   \n",
              "2        2025            6     1        9  LICEO POLITECNICO ARICA   \n",
              "3        2025            6     1        9  LICEO POLITECNICO ARICA   \n",
              "4        2025            6     1        9  LICEO POLITECNICO ARICA   \n",
              "...       ...          ...   ...      ...                      ...   \n",
              "1365633  2025            6  8666        5     COLEGIO SANTA ISABEL   \n",
              "1365634  2025            6  8666        5     COLEGIO SANTA ISABEL   \n",
              "1365635  2025            6  8666        5     COLEGIO SANTA ISABEL   \n",
              "1365636  2025            6  8666        5     COLEGIO SANTA ISABEL   \n",
              "1365637  2025            6  8666        5     COLEGIO SANTA ISABEL   \n",
              "\n",
              "         COD_REG_RBD NOM_REG_RBD_A  COD_PRO_RBD  COD_COM_RBD NOM_COM_RBD  ...  \\\n",
              "0                 15           AYP          151        15101       ARICA  ...   \n",
              "1                 15           AYP          151        15101       ARICA  ...   \n",
              "2                 15           AYP          151        15101       ARICA  ...   \n",
              "3                 15           AYP          151        15101       ARICA  ...   \n",
              "4                 15           AYP          151        15101       ARICA  ...   \n",
              "...              ...           ...          ...          ...         ...  ...   \n",
              "1365633           13            RM          131        13101    SANTIAGO  ...   \n",
              "1365634           13            RM          131        13101    SANTIAGO  ...   \n",
              "1365635           13            RM          131        13101    SANTIAGO  ...   \n",
              "1365636           13            RM          131        13101    SANTIAGO  ...   \n",
              "1365637           13            RM          131        13101           S  ...   \n",
              "\n",
              "               MRUN GEN_ALU  FEC_NAC_ALU COD_NAC_ALU  COD_ETNIA_ALU  \\\n",
              "0         5981391.0     2.0     197304.0           C            0.0   \n",
              "1         8523172.0     1.0     198309.0           C            0.0   \n",
              "2         9715496.0     2.0     199909.0           C            1.0   \n",
              "3        17833318.0     2.0     196406.0           N            1.0   \n",
              "4        19226474.0     2.0     200612.0           C            0.0   \n",
              "...             ...     ...          ...         ...            ...   \n",
              "1365633  26968839.0     1.0     201701.0           E            0.0   \n",
              "1365634  27672086.0     1.0     201703.0           E            0.0   \n",
              "1365635  27982440.0     1.0     201612.0           E            0.0   \n",
              "1365636   1794926.0     2.0     201505.0           C            0.0   \n",
              "1365637         NaN     NaN          NaN         NaN            NaN   \n",
              "\n",
              "         COD_COM_ALU    NOM_COM_ALU  DIAS_ASISTIDOS  DIAS_TRABAJADOS  \\\n",
              "0            15101.0          ARICA             0.0             20.0   \n",
              "1            15101.0          ARICA             6.0             20.0   \n",
              "2            15101.0          ARICA             0.0             20.0   \n",
              "3            15101.0          ARICA             0.0             20.0   \n",
              "4            15101.0          ARICA            18.0             20.0   \n",
              "...              ...            ...             ...              ...   \n",
              "1365633      13101.0       SANTIAGO            11.0             12.0   \n",
              "1365634      13108.0  INDEPENDENCIA             0.0             12.0   \n",
              "1365635      13120.0          ÑUÑOA            11.0             12.0   \n",
              "1365636      13101.0       SANTIAGO            12.0             12.0   \n",
              "1365637          NaN            NaN             NaN              NaN   \n",
              "\n",
              "            ASIS_PROMEDIO  \n",
              "0                       0  \n",
              "1                      ,3  \n",
              "2                       0  \n",
              "3                       0  \n",
              "4                      ,9  \n",
              "...                   ...  \n",
              "1365633  ,916666666666667  \n",
              "1365634                 0  \n",
              "1365635  ,916666666666667  \n",
              "1365636                 1  \n",
              "1365637               NaN  \n",
              "\n",
              "[1365638 rows x 31 columns]"
            ],
            "text/html": [
              "\n",
              "  <div id=\"df-7d6cbded-44b4-48b7-aef6-d5665236e8d5\" class=\"colab-df-container\">\n",
              "    <div>\n",
              "<style scoped>\n",
              "    .dataframe tbody tr th:only-of-type {\n",
              "        vertical-align: middle;\n",
              "    }\n",
              "\n",
              "    .dataframe tbody tr th {\n",
              "        vertical-align: top;\n",
              "    }\n",
              "\n",
              "    .dataframe thead th {\n",
              "        text-align: right;\n",
              "    }\n",
              "</style>\n",
              "<table border=\"1\" class=\"dataframe\">\n",
              "  <thead>\n",
              "    <tr style=\"text-align: right;\">\n",
              "      <th></th>\n",
              "      <th>AGNO</th>\n",
              "      <th>MES_ESCOLAR</th>\n",
              "      <th>RBD</th>\n",
              "      <th>DGV_RBD</th>\n",
              "      <th>NOM_RBD</th>\n",
              "      <th>COD_REG_RBD</th>\n",
              "      <th>NOM_REG_RBD_A</th>\n",
              "      <th>COD_PRO_RBD</th>\n",
              "      <th>COD_COM_RBD</th>\n",
              "      <th>NOM_COM_RBD</th>\n",
              "      <th>...</th>\n",
              "      <th>MRUN</th>\n",
              "      <th>GEN_ALU</th>\n",
              "      <th>FEC_NAC_ALU</th>\n",
              "      <th>COD_NAC_ALU</th>\n",
              "      <th>COD_ETNIA_ALU</th>\n",
              "      <th>COD_COM_ALU</th>\n",
              "      <th>NOM_COM_ALU</th>\n",
              "      <th>DIAS_ASISTIDOS</th>\n",
              "      <th>DIAS_TRABAJADOS</th>\n",
              "      <th>ASIS_PROMEDIO</th>\n",
              "    </tr>\n",
              "  </thead>\n",
              "  <tbody>\n",
              "    <tr>\n",
              "      <th>0</th>\n",
              "      <td>2025</td>\n",
              "      <td>6</td>\n",
              "      <td>1</td>\n",
              "      <td>9</td>\n",
              "      <td>LICEO POLITECNICO ARICA</td>\n",
              "      <td>15</td>\n",
              "      <td>AYP</td>\n",
              "      <td>151</td>\n",
              "      <td>15101</td>\n",
              "      <td>ARICA</td>\n",
              "      <td>...</td>\n",
              "      <td>5981391.0</td>\n",
              "      <td>2.0</td>\n",
              "      <td>197304.0</td>\n",
              "      <td>C</td>\n",
              "      <td>0.0</td>\n",
              "      <td>15101.0</td>\n",
              "      <td>ARICA</td>\n",
              "      <td>0.0</td>\n",
              "      <td>20.0</td>\n",
              "      <td>0</td>\n",
              "    </tr>\n",
              "    <tr>\n",
              "      <th>1</th>\n",
              "      <td>2025</td>\n",
              "      <td>6</td>\n",
              "      <td>1</td>\n",
              "      <td>9</td>\n",
              "      <td>LICEO POLITECNICO ARICA</td>\n",
              "      <td>15</td>\n",
              "      <td>AYP</td>\n",
              "      <td>151</td>\n",
              "      <td>15101</td>\n",
              "      <td>ARICA</td>\n",
              "      <td>...</td>\n",
              "      <td>8523172.0</td>\n",
              "      <td>1.0</td>\n",
              "      <td>198309.0</td>\n",
              "      <td>C</td>\n",
              "      <td>0.0</td>\n",
              "      <td>15101.0</td>\n",
              "      <td>ARICA</td>\n",
              "      <td>6.0</td>\n",
              "      <td>20.0</td>\n",
              "      <td>,3</td>\n",
              "    </tr>\n",
              "    <tr>\n",
              "      <th>2</th>\n",
              "      <td>2025</td>\n",
              "      <td>6</td>\n",
              "      <td>1</td>\n",
              "      <td>9</td>\n",
              "      <td>LICEO POLITECNICO ARICA</td>\n",
              "      <td>15</td>\n",
              "      <td>AYP</td>\n",
              "      <td>151</td>\n",
              "      <td>15101</td>\n",
              "      <td>ARICA</td>\n",
              "      <td>...</td>\n",
              "      <td>9715496.0</td>\n",
              "      <td>2.0</td>\n",
              "      <td>199909.0</td>\n",
              "      <td>C</td>\n",
              "      <td>1.0</td>\n",
              "      <td>15101.0</td>\n",
              "      <td>ARICA</td>\n",
              "      <td>0.0</td>\n",
              "      <td>20.0</td>\n",
              "      <td>0</td>\n",
              "    </tr>\n",
              "    <tr>\n",
              "      <th>3</th>\n",
              "      <td>2025</td>\n",
              "      <td>6</td>\n",
              "      <td>1</td>\n",
              "      <td>9</td>\n",
              "      <td>LICEO POLITECNICO ARICA</td>\n",
              "      <td>15</td>\n",
              "      <td>AYP</td>\n",
              "      <td>151</td>\n",
              "      <td>15101</td>\n",
              "      <td>ARICA</td>\n",
              "      <td>...</td>\n",
              "      <td>17833318.0</td>\n",
              "      <td>2.0</td>\n",
              "      <td>196406.0</td>\n",
              "      <td>N</td>\n",
              "      <td>1.0</td>\n",
              "      <td>15101.0</td>\n",
              "      <td>ARICA</td>\n",
              "      <td>0.0</td>\n",
              "      <td>20.0</td>\n",
              "      <td>0</td>\n",
              "    </tr>\n",
              "    <tr>\n",
              "      <th>4</th>\n",
              "      <td>2025</td>\n",
              "      <td>6</td>\n",
              "      <td>1</td>\n",
              "      <td>9</td>\n",
              "      <td>LICEO POLITECNICO ARICA</td>\n",
              "      <td>15</td>\n",
              "      <td>AYP</td>\n",
              "      <td>151</td>\n",
              "      <td>15101</td>\n",
              "      <td>ARICA</td>\n",
              "      <td>...</td>\n",
              "      <td>19226474.0</td>\n",
              "      <td>2.0</td>\n",
              "      <td>200612.0</td>\n",
              "      <td>C</td>\n",
              "      <td>0.0</td>\n",
              "      <td>15101.0</td>\n",
              "      <td>ARICA</td>\n",
              "      <td>18.0</td>\n",
              "      <td>20.0</td>\n",
              "      <td>,9</td>\n",
              "    </tr>\n",
              "    <tr>\n",
              "      <th>...</th>\n",
              "      <td>...</td>\n",
              "      <td>...</td>\n",
              "      <td>...</td>\n",
              "      <td>...</td>\n",
              "      <td>...</td>\n",
              "      <td>...</td>\n",
              "      <td>...</td>\n",
              "      <td>...</td>\n",
              "      <td>...</td>\n",
              "      <td>...</td>\n",
              "      <td>...</td>\n",
              "      <td>...</td>\n",
              "      <td>...</td>\n",
              "      <td>...</td>\n",
              "      <td>...</td>\n",
              "      <td>...</td>\n",
              "      <td>...</td>\n",
              "      <td>...</td>\n",
              "      <td>...</td>\n",
              "      <td>...</td>\n",
              "      <td>...</td>\n",
              "    </tr>\n",
              "    <tr>\n",
              "      <th>1365633</th>\n",
              "      <td>2025</td>\n",
              "      <td>6</td>\n",
              "      <td>8666</td>\n",
              "      <td>5</td>\n",
              "      <td>COLEGIO SANTA ISABEL</td>\n",
              "      <td>13</td>\n",
              "      <td>RM</td>\n",
              "      <td>131</td>\n",
              "      <td>13101</td>\n",
              "      <td>SANTIAGO</td>\n",
              "      <td>...</td>\n",
              "      <td>26968839.0</td>\n",
              "      <td>1.0</td>\n",
              "      <td>201701.0</td>\n",
              "      <td>E</td>\n",
              "      <td>0.0</td>\n",
              "      <td>13101.0</td>\n",
              "      <td>SANTIAGO</td>\n",
              "      <td>11.0</td>\n",
              "      <td>12.0</td>\n",
              "      <td>,916666666666667</td>\n",
              "    </tr>\n",
              "    <tr>\n",
              "      <th>1365634</th>\n",
              "      <td>2025</td>\n",
              "      <td>6</td>\n",
              "      <td>8666</td>\n",
              "      <td>5</td>\n",
              "      <td>COLEGIO SANTA ISABEL</td>\n",
              "      <td>13</td>\n",
              "      <td>RM</td>\n",
              "      <td>131</td>\n",
              "      <td>13101</td>\n",
              "      <td>SANTIAGO</td>\n",
              "      <td>...</td>\n",
              "      <td>27672086.0</td>\n",
              "      <td>1.0</td>\n",
              "      <td>201703.0</td>\n",
              "      <td>E</td>\n",
              "      <td>0.0</td>\n",
              "      <td>13108.0</td>\n",
              "      <td>INDEPENDENCIA</td>\n",
              "      <td>0.0</td>\n",
              "      <td>12.0</td>\n",
              "      <td>0</td>\n",
              "    </tr>\n",
              "    <tr>\n",
              "      <th>1365635</th>\n",
              "      <td>2025</td>\n",
              "      <td>6</td>\n",
              "      <td>8666</td>\n",
              "      <td>5</td>\n",
              "      <td>COLEGIO SANTA ISABEL</td>\n",
              "      <td>13</td>\n",
              "      <td>RM</td>\n",
              "      <td>131</td>\n",
              "      <td>13101</td>\n",
              "      <td>SANTIAGO</td>\n",
              "      <td>...</td>\n",
              "      <td>27982440.0</td>\n",
              "      <td>1.0</td>\n",
              "      <td>201612.0</td>\n",
              "      <td>E</td>\n",
              "      <td>0.0</td>\n",
              "      <td>13120.0</td>\n",
              "      <td>ÑUÑOA</td>\n",
              "      <td>11.0</td>\n",
              "      <td>12.0</td>\n",
              "      <td>,916666666666667</td>\n",
              "    </tr>\n",
              "    <tr>\n",
              "      <th>1365636</th>\n",
              "      <td>2025</td>\n",
              "      <td>6</td>\n",
              "      <td>8666</td>\n",
              "      <td>5</td>\n",
              "      <td>COLEGIO SANTA ISABEL</td>\n",
              "      <td>13</td>\n",
              "      <td>RM</td>\n",
              "      <td>131</td>\n",
              "      <td>13101</td>\n",
              "      <td>SANTIAGO</td>\n",
              "      <td>...</td>\n",
              "      <td>1794926.0</td>\n",
              "      <td>2.0</td>\n",
              "      <td>201505.0</td>\n",
              "      <td>C</td>\n",
              "      <td>0.0</td>\n",
              "      <td>13101.0</td>\n",
              "      <td>SANTIAGO</td>\n",
              "      <td>12.0</td>\n",
              "      <td>12.0</td>\n",
              "      <td>1</td>\n",
              "    </tr>\n",
              "    <tr>\n",
              "      <th>1365637</th>\n",
              "      <td>2025</td>\n",
              "      <td>6</td>\n",
              "      <td>8666</td>\n",
              "      <td>5</td>\n",
              "      <td>COLEGIO SANTA ISABEL</td>\n",
              "      <td>13</td>\n",
              "      <td>RM</td>\n",
              "      <td>131</td>\n",
              "      <td>13101</td>\n",
              "      <td>S</td>\n",
              "      <td>...</td>\n",
              "      <td>NaN</td>\n",
              "      <td>NaN</td>\n",
              "      <td>NaN</td>\n",
              "      <td>NaN</td>\n",
              "      <td>NaN</td>\n",
              "      <td>NaN</td>\n",
              "      <td>NaN</td>\n",
              "      <td>NaN</td>\n",
              "      <td>NaN</td>\n",
              "      <td>NaN</td>\n",
              "    </tr>\n",
              "  </tbody>\n",
              "</table>\n",
              "<p>1365638 rows × 31 columns</p>\n",
              "</div>\n",
              "    <div class=\"colab-df-buttons\">\n",
              "\n",
              "  <div class=\"colab-df-container\">\n",
              "    <button class=\"colab-df-convert\" onclick=\"convertToInteractive('df-7d6cbded-44b4-48b7-aef6-d5665236e8d5')\"\n",
              "            title=\"Convert this dataframe to an interactive table.\"\n",
              "            style=\"display:none;\">\n",
              "\n",
              "  <svg xmlns=\"http://www.w3.org/2000/svg\" height=\"24px\" viewBox=\"0 -960 960 960\">\n",
              "    <path d=\"M120-120v-720h720v720H120Zm60-500h600v-160H180v160Zm220 220h160v-160H400v160Zm0 220h160v-160H400v160ZM180-400h160v-160H180v160Zm440 0h160v-160H620v160ZM180-180h160v-160H180v160Zm440 0h160v-160H620v160Z\"/>\n",
              "  </svg>\n",
              "    </button>\n",
              "\n",
              "  <style>\n",
              "    .colab-df-container {\n",
              "      display:flex;\n",
              "      gap: 12px;\n",
              "    }\n",
              "\n",
              "    .colab-df-convert {\n",
              "      background-color: #E8F0FE;\n",
              "      border: none;\n",
              "      border-radius: 50%;\n",
              "      cursor: pointer;\n",
              "      display: none;\n",
              "      fill: #1967D2;\n",
              "      height: 32px;\n",
              "      padding: 0 0 0 0;\n",
              "      width: 32px;\n",
              "    }\n",
              "\n",
              "    .colab-df-convert:hover {\n",
              "      background-color: #E2EBFA;\n",
              "      box-shadow: 0px 1px 2px rgba(60, 64, 67, 0.3), 0px 1px 3px 1px rgba(60, 64, 67, 0.15);\n",
              "      fill: #174EA6;\n",
              "    }\n",
              "\n",
              "    .colab-df-buttons div {\n",
              "      margin-bottom: 4px;\n",
              "    }\n",
              "\n",
              "    [theme=dark] .colab-df-convert {\n",
              "      background-color: #3B4455;\n",
              "      fill: #D2E3FC;\n",
              "    }\n",
              "\n",
              "    [theme=dark] .colab-df-convert:hover {\n",
              "      background-color: #434B5C;\n",
              "      box-shadow: 0px 1px 3px 1px rgba(0, 0, 0, 0.15);\n",
              "      filter: drop-shadow(0px 1px 2px rgba(0, 0, 0, 0.3));\n",
              "      fill: #FFFFFF;\n",
              "    }\n",
              "  </style>\n",
              "\n",
              "    <script>\n",
              "      const buttonEl =\n",
              "        document.querySelector('#df-7d6cbded-44b4-48b7-aef6-d5665236e8d5 button.colab-df-convert');\n",
              "      buttonEl.style.display =\n",
              "        google.colab.kernel.accessAllowed ? 'block' : 'none';\n",
              "\n",
              "      async function convertToInteractive(key) {\n",
              "        const element = document.querySelector('#df-7d6cbded-44b4-48b7-aef6-d5665236e8d5');\n",
              "        const dataTable =\n",
              "          await google.colab.kernel.invokeFunction('convertToInteractive',\n",
              "                                                    [key], {});\n",
              "        if (!dataTable) return;\n",
              "\n",
              "        const docLinkHtml = 'Like what you see? Visit the ' +\n",
              "          '<a target=\"_blank\" href=https://colab.research.google.com/notebooks/data_table.ipynb>data table notebook</a>'\n",
              "          + ' to learn more about interactive tables.';\n",
              "        element.innerHTML = '';\n",
              "        dataTable['output_type'] = 'display_data';\n",
              "        await google.colab.output.renderOutput(dataTable, element);\n",
              "        const docLink = document.createElement('div');\n",
              "        docLink.innerHTML = docLinkHtml;\n",
              "        element.appendChild(docLink);\n",
              "      }\n",
              "    </script>\n",
              "  </div>\n",
              "\n",
              "\n",
              "    <div id=\"df-96f518aa-156e-4a37-aced-a1538d3bac93\">\n",
              "      <button class=\"colab-df-quickchart\" onclick=\"quickchart('df-96f518aa-156e-4a37-aced-a1538d3bac93')\"\n",
              "                title=\"Suggest charts\"\n",
              "                style=\"display:none;\">\n",
              "\n",
              "<svg xmlns=\"http://www.w3.org/2000/svg\" height=\"24px\"viewBox=\"0 0 24 24\"\n",
              "     width=\"24px\">\n",
              "    <g>\n",
              "        <path d=\"M19 3H5c-1.1 0-2 .9-2 2v14c0 1.1.9 2 2 2h14c1.1 0 2-.9 2-2V5c0-1.1-.9-2-2-2zM9 17H7v-7h2v7zm4 0h-2V7h2v10zm4 0h-2v-4h2v4z\"/>\n",
              "    </g>\n",
              "</svg>\n",
              "      </button>\n",
              "\n",
              "<style>\n",
              "  .colab-df-quickchart {\n",
              "      --bg-color: #E8F0FE;\n",
              "      --fill-color: #1967D2;\n",
              "      --hover-bg-color: #E2EBFA;\n",
              "      --hover-fill-color: #174EA6;\n",
              "      --disabled-fill-color: #AAA;\n",
              "      --disabled-bg-color: #DDD;\n",
              "  }\n",
              "\n",
              "  [theme=dark] .colab-df-quickchart {\n",
              "      --bg-color: #3B4455;\n",
              "      --fill-color: #D2E3FC;\n",
              "      --hover-bg-color: #434B5C;\n",
              "      --hover-fill-color: #FFFFFF;\n",
              "      --disabled-bg-color: #3B4455;\n",
              "      --disabled-fill-color: #666;\n",
              "  }\n",
              "\n",
              "  .colab-df-quickchart {\n",
              "    background-color: var(--bg-color);\n",
              "    border: none;\n",
              "    border-radius: 50%;\n",
              "    cursor: pointer;\n",
              "    display: none;\n",
              "    fill: var(--fill-color);\n",
              "    height: 32px;\n",
              "    padding: 0;\n",
              "    width: 32px;\n",
              "  }\n",
              "\n",
              "  .colab-df-quickchart:hover {\n",
              "    background-color: var(--hover-bg-color);\n",
              "    box-shadow: 0 1px 2px rgba(60, 64, 67, 0.3), 0 1px 3px 1px rgba(60, 64, 67, 0.15);\n",
              "    fill: var(--button-hover-fill-color);\n",
              "  }\n",
              "\n",
              "  .colab-df-quickchart-complete:disabled,\n",
              "  .colab-df-quickchart-complete:disabled:hover {\n",
              "    background-color: var(--disabled-bg-color);\n",
              "    fill: var(--disabled-fill-color);\n",
              "    box-shadow: none;\n",
              "  }\n",
              "\n",
              "  .colab-df-spinner {\n",
              "    border: 2px solid var(--fill-color);\n",
              "    border-color: transparent;\n",
              "    border-bottom-color: var(--fill-color);\n",
              "    animation:\n",
              "      spin 1s steps(1) infinite;\n",
              "  }\n",
              "\n",
              "  @keyframes spin {\n",
              "    0% {\n",
              "      border-color: transparent;\n",
              "      border-bottom-color: var(--fill-color);\n",
              "      border-left-color: var(--fill-color);\n",
              "    }\n",
              "    20% {\n",
              "      border-color: transparent;\n",
              "      border-left-color: var(--fill-color);\n",
              "      border-top-color: var(--fill-color);\n",
              "    }\n",
              "    30% {\n",
              "      border-color: transparent;\n",
              "      border-left-color: var(--fill-color);\n",
              "      border-top-color: var(--fill-color);\n",
              "      border-right-color: var(--fill-color);\n",
              "    }\n",
              "    40% {\n",
              "      border-color: transparent;\n",
              "      border-right-color: var(--fill-color);\n",
              "      border-top-color: var(--fill-color);\n",
              "    }\n",
              "    60% {\n",
              "      border-color: transparent;\n",
              "      border-right-color: var(--fill-color);\n",
              "    }\n",
              "    80% {\n",
              "      border-color: transparent;\n",
              "      border-right-color: var(--fill-color);\n",
              "      border-bottom-color: var(--fill-color);\n",
              "    }\n",
              "    90% {\n",
              "      border-color: transparent;\n",
              "      border-bottom-color: var(--fill-color);\n",
              "    }\n",
              "  }\n",
              "</style>\n",
              "\n",
              "      <script>\n",
              "        async function quickchart(key) {\n",
              "          const quickchartButtonEl =\n",
              "            document.querySelector('#' + key + ' button');\n",
              "          quickchartButtonEl.disabled = true;  // To prevent multiple clicks.\n",
              "          quickchartButtonEl.classList.add('colab-df-spinner');\n",
              "          try {\n",
              "            const charts = await google.colab.kernel.invokeFunction(\n",
              "                'suggestCharts', [key], {});\n",
              "          } catch (error) {\n",
              "            console.error('Error during call to suggestCharts:', error);\n",
              "          }\n",
              "          quickchartButtonEl.classList.remove('colab-df-spinner');\n",
              "          quickchartButtonEl.classList.add('colab-df-quickchart-complete');\n",
              "        }\n",
              "        (() => {\n",
              "          let quickchartButtonEl =\n",
              "            document.querySelector('#df-96f518aa-156e-4a37-aced-a1538d3bac93 button');\n",
              "          quickchartButtonEl.style.display =\n",
              "            google.colab.kernel.accessAllowed ? 'block' : 'none';\n",
              "        })();\n",
              "      </script>\n",
              "    </div>\n",
              "\n",
              "  <div id=\"id_7ddaebb8-510f-4a81-836e-cf136999e52d\">\n",
              "    <style>\n",
              "      .colab-df-generate {\n",
              "        background-color: #E8F0FE;\n",
              "        border: none;\n",
              "        border-radius: 50%;\n",
              "        cursor: pointer;\n",
              "        display: none;\n",
              "        fill: #1967D2;\n",
              "        height: 32px;\n",
              "        padding: 0 0 0 0;\n",
              "        width: 32px;\n",
              "      }\n",
              "\n",
              "      .colab-df-generate:hover {\n",
              "        background-color: #E2EBFA;\n",
              "        box-shadow: 0px 1px 2px rgba(60, 64, 67, 0.3), 0px 1px 3px 1px rgba(60, 64, 67, 0.15);\n",
              "        fill: #174EA6;\n",
              "      }\n",
              "\n",
              "      [theme=dark] .colab-df-generate {\n",
              "        background-color: #3B4455;\n",
              "        fill: #D2E3FC;\n",
              "      }\n",
              "\n",
              "      [theme=dark] .colab-df-generate:hover {\n",
              "        background-color: #434B5C;\n",
              "        box-shadow: 0px 1px 3px 1px rgba(0, 0, 0, 0.15);\n",
              "        filter: drop-shadow(0px 1px 2px rgba(0, 0, 0, 0.3));\n",
              "        fill: #FFFFFF;\n",
              "      }\n",
              "    </style>\n",
              "    <button class=\"colab-df-generate\" onclick=\"generateWithVariable('df')\"\n",
              "            title=\"Generate code using this dataframe.\"\n",
              "            style=\"display:none;\">\n",
              "\n",
              "  <svg xmlns=\"http://www.w3.org/2000/svg\" height=\"24px\"viewBox=\"0 0 24 24\"\n",
              "       width=\"24px\">\n",
              "    <path d=\"M7,19H8.4L18.45,9,17,7.55,7,17.6ZM5,21V16.75L18.45,3.32a2,2,0,0,1,2.83,0l1.4,1.43a1.91,1.91,0,0,1,.58,1.4,1.91,1.91,0,0,1-.58,1.4L9.25,21ZM18.45,9,17,7.55Zm-12,3A5.31,5.31,0,0,0,4.9,8.1,5.31,5.31,0,0,0,1,6.5,5.31,5.31,0,0,0,4.9,4.9,5.31,5.31,0,0,0,6.5,1,5.31,5.31,0,0,0,8.1,4.9,5.31,5.31,0,0,0,12,6.5,5.46,5.46,0,0,0,6.5,12Z\"/>\n",
              "  </svg>\n",
              "    </button>\n",
              "    <script>\n",
              "      (() => {\n",
              "      const buttonEl =\n",
              "        document.querySelector('#id_7ddaebb8-510f-4a81-836e-cf136999e52d button.colab-df-generate');\n",
              "      buttonEl.style.display =\n",
              "        google.colab.kernel.accessAllowed ? 'block' : 'none';\n",
              "\n",
              "      buttonEl.onclick = () => {\n",
              "        google.colab.notebook.generateWithVariable('df');\n",
              "      }\n",
              "      })();\n",
              "    </script>\n",
              "  </div>\n",
              "\n",
              "    </div>\n",
              "  </div>\n"
            ],
            "application/vnd.google.colaboratory.intrinsic+json": {
              "type": "dataframe",
              "variable_name": "df"
            }
          },
          "metadata": {},
          "execution_count": 10
        }
      ]
    },
    {
      "cell_type": "code",
      "source": [
        "df.info()"
      ],
      "metadata": {
        "colab": {
          "base_uri": "https://localhost:8080/"
        },
        "id": "uVPv_ISjxEsK",
        "outputId": "8ca972d1-6773-4007-b0fb-46733f96073c"
      },
      "execution_count": 11,
      "outputs": [
        {
          "output_type": "stream",
          "name": "stdout",
          "text": [
            "<class 'pandas.core.frame.DataFrame'>\n",
            "RangeIndex: 1365638 entries, 0 to 1365637\n",
            "Data columns (total 31 columns):\n",
            " #   Column           Non-Null Count    Dtype  \n",
            "---  ------           --------------    -----  \n",
            " 0   AGNO             1365638 non-null  int64  \n",
            " 1   MES_ESCOLAR      1365638 non-null  int64  \n",
            " 2   RBD              1365638 non-null  int64  \n",
            " 3   DGV_RBD          1365638 non-null  int64  \n",
            " 4   NOM_RBD          1365638 non-null  object \n",
            " 5   COD_REG_RBD      1365638 non-null  int64  \n",
            " 6   NOM_REG_RBD_A    1365638 non-null  object \n",
            " 7   COD_PRO_RBD      1365638 non-null  int64  \n",
            " 8   COD_COM_RBD      1365638 non-null  int64  \n",
            " 9   NOM_COM_RBD      1365638 non-null  object \n",
            " 10  COD_DEPROV_RBD   1365637 non-null  float64\n",
            " 11  NOM_DEPROV_RBD   1365637 non-null  object \n",
            " 12  RURAL_RBD        1365637 non-null  float64\n",
            " 13  NOMBRE_SLEP      1365637 non-null  object \n",
            " 14  COD_DEPE         1365637 non-null  float64\n",
            " 15  COD_DEPE2        1365637 non-null  float64\n",
            " 16  COD_ENSE         1365637 non-null  float64\n",
            " 17  COD_ENSE2        1365637 non-null  float64\n",
            " 18  COD_GRADO        1365637 non-null  float64\n",
            " 19  LET_CUR          1365637 non-null  object \n",
            " 20  MRUN_IPE         1365637 non-null  object \n",
            " 21  MRUN             1365637 non-null  float64\n",
            " 22  GEN_ALU          1365637 non-null  float64\n",
            " 23  FEC_NAC_ALU      1365637 non-null  float64\n",
            " 24  COD_NAC_ALU      1365637 non-null  object \n",
            " 25  COD_ETNIA_ALU    1365637 non-null  float64\n",
            " 26  COD_COM_ALU      1365637 non-null  float64\n",
            " 27  NOM_COM_ALU      1365637 non-null  object \n",
            " 28  DIAS_ASISTIDOS   1365637 non-null  float64\n",
            " 29  DIAS_TRABAJADOS  1365637 non-null  float64\n",
            " 30  ASIS_PROMEDIO    1365637 non-null  object \n",
            "dtypes: float64(14), int64(7), object(10)\n",
            "memory usage: 323.0+ MB\n"
          ]
        }
      ]
    },
    {
      "cell_type": "code",
      "source": [],
      "metadata": {
        "colab": {
          "base_uri": "https://localhost:8080/"
        },
        "id": "topvppPrzb6j",
        "outputId": "1d689b45-42a4-47d1-bd46-c952b0362fcc"
      },
      "execution_count": 12,
      "outputs": [
        {
          "output_type": "stream",
          "name": "stdout",
          "text": [
            "<class 'pandas.core.frame.DataFrame'>\n",
            "RangeIndex: 1365638 entries, 0 to 1365637\n",
            "Data columns (total 31 columns):\n",
            " #   Column           Non-Null Count    Dtype  \n",
            "---  ------           --------------    -----  \n",
            " 0   AGNO             1365638 non-null  int64  \n",
            " 1   MES_ESCOLAR      1365638 non-null  int64  \n",
            " 2   RBD              1365638 non-null  int64  \n",
            " 3   DGV_RBD          1365638 non-null  int64  \n",
            " 4   NOM_RBD          1365638 non-null  object \n",
            " 5   COD_REG_RBD      1365638 non-null  int64  \n",
            " 6   NOM_REG_RBD_A    1365638 non-null  object \n",
            " 7   COD_PRO_RBD      1365638 non-null  int64  \n",
            " 8   COD_COM_RBD      1365638 non-null  int64  \n",
            " 9   NOM_COM_RBD      1365638 non-null  object \n",
            " 10  COD_DEPROV_RBD   1365637 non-null  float64\n",
            " 11  NOM_DEPROV_RBD   1365637 non-null  object \n",
            " 12  RURAL_RBD        1365637 non-null  float64\n",
            " 13  NOMBRE_SLEP      1365637 non-null  object \n",
            " 14  COD_DEPE         1365637 non-null  float64\n",
            " 15  COD_DEPE2        1365637 non-null  float64\n",
            " 16  COD_ENSE         1365637 non-null  float64\n",
            " 17  COD_ENSE2        1365637 non-null  float64\n",
            " 18  COD_GRADO        1365637 non-null  float64\n",
            " 19  LET_CUR          1365637 non-null  object \n",
            " 20  MRUN_IPE         1365637 non-null  object \n",
            " 21  MRUN             1365637 non-null  float64\n",
            " 22  GEN_ALU          1365637 non-null  float64\n",
            " 23  FEC_NAC_ALU      1365637 non-null  float64\n",
            " 24  COD_NAC_ALU      1365637 non-null  object \n",
            " 25  COD_ETNIA_ALU    1365637 non-null  float64\n",
            " 26  COD_COM_ALU      1365637 non-null  float64\n",
            " 27  NOM_COM_ALU      1365637 non-null  object \n",
            " 28  DIAS_ASISTIDOS   1365637 non-null  float64\n",
            " 29  DIAS_TRABAJADOS  1365637 non-null  float64\n",
            " 30  ASIS_PROMEDIO    1365637 non-null  float64\n",
            "dtypes: float64(15), int64(7), object(9)\n",
            "memory usage: 323.0+ MB\n"
          ]
        }
      ]
    },
    {
      "cell_type": "code",
      "source": [
        "lista = [0, 1, 2, 3]"
      ],
      "metadata": {
        "id": "kdIJEoMP06wk"
      },
      "execution_count": 13,
      "outputs": []
    },
    {
      "cell_type": "code",
      "source": [
        "print(type(lista))"
      ],
      "metadata": {
        "colab": {
          "base_uri": "https://localhost:8080/"
        },
        "id": "kDBaa-7v0_MI",
        "outputId": "8864eb26-2abe-4219-8bdd-bdbb3f14b3fe"
      },
      "execution_count": 14,
      "outputs": [
        {
          "output_type": "stream",
          "name": "stdout",
          "text": [
            "<class 'list'>\n"
          ]
        }
      ]
    },
    {
      "cell_type": "code",
      "source": [
        "lista[0]"
      ],
      "metadata": {
        "colab": {
          "base_uri": "https://localhost:8080/"
        },
        "id": "85FLdJe11C8N",
        "outputId": "2abab319-9575-4ab8-9234-59c6878a4b71"
      },
      "execution_count": 15,
      "outputs": [
        {
          "output_type": "execute_result",
          "data": {
            "text/plain": [
              "0"
            ]
          },
          "metadata": {},
          "execution_count": 15
        }
      ]
    },
    {
      "cell_type": "code",
      "source": [
        "lista[1]"
      ],
      "metadata": {
        "colab": {
          "base_uri": "https://localhost:8080/"
        },
        "id": "DzsWoEVS1E01",
        "outputId": "61285393-b25c-4c31-f6b7-634d39bfa10d"
      },
      "execution_count": 16,
      "outputs": [
        {
          "output_type": "execute_result",
          "data": {
            "text/plain": [
              "1"
            ]
          },
          "metadata": {},
          "execution_count": 16
        }
      ]
    },
    {
      "cell_type": "code",
      "source": [
        "lista2 = [1, 2, 3, 4]"
      ],
      "metadata": {
        "id": "C7pt-gYn1IrG"
      },
      "execution_count": 17,
      "outputs": []
    },
    {
      "cell_type": "code",
      "source": [
        "lista2[0]"
      ],
      "metadata": {
        "colab": {
          "base_uri": "https://localhost:8080/"
        },
        "id": "6RVnGVIo1L4u",
        "outputId": "928a12b9-249c-49c7-8d9c-1579c6dc0797"
      },
      "execution_count": 18,
      "outputs": [
        {
          "output_type": "execute_result",
          "data": {
            "text/plain": [
              "1"
            ]
          },
          "metadata": {},
          "execution_count": 18
        }
      ]
    },
    {
      "cell_type": "code",
      "source": [
        "colores = ['blue', 'yellow', 'red']"
      ],
      "metadata": {
        "id": "txirJ1RB1T5i"
      },
      "execution_count": 19,
      "outputs": []
    },
    {
      "cell_type": "code",
      "source": [
        "colores[1]"
      ],
      "metadata": {
        "colab": {
          "base_uri": "https://localhost:8080/",
          "height": 35
        },
        "id": "pVyfRQ971ZdF",
        "outputId": "51aaa77d-d34a-4e7b-86af-f4180bf06bbf"
      },
      "execution_count": 20,
      "outputs": [
        {
          "output_type": "execute_result",
          "data": {
            "text/plain": [
              "'yellow'"
            ],
            "application/vnd.google.colaboratory.intrinsic+json": {
              "type": "string"
            }
          },
          "metadata": {},
          "execution_count": 20
        }
      ]
    },
    {
      "cell_type": "code",
      "source": [
        "colores.append('green')"
      ],
      "metadata": {
        "id": "Lsh9sBk61eLy"
      },
      "execution_count": 21,
      "outputs": []
    },
    {
      "cell_type": "code",
      "source": [
        "colores"
      ],
      "metadata": {
        "colab": {
          "base_uri": "https://localhost:8080/"
        },
        "id": "VM0A2jWD1iN_",
        "outputId": "e3dbd826-1119-4371-b37d-f148b11d5335"
      },
      "execution_count": 22,
      "outputs": [
        {
          "output_type": "execute_result",
          "data": {
            "text/plain": [
              "['blue', 'yellow', 'red', 'green']"
            ]
          },
          "metadata": {},
          "execution_count": 22
        }
      ]
    },
    {
      "cell_type": "code",
      "source": [
        "colores[3]"
      ],
      "metadata": {
        "colab": {
          "base_uri": "https://localhost:8080/",
          "height": 35
        },
        "id": "rkweAopV1mH3",
        "outputId": "9d036192-1ac8-47a6-b86c-85049c57cf55"
      },
      "execution_count": 23,
      "outputs": [
        {
          "output_type": "execute_result",
          "data": {
            "text/plain": [
              "'green'"
            ],
            "application/vnd.google.colaboratory.intrinsic+json": {
              "type": "string"
            }
          },
          "metadata": {},
          "execution_count": 23
        }
      ]
    },
    {
      "cell_type": "code",
      "source": [
        "# imprimir version de numpy instalado\n",
        "import numpy as np\n",
        "print(np.__version__)"
      ],
      "metadata": {
        "colab": {
          "base_uri": "https://localhost:8080/"
        },
        "id": "Qb9J0bbW2zOy",
        "outputId": "57bbd948-45b9-493e-8d93-2ae84adcc712"
      },
      "execution_count": 25,
      "outputs": [
        {
          "output_type": "stream",
          "name": "stdout",
          "text": [
            "2.0.2\n"
          ]
        }
      ]
    },
    {
      "cell_type": "markdown",
      "source": [
        "https://platzi.com/blog/numpy/\n",
        "\n",
        "![Dimensiones de arrays](https://static.platzi.com/media/user_upload/Escalar%20%281%29%20%281%29-7a433511-a4b7-4cff-a55c-17aa4ff92729.jpg)"
      ],
      "metadata": {
        "id": "KXxltuuN3arY"
      }
    },
    {
      "cell_type": "code",
      "source": [
        "import sys\n",
        "import numpy as np\n",
        "\n",
        "lista = list(range(1000))\n",
        "array = np.arange(1000)\n",
        "\n",
        "print(\"Tamaño lista:\", sys.getsizeof(lista))    # más grande\n",
        "print(\"Tamaño array:\", array.nbytes)           # más compacto"
      ],
      "metadata": {
        "colab": {
          "base_uri": "https://localhost:8080/"
        },
        "id": "8JZa5FNq4BmO",
        "outputId": "4f42cb98-b78b-4d8b-bef3-aba7ceff6a18"
      },
      "execution_count": 26,
      "outputs": [
        {
          "output_type": "stream",
          "name": "stdout",
          "text": [
            "Tamaño lista: 8056\n",
            "Tamaño array: 8000\n"
          ]
        }
      ]
    },
    {
      "cell_type": "code",
      "source": [
        "print(lista)"
      ],
      "metadata": {
        "colab": {
          "base_uri": "https://localhost:8080/"
        },
        "id": "SsPhECa34JCQ",
        "outputId": "a6056e98-e622-4a41-e568-55329ff7e230"
      },
      "execution_count": 27,
      "outputs": [
        {
          "output_type": "stream",
          "name": "stdout",
          "text": [
            "[0, 1, 2, 3, 4, 5, 6, 7, 8, 9, 10, 11, 12, 13, 14, 15, 16, 17, 18, 19, 20, 21, 22, 23, 24, 25, 26, 27, 28, 29, 30, 31, 32, 33, 34, 35, 36, 37, 38, 39, 40, 41, 42, 43, 44, 45, 46, 47, 48, 49, 50, 51, 52, 53, 54, 55, 56, 57, 58, 59, 60, 61, 62, 63, 64, 65, 66, 67, 68, 69, 70, 71, 72, 73, 74, 75, 76, 77, 78, 79, 80, 81, 82, 83, 84, 85, 86, 87, 88, 89, 90, 91, 92, 93, 94, 95, 96, 97, 98, 99, 100, 101, 102, 103, 104, 105, 106, 107, 108, 109, 110, 111, 112, 113, 114, 115, 116, 117, 118, 119, 120, 121, 122, 123, 124, 125, 126, 127, 128, 129, 130, 131, 132, 133, 134, 135, 136, 137, 138, 139, 140, 141, 142, 143, 144, 145, 146, 147, 148, 149, 150, 151, 152, 153, 154, 155, 156, 157, 158, 159, 160, 161, 162, 163, 164, 165, 166, 167, 168, 169, 170, 171, 172, 173, 174, 175, 176, 177, 178, 179, 180, 181, 182, 183, 184, 185, 186, 187, 188, 189, 190, 191, 192, 193, 194, 195, 196, 197, 198, 199, 200, 201, 202, 203, 204, 205, 206, 207, 208, 209, 210, 211, 212, 213, 214, 215, 216, 217, 218, 219, 220, 221, 222, 223, 224, 225, 226, 227, 228, 229, 230, 231, 232, 233, 234, 235, 236, 237, 238, 239, 240, 241, 242, 243, 244, 245, 246, 247, 248, 249, 250, 251, 252, 253, 254, 255, 256, 257, 258, 259, 260, 261, 262, 263, 264, 265, 266, 267, 268, 269, 270, 271, 272, 273, 274, 275, 276, 277, 278, 279, 280, 281, 282, 283, 284, 285, 286, 287, 288, 289, 290, 291, 292, 293, 294, 295, 296, 297, 298, 299, 300, 301, 302, 303, 304, 305, 306, 307, 308, 309, 310, 311, 312, 313, 314, 315, 316, 317, 318, 319, 320, 321, 322, 323, 324, 325, 326, 327, 328, 329, 330, 331, 332, 333, 334, 335, 336, 337, 338, 339, 340, 341, 342, 343, 344, 345, 346, 347, 348, 349, 350, 351, 352, 353, 354, 355, 356, 357, 358, 359, 360, 361, 362, 363, 364, 365, 366, 367, 368, 369, 370, 371, 372, 373, 374, 375, 376, 377, 378, 379, 380, 381, 382, 383, 384, 385, 386, 387, 388, 389, 390, 391, 392, 393, 394, 395, 396, 397, 398, 399, 400, 401, 402, 403, 404, 405, 406, 407, 408, 409, 410, 411, 412, 413, 414, 415, 416, 417, 418, 419, 420, 421, 422, 423, 424, 425, 426, 427, 428, 429, 430, 431, 432, 433, 434, 435, 436, 437, 438, 439, 440, 441, 442, 443, 444, 445, 446, 447, 448, 449, 450, 451, 452, 453, 454, 455, 456, 457, 458, 459, 460, 461, 462, 463, 464, 465, 466, 467, 468, 469, 470, 471, 472, 473, 474, 475, 476, 477, 478, 479, 480, 481, 482, 483, 484, 485, 486, 487, 488, 489, 490, 491, 492, 493, 494, 495, 496, 497, 498, 499, 500, 501, 502, 503, 504, 505, 506, 507, 508, 509, 510, 511, 512, 513, 514, 515, 516, 517, 518, 519, 520, 521, 522, 523, 524, 525, 526, 527, 528, 529, 530, 531, 532, 533, 534, 535, 536, 537, 538, 539, 540, 541, 542, 543, 544, 545, 546, 547, 548, 549, 550, 551, 552, 553, 554, 555, 556, 557, 558, 559, 560, 561, 562, 563, 564, 565, 566, 567, 568, 569, 570, 571, 572, 573, 574, 575, 576, 577, 578, 579, 580, 581, 582, 583, 584, 585, 586, 587, 588, 589, 590, 591, 592, 593, 594, 595, 596, 597, 598, 599, 600, 601, 602, 603, 604, 605, 606, 607, 608, 609, 610, 611, 612, 613, 614, 615, 616, 617, 618, 619, 620, 621, 622, 623, 624, 625, 626, 627, 628, 629, 630, 631, 632, 633, 634, 635, 636, 637, 638, 639, 640, 641, 642, 643, 644, 645, 646, 647, 648, 649, 650, 651, 652, 653, 654, 655, 656, 657, 658, 659, 660, 661, 662, 663, 664, 665, 666, 667, 668, 669, 670, 671, 672, 673, 674, 675, 676, 677, 678, 679, 680, 681, 682, 683, 684, 685, 686, 687, 688, 689, 690, 691, 692, 693, 694, 695, 696, 697, 698, 699, 700, 701, 702, 703, 704, 705, 706, 707, 708, 709, 710, 711, 712, 713, 714, 715, 716, 717, 718, 719, 720, 721, 722, 723, 724, 725, 726, 727, 728, 729, 730, 731, 732, 733, 734, 735, 736, 737, 738, 739, 740, 741, 742, 743, 744, 745, 746, 747, 748, 749, 750, 751, 752, 753, 754, 755, 756, 757, 758, 759, 760, 761, 762, 763, 764, 765, 766, 767, 768, 769, 770, 771, 772, 773, 774, 775, 776, 777, 778, 779, 780, 781, 782, 783, 784, 785, 786, 787, 788, 789, 790, 791, 792, 793, 794, 795, 796, 797, 798, 799, 800, 801, 802, 803, 804, 805, 806, 807, 808, 809, 810, 811, 812, 813, 814, 815, 816, 817, 818, 819, 820, 821, 822, 823, 824, 825, 826, 827, 828, 829, 830, 831, 832, 833, 834, 835, 836, 837, 838, 839, 840, 841, 842, 843, 844, 845, 846, 847, 848, 849, 850, 851, 852, 853, 854, 855, 856, 857, 858, 859, 860, 861, 862, 863, 864, 865, 866, 867, 868, 869, 870, 871, 872, 873, 874, 875, 876, 877, 878, 879, 880, 881, 882, 883, 884, 885, 886, 887, 888, 889, 890, 891, 892, 893, 894, 895, 896, 897, 898, 899, 900, 901, 902, 903, 904, 905, 906, 907, 908, 909, 910, 911, 912, 913, 914, 915, 916, 917, 918, 919, 920, 921, 922, 923, 924, 925, 926, 927, 928, 929, 930, 931, 932, 933, 934, 935, 936, 937, 938, 939, 940, 941, 942, 943, 944, 945, 946, 947, 948, 949, 950, 951, 952, 953, 954, 955, 956, 957, 958, 959, 960, 961, 962, 963, 964, 965, 966, 967, 968, 969, 970, 971, 972, 973, 974, 975, 976, 977, 978, 979, 980, 981, 982, 983, 984, 985, 986, 987, 988, 989, 990, 991, 992, 993, 994, 995, 996, 997, 998, 999]\n"
          ]
        }
      ]
    },
    {
      "cell_type": "code",
      "source": [
        "print(array)"
      ],
      "metadata": {
        "colab": {
          "base_uri": "https://localhost:8080/"
        },
        "id": "cc70uA-C4NpY",
        "outputId": "b6fde832-6e59-4be1-a000-1d50ca9d7748"
      },
      "execution_count": 28,
      "outputs": [
        {
          "output_type": "stream",
          "name": "stdout",
          "text": [
            "[  0   1   2   3   4   5   6   7   8   9  10  11  12  13  14  15  16  17\n",
            "  18  19  20  21  22  23  24  25  26  27  28  29  30  31  32  33  34  35\n",
            "  36  37  38  39  40  41  42  43  44  45  46  47  48  49  50  51  52  53\n",
            "  54  55  56  57  58  59  60  61  62  63  64  65  66  67  68  69  70  71\n",
            "  72  73  74  75  76  77  78  79  80  81  82  83  84  85  86  87  88  89\n",
            "  90  91  92  93  94  95  96  97  98  99 100 101 102 103 104 105 106 107\n",
            " 108 109 110 111 112 113 114 115 116 117 118 119 120 121 122 123 124 125\n",
            " 126 127 128 129 130 131 132 133 134 135 136 137 138 139 140 141 142 143\n",
            " 144 145 146 147 148 149 150 151 152 153 154 155 156 157 158 159 160 161\n",
            " 162 163 164 165 166 167 168 169 170 171 172 173 174 175 176 177 178 179\n",
            " 180 181 182 183 184 185 186 187 188 189 190 191 192 193 194 195 196 197\n",
            " 198 199 200 201 202 203 204 205 206 207 208 209 210 211 212 213 214 215\n",
            " 216 217 218 219 220 221 222 223 224 225 226 227 228 229 230 231 232 233\n",
            " 234 235 236 237 238 239 240 241 242 243 244 245 246 247 248 249 250 251\n",
            " 252 253 254 255 256 257 258 259 260 261 262 263 264 265 266 267 268 269\n",
            " 270 271 272 273 274 275 276 277 278 279 280 281 282 283 284 285 286 287\n",
            " 288 289 290 291 292 293 294 295 296 297 298 299 300 301 302 303 304 305\n",
            " 306 307 308 309 310 311 312 313 314 315 316 317 318 319 320 321 322 323\n",
            " 324 325 326 327 328 329 330 331 332 333 334 335 336 337 338 339 340 341\n",
            " 342 343 344 345 346 347 348 349 350 351 352 353 354 355 356 357 358 359\n",
            " 360 361 362 363 364 365 366 367 368 369 370 371 372 373 374 375 376 377\n",
            " 378 379 380 381 382 383 384 385 386 387 388 389 390 391 392 393 394 395\n",
            " 396 397 398 399 400 401 402 403 404 405 406 407 408 409 410 411 412 413\n",
            " 414 415 416 417 418 419 420 421 422 423 424 425 426 427 428 429 430 431\n",
            " 432 433 434 435 436 437 438 439 440 441 442 443 444 445 446 447 448 449\n",
            " 450 451 452 453 454 455 456 457 458 459 460 461 462 463 464 465 466 467\n",
            " 468 469 470 471 472 473 474 475 476 477 478 479 480 481 482 483 484 485\n",
            " 486 487 488 489 490 491 492 493 494 495 496 497 498 499 500 501 502 503\n",
            " 504 505 506 507 508 509 510 511 512 513 514 515 516 517 518 519 520 521\n",
            " 522 523 524 525 526 527 528 529 530 531 532 533 534 535 536 537 538 539\n",
            " 540 541 542 543 544 545 546 547 548 549 550 551 552 553 554 555 556 557\n",
            " 558 559 560 561 562 563 564 565 566 567 568 569 570 571 572 573 574 575\n",
            " 576 577 578 579 580 581 582 583 584 585 586 587 588 589 590 591 592 593\n",
            " 594 595 596 597 598 599 600 601 602 603 604 605 606 607 608 609 610 611\n",
            " 612 613 614 615 616 617 618 619 620 621 622 623 624 625 626 627 628 629\n",
            " 630 631 632 633 634 635 636 637 638 639 640 641 642 643 644 645 646 647\n",
            " 648 649 650 651 652 653 654 655 656 657 658 659 660 661 662 663 664 665\n",
            " 666 667 668 669 670 671 672 673 674 675 676 677 678 679 680 681 682 683\n",
            " 684 685 686 687 688 689 690 691 692 693 694 695 696 697 698 699 700 701\n",
            " 702 703 704 705 706 707 708 709 710 711 712 713 714 715 716 717 718 719\n",
            " 720 721 722 723 724 725 726 727 728 729 730 731 732 733 734 735 736 737\n",
            " 738 739 740 741 742 743 744 745 746 747 748 749 750 751 752 753 754 755\n",
            " 756 757 758 759 760 761 762 763 764 765 766 767 768 769 770 771 772 773\n",
            " 774 775 776 777 778 779 780 781 782 783 784 785 786 787 788 789 790 791\n",
            " 792 793 794 795 796 797 798 799 800 801 802 803 804 805 806 807 808 809\n",
            " 810 811 812 813 814 815 816 817 818 819 820 821 822 823 824 825 826 827\n",
            " 828 829 830 831 832 833 834 835 836 837 838 839 840 841 842 843 844 845\n",
            " 846 847 848 849 850 851 852 853 854 855 856 857 858 859 860 861 862 863\n",
            " 864 865 866 867 868 869 870 871 872 873 874 875 876 877 878 879 880 881\n",
            " 882 883 884 885 886 887 888 889 890 891 892 893 894 895 896 897 898 899\n",
            " 900 901 902 903 904 905 906 907 908 909 910 911 912 913 914 915 916 917\n",
            " 918 919 920 921 922 923 924 925 926 927 928 929 930 931 932 933 934 935\n",
            " 936 937 938 939 940 941 942 943 944 945 946 947 948 949 950 951 952 953\n",
            " 954 955 956 957 958 959 960 961 962 963 964 965 966 967 968 969 970 971\n",
            " 972 973 974 975 976 977 978 979 980 981 982 983 984 985 986 987 988 989\n",
            " 990 991 992 993 994 995 996 997 998 999]\n"
          ]
        }
      ]
    },
    {
      "cell_type": "code",
      "source": [
        "import time\n",
        "import numpy as np\n",
        "\n",
        "# Lista de Python\n",
        "lista = list(range(1_000_000))\n",
        "start = time.time()\n",
        "[x*2 for x in lista]\n",
        "print(\"Tiempo lista:\", time.time() - start)\n",
        "\n",
        "# Array NumPy\n",
        "array = np.arange(1_000_000)\n",
        "start = time.time()\n",
        "array * 2\n",
        "print(\"Tiempo NumPy:\", time.time() - start)"
      ],
      "metadata": {
        "colab": {
          "base_uri": "https://localhost:8080/"
        },
        "id": "0pBHhAy44okq",
        "outputId": "4e107954-0645-441a-f6bd-7dd0b064f1d6"
      },
      "execution_count": 29,
      "outputs": [
        {
          "output_type": "stream",
          "name": "stdout",
          "text": [
            "Tiempo lista: 0.07516360282897949\n",
            "Tiempo NumPy: 0.001537322998046875\n"
          ]
        }
      ]
    },
    {
      "cell_type": "code",
      "source": [
        "# Crear una lista de números del 0 al 999 sin usar range()\n",
        "lista_manual = []\n",
        "i = 0\n",
        "while i < 1000:\n",
        "    lista_manual.append(i)\n",
        "    i += 1\n",
        "\n",
        "print(lista_manual)"
      ],
      "metadata": {
        "colab": {
          "base_uri": "https://localhost:8080/"
        },
        "id": "31LVvbea5MVc",
        "outputId": "ce9ee713-7259-4d22-a00f-601e17faa4ff"
      },
      "execution_count": 30,
      "outputs": [
        {
          "output_type": "stream",
          "name": "stdout",
          "text": [
            "[0, 1, 2, 3, 4, 5, 6, 7, 8, 9, 10, 11, 12, 13, 14, 15, 16, 17, 18, 19, 20, 21, 22, 23, 24, 25, 26, 27, 28, 29, 30, 31, 32, 33, 34, 35, 36, 37, 38, 39, 40, 41, 42, 43, 44, 45, 46, 47, 48, 49, 50, 51, 52, 53, 54, 55, 56, 57, 58, 59, 60, 61, 62, 63, 64, 65, 66, 67, 68, 69, 70, 71, 72, 73, 74, 75, 76, 77, 78, 79, 80, 81, 82, 83, 84, 85, 86, 87, 88, 89, 90, 91, 92, 93, 94, 95, 96, 97, 98, 99, 100, 101, 102, 103, 104, 105, 106, 107, 108, 109, 110, 111, 112, 113, 114, 115, 116, 117, 118, 119, 120, 121, 122, 123, 124, 125, 126, 127, 128, 129, 130, 131, 132, 133, 134, 135, 136, 137, 138, 139, 140, 141, 142, 143, 144, 145, 146, 147, 148, 149, 150, 151, 152, 153, 154, 155, 156, 157, 158, 159, 160, 161, 162, 163, 164, 165, 166, 167, 168, 169, 170, 171, 172, 173, 174, 175, 176, 177, 178, 179, 180, 181, 182, 183, 184, 185, 186, 187, 188, 189, 190, 191, 192, 193, 194, 195, 196, 197, 198, 199, 200, 201, 202, 203, 204, 205, 206, 207, 208, 209, 210, 211, 212, 213, 214, 215, 216, 217, 218, 219, 220, 221, 222, 223, 224, 225, 226, 227, 228, 229, 230, 231, 232, 233, 234, 235, 236, 237, 238, 239, 240, 241, 242, 243, 244, 245, 246, 247, 248, 249, 250, 251, 252, 253, 254, 255, 256, 257, 258, 259, 260, 261, 262, 263, 264, 265, 266, 267, 268, 269, 270, 271, 272, 273, 274, 275, 276, 277, 278, 279, 280, 281, 282, 283, 284, 285, 286, 287, 288, 289, 290, 291, 292, 293, 294, 295, 296, 297, 298, 299, 300, 301, 302, 303, 304, 305, 306, 307, 308, 309, 310, 311, 312, 313, 314, 315, 316, 317, 318, 319, 320, 321, 322, 323, 324, 325, 326, 327, 328, 329, 330, 331, 332, 333, 334, 335, 336, 337, 338, 339, 340, 341, 342, 343, 344, 345, 346, 347, 348, 349, 350, 351, 352, 353, 354, 355, 356, 357, 358, 359, 360, 361, 362, 363, 364, 365, 366, 367, 368, 369, 370, 371, 372, 373, 374, 375, 376, 377, 378, 379, 380, 381, 382, 383, 384, 385, 386, 387, 388, 389, 390, 391, 392, 393, 394, 395, 396, 397, 398, 399, 400, 401, 402, 403, 404, 405, 406, 407, 408, 409, 410, 411, 412, 413, 414, 415, 416, 417, 418, 419, 420, 421, 422, 423, 424, 425, 426, 427, 428, 429, 430, 431, 432, 433, 434, 435, 436, 437, 438, 439, 440, 441, 442, 443, 444, 445, 446, 447, 448, 449, 450, 451, 452, 453, 454, 455, 456, 457, 458, 459, 460, 461, 462, 463, 464, 465, 466, 467, 468, 469, 470, 471, 472, 473, 474, 475, 476, 477, 478, 479, 480, 481, 482, 483, 484, 485, 486, 487, 488, 489, 490, 491, 492, 493, 494, 495, 496, 497, 498, 499, 500, 501, 502, 503, 504, 505, 506, 507, 508, 509, 510, 511, 512, 513, 514, 515, 516, 517, 518, 519, 520, 521, 522, 523, 524, 525, 526, 527, 528, 529, 530, 531, 532, 533, 534, 535, 536, 537, 538, 539, 540, 541, 542, 543, 544, 545, 546, 547, 548, 549, 550, 551, 552, 553, 554, 555, 556, 557, 558, 559, 560, 561, 562, 563, 564, 565, 566, 567, 568, 569, 570, 571, 572, 573, 574, 575, 576, 577, 578, 579, 580, 581, 582, 583, 584, 585, 586, 587, 588, 589, 590, 591, 592, 593, 594, 595, 596, 597, 598, 599, 600, 601, 602, 603, 604, 605, 606, 607, 608, 609, 610, 611, 612, 613, 614, 615, 616, 617, 618, 619, 620, 621, 622, 623, 624, 625, 626, 627, 628, 629, 630, 631, 632, 633, 634, 635, 636, 637, 638, 639, 640, 641, 642, 643, 644, 645, 646, 647, 648, 649, 650, 651, 652, 653, 654, 655, 656, 657, 658, 659, 660, 661, 662, 663, 664, 665, 666, 667, 668, 669, 670, 671, 672, 673, 674, 675, 676, 677, 678, 679, 680, 681, 682, 683, 684, 685, 686, 687, 688, 689, 690, 691, 692, 693, 694, 695, 696, 697, 698, 699, 700, 701, 702, 703, 704, 705, 706, 707, 708, 709, 710, 711, 712, 713, 714, 715, 716, 717, 718, 719, 720, 721, 722, 723, 724, 725, 726, 727, 728, 729, 730, 731, 732, 733, 734, 735, 736, 737, 738, 739, 740, 741, 742, 743, 744, 745, 746, 747, 748, 749, 750, 751, 752, 753, 754, 755, 756, 757, 758, 759, 760, 761, 762, 763, 764, 765, 766, 767, 768, 769, 770, 771, 772, 773, 774, 775, 776, 777, 778, 779, 780, 781, 782, 783, 784, 785, 786, 787, 788, 789, 790, 791, 792, 793, 794, 795, 796, 797, 798, 799, 800, 801, 802, 803, 804, 805, 806, 807, 808, 809, 810, 811, 812, 813, 814, 815, 816, 817, 818, 819, 820, 821, 822, 823, 824, 825, 826, 827, 828, 829, 830, 831, 832, 833, 834, 835, 836, 837, 838, 839, 840, 841, 842, 843, 844, 845, 846, 847, 848, 849, 850, 851, 852, 853, 854, 855, 856, 857, 858, 859, 860, 861, 862, 863, 864, 865, 866, 867, 868, 869, 870, 871, 872, 873, 874, 875, 876, 877, 878, 879, 880, 881, 882, 883, 884, 885, 886, 887, 888, 889, 890, 891, 892, 893, 894, 895, 896, 897, 898, 899, 900, 901, 902, 903, 904, 905, 906, 907, 908, 909, 910, 911, 912, 913, 914, 915, 916, 917, 918, 919, 920, 921, 922, 923, 924, 925, 926, 927, 928, 929, 930, 931, 932, 933, 934, 935, 936, 937, 938, 939, 940, 941, 942, 943, 944, 945, 946, 947, 948, 949, 950, 951, 952, 953, 954, 955, 956, 957, 958, 959, 960, 961, 962, 963, 964, 965, 966, 967, 968, 969, 970, 971, 972, 973, 974, 975, 976, 977, 978, 979, 980, 981, 982, 983, 984, 985, 986, 987, 988, 989, 990, 991, 992, 993, 994, 995, 996, 997, 998, 999]\n"
          ]
        }
      ]
    },
    {
      "cell_type": "code",
      "source": [
        "# Como usar Numpy\n",
        "\n",
        "import numpy"
      ],
      "metadata": {
        "id": "4S8Xd4Wr507N"
      },
      "execution_count": 31,
      "outputs": []
    },
    {
      "cell_type": "code",
      "source": [
        "numpy.__version__"
      ],
      "metadata": {
        "colab": {
          "base_uri": "https://localhost:8080/",
          "height": 35
        },
        "id": "J30m9Ab954bL",
        "outputId": "8ae2d67b-bfb9-4d32-ce92-a8526749b746"
      },
      "execution_count": 32,
      "outputs": [
        {
          "output_type": "execute_result",
          "data": {
            "text/plain": [
              "'2.0.2'"
            ],
            "application/vnd.google.colaboratory.intrinsic+json": {
              "type": "string"
            }
          },
          "metadata": {},
          "execution_count": 32
        }
      ]
    },
    {
      "cell_type": "code",
      "source": [
        "import numpy as esteesunnombremaslargo"
      ],
      "metadata": {
        "id": "T4or5H2e6ACH"
      },
      "execution_count": 34,
      "outputs": []
    },
    {
      "cell_type": "code",
      "source": [
        "esteesunnombremaslargo.__version__"
      ],
      "metadata": {
        "colab": {
          "base_uri": "https://localhost:8080/",
          "height": 35
        },
        "id": "Y4VNHujh6VmT",
        "outputId": "b954490a-452c-404b-fba8-df824594be7f"
      },
      "execution_count": 35,
      "outputs": [
        {
          "output_type": "execute_result",
          "data": {
            "text/plain": [
              "'2.0.2'"
            ],
            "application/vnd.google.colaboratory.intrinsic+json": {
              "type": "string"
            }
          },
          "metadata": {},
          "execution_count": 35
        }
      ]
    },
    {
      "cell_type": "code",
      "source": [
        "# Regularmente vamos a importar Numpy con el alias de np\n",
        "\n",
        "import numpy as np\n",
        "\n",
        "# Sobre como instalar numpy https://numpy.org/install/"
      ],
      "metadata": {
        "id": "bfajgK_I6oJA"
      },
      "execution_count": 37,
      "outputs": []
    },
    {
      "cell_type": "code",
      "source": [
        "# Ejemplo de análisis de documentación\n",
        "\n",
        "# https://numpy.org/doc/2.3/reference/generated/numpy.arange.html\n",
        "\n",
        "np.arange(10)"
      ],
      "metadata": {
        "colab": {
          "base_uri": "https://localhost:8080/"
        },
        "id": "PYNtx74J7BN6",
        "outputId": "2857874d-6ce7-4c90-c5d0-b5c93ca75f54"
      },
      "execution_count": 38,
      "outputs": [
        {
          "output_type": "execute_result",
          "data": {
            "text/plain": [
              "array([0, 1, 2, 3, 4, 5, 6, 7, 8, 9])"
            ]
          },
          "metadata": {},
          "execution_count": 38
        }
      ]
    },
    {
      "cell_type": "code",
      "source": [
        "np.arange(1,11)"
      ],
      "metadata": {
        "colab": {
          "base_uri": "https://localhost:8080/"
        },
        "id": "ezJrWWZO72i6",
        "outputId": "530fec0e-c036-46d1-e08f-6d9d71d41a60"
      },
      "execution_count": 40,
      "outputs": [
        {
          "output_type": "execute_result",
          "data": {
            "text/plain": [
              "array([ 1,  2,  3,  4,  5,  6,  7,  8,  9, 10])"
            ]
          },
          "metadata": {},
          "execution_count": 40
        }
      ]
    },
    {
      "cell_type": "code",
      "source": [
        "np.arange(2,11,2)"
      ],
      "metadata": {
        "colab": {
          "base_uri": "https://localhost:8080/"
        },
        "id": "pdLkH8498DUE",
        "outputId": "5bb29798-baf8-4bc9-e427-9f5d53a39167"
      },
      "execution_count": 41,
      "outputs": [
        {
          "output_type": "execute_result",
          "data": {
            "text/plain": [
              "array([ 2,  4,  6,  8, 10])"
            ]
          },
          "metadata": {},
          "execution_count": 41
        }
      ]
    },
    {
      "cell_type": "code",
      "source": [
        "np.arange(1,11,2)"
      ],
      "metadata": {
        "colab": {
          "base_uri": "https://localhost:8080/"
        },
        "id": "VABxfzZ48bmZ",
        "outputId": "3a0297ba-ea68-46a5-b187-fe45743cbfc1"
      },
      "execution_count": 42,
      "outputs": [
        {
          "output_type": "execute_result",
          "data": {
            "text/plain": [
              "array([1, 3, 5, 7, 9])"
            ]
          },
          "metadata": {},
          "execution_count": 42
        }
      ]
    },
    {
      "cell_type": "markdown",
      "source": [
        "# `numpy.arange([start, ] stop, [step, ] dtype=None, *, device=None, like=None)`\n",
        "\n",
        "TEXTO DESDE: https://numpy.org/doc/2.3/reference/generated/numpy.arange.html\n",
        "\n",
        "\n",
        "Devuelve valores espaciados uniformemente dentro de un intervalo dado.\n",
        "\n",
        "`arange` se puede llamar con distintos números de argumentos\n",
        "posicionales:\n",
        "\n",
        "-   `arange(stop)`: Se generan valores dentro del intervalo semiabierto\n",
        "    `[0, stop)` (es decir, incluyendo \"start\" pero excluyendo \"stop\").\n",
        "-   `arange(start, stop)`: Se generan valores dentro del intervalo\n",
        "    semiabierto `[start, stop)`.\n",
        "-   `arange(start, stop, step)`: Se generan valores dentro del intervalo\n",
        "    semiabierto `[start, stop)`, con espacios entre valores dados por\n",
        "    `step`.\n",
        "\n",
        "Para argumentos enteros, la función es aproximadamente equivalente al\n",
        "builtin de Python `range`, **pero** retorna un `ndarray` en lugar de una\n",
        "instancia de `range`.\n",
        "\n",
        "Cuando uses un `step` no entero, como `0.1`, suele ser mejor usar\n",
        "`numpy.linspace`.\n",
        "\n",
        "------------------------------------------------------------------------\n",
        "\n",
        "## Parámetros\n",
        "\n",
        "  -------------------------------------------------------------------------\n",
        "  Nombre     Tipo                     Opcional / defecto   Qué significa\n",
        "  ---------- ------------------------ -------------------- ----------------\n",
        "  `start`    entero o real            opcional ---         Inicio del\n",
        "                                      defecto: `0`         intervalo. Este\n",
        "                                                           valor **se\n",
        "                                                           incluye**.\n",
        "\n",
        "  `stop`     entero o real            *requerido*          Final del\n",
        "                                                           intervalo. Este\n",
        "                                                           valor **no se\n",
        "                                                           incluye**, salvo\n",
        "                                                           casos especiales\n",
        "                                                           si `step` no es\n",
        "                                                           entero y\n",
        "                                                           problemas de\n",
        "                                                           redondeo.\n",
        "\n",
        "  `step`     entero o real            opcional ---         Separación entre\n",
        "                                      defecto: `1`         valores\n",
        "                                                           consecutivos. Si\n",
        "                                                           se especifica\n",
        "                                                           `step`, también\n",
        "                                                           debe darse\n",
        "                                                           `start`.\n",
        "\n",
        "  `dtype`    tipo de dato de NumPy    opcional             Tipo de dato del\n",
        "                                                           arreglo de\n",
        "                                                           salida. Si no se\n",
        "                                                           da, se infiere.\n",
        "\n",
        "  `device`   cadena (str)             opcional --- nuevo   Dispositivo en\n",
        "                                      desde v2.0.0         el que se\n",
        "                                                           colocará el\n",
        "                                                           arreglo creado\n",
        "                                                           (\"cpu\", etc.).\n",
        "\n",
        "  `like`     objeto array-like        opcional --- desde   Objeto de\n",
        "                                      v1.20.0              referencia para\n",
        "                                                           crear arrays que\n",
        "                                                           no sean\n",
        "                                                           necesariamente\n",
        "                                                           de NumPy.\n",
        "  -------------------------------------------------------------------------\n",
        "\n",
        "------------------------------------------------------------------------\n",
        "\n",
        "## Retorno\n",
        "\n",
        "-   Devuelve un **ndarray** con valores espaciados uniformemente.\\\n",
        "-   Cuando los argumentos sean en punto flotante, la longitud del\n",
        "    resultado es `ceil((stop - start)/step)`. Por overflow, el último\n",
        "    elemento puede ser mayor que `stop` en algunos casos.\n",
        "\n",
        "------------------------------------------------------------------------\n",
        "\n",
        "## Advertencias\n",
        "\n",
        "1.  **Estabilidad numérica**\\\n",
        "    El largo del arreglo puede no ser estable. Internamente se calcula\n",
        "    como `dtype(start + step) - dtype(start)`.\n",
        "\n",
        "2.  **Conversión de floats a enteros**\\\n",
        "    Si usas `dtype=int` con `step` flotante, todos los valores se\n",
        "    convierten a enteros:\n",
        "\n",
        "    ``` python\n",
        "    np.arange(0, 5, 0.5, dtype=int)\n",
        "    # array([0, 0, 0, 0, 0, 0, 0, 0, 0, 0])\n",
        "    ```\n",
        "\n",
        "3.  **Diferencias con `range`**\n",
        "\n",
        "    -   `range` usa enteros arbitrarios, `arange` enteros fijos\n",
        "        (`int32`/`int64`).\n",
        "    -   Puede dar resultados distintos para cálculos con números muy\n",
        "        grandes.\n",
        "\n",
        "------------------------------------------------------------------------\n",
        "\n",
        "## Véase también\n",
        "\n",
        "-   `numpy.linspace` --- números espaciados uniformemente con\n",
        "    tratamiento cuidadoso de los extremos.\\\n",
        "-   `numpy.ogrid`, `numpy.mgrid` --- generación de arreglos con números\n",
        "    espaciados en N dimensiones.\n",
        "\n",
        "------------------------------------------------------------------------\n",
        "\n",
        "## Ejemplos\n",
        "\n",
        "``` python\n",
        "import numpy as np\n",
        "\n",
        "np.arange(3)\n",
        "# array([0, 1, 2])\n",
        "\n",
        "np.arange(3.0)\n",
        "# array([0., 1., 2.])\n",
        "\n",
        "np.arange(3, 7)\n",
        "# array([3, 4, 5, 6])\n",
        "\n",
        "np.arange(3, 7, 2)\n",
        "# array([3, 5])\n",
        "```\n"
      ],
      "metadata": {
        "id": "DtAxwDWa9ENI"
      }
    },
    {
      "cell_type": "code",
      "source": [],
      "metadata": {
        "id": "SNceC1gG9KlY"
      },
      "execution_count": null,
      "outputs": []
    }
  ]
}