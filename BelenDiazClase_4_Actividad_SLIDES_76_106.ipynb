{
  "nbformat": 4,
  "nbformat_minor": 0,
  "metadata": {
    "colab": {
      "provenance": [],
      "authorship_tag": "ABX9TyMFfJT86wJhmVeA/nlrj2TD",
      "include_colab_link": true
    },
    "kernelspec": {
      "name": "python3",
      "display_name": "Python 3"
    },
    "language_info": {
      "name": "python"
    }
  },
  "cells": [
    {
      "cell_type": "markdown",
      "metadata": {
        "id": "view-in-github",
        "colab_type": "text"
      },
      "source": [
        "<a href=\"https://colab.research.google.com/github/bbiblin/sic_ai_2025_sept/blob/main/BelenDiazClase_4_Actividad_SLIDES_76_106.ipynb\" target=\"_parent\"><img src=\"https://colab.research.google.com/assets/colab-badge.svg\" alt=\"Open In Colab\"/></a>"
      ]
    },
    {
      "cell_type": "markdown",
      "source": [
        "#Clase 4 - Operaciones de matriz con Numpy"
      ],
      "metadata": {
        "id": "dN75H3jCTfUc"
      }
    },
    {
      "cell_type": "markdown",
      "source": [
        "Hasta ahora, sabemos que NumPy es una biblioteca para Python, implementada en C la cual nos permite realizar operaciones ndarray de matrices multidimensionales rápidas y efectivas en la memoria. También nos permite usar funciones computacionales como álgebral lineal, generación de números random, etc."
      ],
      "metadata": {
        "id": "f4rBhv9qTgX7"
      }
    },
    {
      "cell_type": "markdown",
      "source": [
        "### Operador +"
      ],
      "metadata": {
        "id": "8oAlzCYobRj9"
      }
    },
    {
      "cell_type": "markdown",
      "source": [
        "En listas tradicionales: el operador '+' funciona de manera que concatena los elementos dados."
      ],
      "metadata": {
        "id": "DyrtiF0KbW_6"
      }
    },
    {
      "cell_type": "markdown",
      "source": [
        "***Ejemplo en código***"
      ],
      "metadata": {
        "id": "KGTCui1Hbl8z"
      }
    },
    {
      "cell_type": "code",
      "execution_count": null,
      "metadata": {
        "colab": {
          "base_uri": "https://localhost:8080/"
        },
        "id": "gh2RGNqATPEL",
        "outputId": "f0d9131b-6d4e-4ed1-9525-db36582e2b05"
      },
      "outputs": [
        {
          "output_type": "stream",
          "name": "stdout",
          "text": [
            "Lista + Lista: [1, 2, 3, 4, 5, 6]\n"
          ]
        }
      ],
      "source": [
        "lista1 = [1, 2, 3]\n",
        "lista2 = [4, 5, 6]\n",
        "print(\"Lista + Lista:\", lista1 + lista2) # esto imprimirá [1, 2, 3, 4, 5, 6]"
      ]
    },
    {
      "cell_type": "markdown",
      "source": [
        "Mientras que en NumPy, el operador '+' suma los elementos."
      ],
      "metadata": {
        "id": "UIaLLX-Yb463"
      }
    },
    {
      "cell_type": "code",
      "source": [
        "import numpy as np\n",
        "arr1 = np.array([1, 2, 3])\n",
        "arr2 = np.array([4, 5, 6])\n",
        "print(\"Array + Array:\", arr1 + arr2) # esto imprimirá [5, 7, 9]"
      ],
      "metadata": {
        "colab": {
          "base_uri": "https://localhost:8080/"
        },
        "id": "dMe5F-SHcSXV",
        "outputId": "18ba6d54-da49-452e-ddca-4558bcd08054"
      },
      "execution_count": null,
      "outputs": [
        {
          "output_type": "stream",
          "name": "stdout",
          "text": [
            "Array + Array: [5 7 9]\n"
          ]
        }
      ]
    },
    {
      "cell_type": "markdown",
      "source": [
        "Mientras las matrices tengan la misma forma, se pueden realizar operaciones aritméticas de suma, resta, multiplicación y división"
      ],
      "metadata": {
        "id": "htpSw2u5cdWQ"
      }
    },
    {
      "cell_type": "code",
      "source": [
        "\n",
        "print(\"-----Array 1-----\")\n",
        "print(arr1.ndim) # esto muestra el número de dimensiones o ejes de la matriz, en este caso, 1\n",
        "print(arr1.size) # esto imprime el tamaño de la matriz, en este caso, 3\n",
        "print(arr1.shape) # imprime una tupla con la forma del array, en este caso, 3\n",
        "print(\"-----Array 2-----\")\n",
        "print(arr2.ndim) # esto muestra el número de dimensiones o ejes de la matriz, en este caso, 1\n",
        "print(arr2.size) # esto imprime el tamaño de la matriz, en este caso, 3\n",
        "print(arr2.shape) # imprime una tupla con la forma del array, en este caso, 3"
      ],
      "metadata": {
        "colab": {
          "base_uri": "https://localhost:8080/"
        },
        "id": "zrciBAorcls-",
        "outputId": "a00b202a-acbd-46f7-c24b-3626d2adcf15"
      },
      "execution_count": null,
      "outputs": [
        {
          "output_type": "stream",
          "name": "stdout",
          "text": [
            "-----Array 1-----\n",
            "1\n",
            "3\n",
            "(3,)\n",
            "-----Array 2-----\n",
            "1\n",
            "3\n",
            "(3,)\n"
          ]
        }
      ]
    },
    {
      "cell_type": "markdown",
      "source": [
        "Procedemos a aplicar operaciones aritméticas"
      ],
      "metadata": {
        "id": "hh08gXsgdg1V"
      }
    },
    {
      "cell_type": "code",
      "source": [
        "print(arr1-arr2)\n",
        "print(arr1*arr2)\n",
        "print(arr1/arr2)"
      ],
      "metadata": {
        "colab": {
          "base_uri": "https://localhost:8080/"
        },
        "id": "v5cHybRHdj-Z",
        "outputId": "aaa33901-dabb-4eae-e18d-e39c020304ba"
      },
      "execution_count": null,
      "outputs": [
        {
          "output_type": "stream",
          "name": "stdout",
          "text": [
            "[-3 -3 -3]\n",
            "[ 4 10 18]\n",
            "[0.25 0.4  0.5 ]\n"
          ]
        }
      ]
    },
    {
      "cell_type": "markdown",
      "source": [
        "#### Operador *"
      ],
      "metadata": {
        "id": "Sxi8BL6BdyuF"
      }
    },
    {
      "cell_type": "markdown",
      "source": [
        "En listas tradicionales, el operador * significa \"repetición\""
      ],
      "metadata": {
        "id": "wbKk02NUd42i"
      }
    },
    {
      "cell_type": "code",
      "source": [
        "print(\"Lista * 3:\", lista1 * 3) #esto imprime la lista repetida 3 veces"
      ],
      "metadata": {
        "colab": {
          "base_uri": "https://localhost:8080/"
        },
        "id": "OszchUL4eA7N",
        "outputId": "dab413af-7a8b-491f-9597-bd6fb687384c"
      },
      "execution_count": null,
      "outputs": [
        {
          "output_type": "stream",
          "name": "stdout",
          "text": [
            "Lista * 3: [1, 2, 3, 1, 2, 3, 1, 2, 3]\n"
          ]
        }
      ]
    },
    {
      "cell_type": "markdown",
      "source": [
        "Mientras que en NumPy, como vimos anteriormente, funciona para realizar operaciones matemáticas, en este caso, devuelve el resultado de la multiplicación de cada elemento."
      ],
      "metadata": {
        "id": "2uS89t9feQ1J"
      }
    },
    {
      "cell_type": "code",
      "source": [
        "print(\"Array * 3:\", arr1 * 3) # esto imprimirá [3, 6, 9]\n"
      ],
      "metadata": {
        "colab": {
          "base_uri": "https://localhost:8080/"
        },
        "id": "_n7sztpregjL",
        "outputId": "1a1aa5cc-31ad-4219-e01d-9561a542f083"
      },
      "execution_count": null,
      "outputs": [
        {
          "output_type": "stream",
          "name": "stdout",
          "text": [
            "Array * 3: [3 6 9]\n"
          ]
        }
      ]
    },
    {
      "cell_type": "markdown",
      "source": [
        "### Repetir y mosaico"
      ],
      "metadata": {
        "id": "UJjbdHVYe0up"
      }
    },
    {
      "cell_type": "markdown",
      "source": [
        "Numpy tiene su propio método para repetir elementos, con la función np.repeat(). Esta función, repite cada elemento, no el array como tal."
      ],
      "metadata": {
        "id": "t9Byck0tfACA"
      }
    },
    {
      "cell_type": "code",
      "source": [
        "# Creamos un array y lo almacenamos en la variable 'b'\n",
        "b = np.array([1,2,3])\n",
        "# np.repeat(array, cantidadRepeticiones) -> argumentos que recibe la función\n",
        "np.repeat(b,3)"
      ],
      "metadata": {
        "colab": {
          "base_uri": "https://localhost:8080/"
        },
        "id": "0CywlMx7fIE2",
        "outputId": "67116c8b-64f0-4da2-a579-2e94c5c0d075"
      },
      "execution_count": null,
      "outputs": [
        {
          "output_type": "execute_result",
          "data": {
            "text/plain": [
              "array([1, 1, 1, 2, 2, 2, 3, 3, 3])"
            ]
          },
          "metadata": {},
          "execution_count": 8
        }
      ]
    },
    {
      "cell_type": "markdown",
      "source": [
        " Le decimos que el array al que queremos aplicarle repeat es el array b (creado anteriormente), y queremos que cada elemento se repita 3 veces"
      ],
      "metadata": {
        "id": "airUhPFvf5WQ"
      }
    },
    {
      "cell_type": "markdown",
      "source": [
        "Si lo que se desea es repetir la matriz o array como tal, para eso existe el método np.tile()"
      ],
      "metadata": {
        "id": "MfdbyuK0f-U9"
      }
    },
    {
      "cell_type": "code",
      "source": [
        "# Le aplicaremos np.tile() al array creado anteriormente\n",
        "# np.tile(array, cantidadRepeticiones) -> argumentos que recibe la función\n",
        "np.tile(b,3)"
      ],
      "metadata": {
        "colab": {
          "base_uri": "https://localhost:8080/"
        },
        "id": "jsJP68c6gJVs",
        "outputId": "0e7c3e6f-9cf1-4dd2-de67-8bfe78ef3c09"
      },
      "execution_count": null,
      "outputs": [
        {
          "output_type": "execute_result",
          "data": {
            "text/plain": [
              "array([1, 2, 3, 1, 2, 3, 1, 2, 3])"
            ]
          },
          "metadata": {},
          "execution_count": 9
        }
      ]
    },
    {
      "cell_type": "markdown",
      "source": [
        "  Con np.tile(), la matriz también puede repetirse de forma bidimensional."
      ],
      "metadata": {
        "id": "5c97pzqjipOD"
      }
    },
    {
      "cell_type": "code",
      "source": [
        "C = np.arange(9) # esta línea crea un array con 9 elementos partiendo desde el 0 [0, 1, 2, 3, 4, 5, 6, 7, 8]\n",
        "C = C.reshape(3,3) # esta función transforma las dimensiones del array, en este caso, lo convertimos en una matriz de 3x3\n",
        "C.shape # esto imprime la forma del array\n",
        "print(C) # imprime el contenido del array\n",
        "print(\"----------------------\")\n",
        "\n",
        "print(\"Matriz Repetida\")\n",
        "c_repeat = np.tile(C, 3) # en este caso, np.tile repite la matriz 3 veces a lo largo del eje horizontal\n",
        "#esto da como resultado de 3x9, donde cada fila se repite 3 veces.\n",
        "print(c_repeat)"
      ],
      "metadata": {
        "colab": {
          "base_uri": "https://localhost:8080/"
        },
        "id": "AcN6IzDKiyoo",
        "outputId": "4eb80c56-5364-440c-cd43-173525e439f2"
      },
      "execution_count": null,
      "outputs": [
        {
          "output_type": "stream",
          "name": "stdout",
          "text": [
            "[[0 1 2]\n",
            " [3 4 5]\n",
            " [6 7 8]]\n",
            "----------------------\n",
            "Matriz Repetida\n",
            "[[0 1 2 0 1 2 0 1 2]\n",
            " [3 4 5 3 4 5 3 4 5]\n",
            " [6 7 8 6 7 8 6 7 8]]\n"
          ]
        }
      ]
    },
    {
      "cell_type": "markdown",
      "source": [
        "### Operador exponencial (**)"
      ],
      "metadata": {
        "id": "7jFEBQ6vkkrm"
      }
    },
    {
      "cell_type": "markdown",
      "source": [
        "También, podemos realizar operaciones exponenciales con matrices."
      ],
      "metadata": {
        "id": "o-3nxLpQkvfW"
      }
    },
    {
      "cell_type": "code",
      "source": [
        "print(arr2)\n",
        "print(arr1) # usaremos estos arrays definidos anteriormente para el ejemplo\n",
        "print(\"---------------------------------------\")\n",
        "print(\"Array 2 elevando cada elemento al cuadrado\")\n",
        "arr2_elevado = arr2**2\n",
        "print(arr2_elevado)\n",
        "print(\"Divide cada elemento de arr1 entre el cuadrado del elemento correspondiente en arr2\")\n",
        "arr1_division = arr1/(arr2**2)\n",
        "print(arr1_division)\n"
      ],
      "metadata": {
        "colab": {
          "base_uri": "https://localhost:8080/"
        },
        "id": "AKRJ2-cxkrCo",
        "outputId": "f31d6372-f89b-4d5f-8c0c-f394bca827c3"
      },
      "execution_count": null,
      "outputs": [
        {
          "output_type": "stream",
          "name": "stdout",
          "text": [
            "[4 5 6]\n",
            "[1 2 3]\n",
            "---------------------------------------\n",
            "Array 2 elevando cada elemento al cuadrado\n",
            "[16 25 36]\n",
            "Divide cada elemento de arr1 entre el cuadrado del elemento correspondiente en arr2\n",
            "[0.0625     0.08       0.08333333]\n"
          ]
        }
      ]
    },
    {
      "cell_type": "markdown",
      "source": [
        "### Operadores de comparación"
      ],
      "metadata": {
        "id": "FMt55eqFl7iE"
      }
    },
    {
      "cell_type": "markdown",
      "source": [
        "También se pueden realizar operaciones de comparación con las matrices. Se comprueba si cada elemento del array cumple las condiciones, se devuelve True o False según corresponde."
      ],
      "metadata": {
        "id": "jmTNSyBgmKUK"
      }
    },
    {
      "cell_type": "code",
      "source": [
        "# Para el ejemplo de esta sección, crearemos un nuevo array\n",
        "arr3= np.array([10,20,30,40])\n",
        "arr3 # imprimimos el contenido del array\n",
        "# aplicamos nuestra comparación\n",
        "\n",
        "arr3_comparacion = arr3 > 10 #esta instrucción devolverá True o False, dependiendo del elemento y de si este es mayor a 10.\n",
        "print(arr3)\n",
        "print(arr3_comparacion)"
      ],
      "metadata": {
        "colab": {
          "base_uri": "https://localhost:8080/"
        },
        "id": "ModRgTUnmXBt",
        "outputId": "5c5f52d2-2a31-4820-b6b7-69669ce5da3a"
      },
      "execution_count": null,
      "outputs": [
        {
          "output_type": "stream",
          "name": "stdout",
          "text": [
            "[10 20 30 40]\n",
            "[False  True  True  True]\n"
          ]
        }
      ]
    },
    {
      "cell_type": "markdown",
      "source": [
        "####Notas"
      ],
      "metadata": {
        "id": "HRRLMhRjlnrk"
      }
    },
    {
      "cell_type": "markdown",
      "source": [
        "* NumPy realiza las operaciones matemáticas en cada elemento individualmente  \n",
        "* Ambas arrays deben tener la misma forma para estas operaciones  \n",
        "* Las operaciones con división convierten automáticamente a tipo float  "
      ],
      "metadata": {
        "id": "nMXTcMUtlqgq"
      }
    },
    {
      "cell_type": "markdown",
      "source": [
        "### Funciones Universales"
      ],
      "metadata": {
        "id": "gOCm4uN4nPk4"
      }
    },
    {
      "cell_type": "markdown",
      "source": [
        "Para esta sección, mostraremos la ufunc np.fix().\n",
        "La función np.fix trunca la parte decimal de cada elemento, devolviendo la parte entera hacia cero."
      ],
      "metadata": {
        "id": "9Ii_LPfNoWoI"
      }
    },
    {
      "cell_type": "code",
      "source": [
        "# Crear un array con números decimales\n",
        "arr = np.array([3.14, 2.71, 5.99, -2.5, -1.8, 0.5])\n",
        "print(\"Array original:\", arr)\n",
        "\n",
        "# Aplicar np.fix\n",
        "resultado = np.fix(arr)\n",
        "print(\"Después de np.fix:\", resultado)"
      ],
      "metadata": {
        "colab": {
          "base_uri": "https://localhost:8080/"
        },
        "id": "ZhPQ4KYroh3a",
        "outputId": "ff0792da-9fef-4f62-b925-8b8ab7424720"
      },
      "execution_count": null,
      "outputs": [
        {
          "output_type": "stream",
          "name": "stdout",
          "text": [
            "Array original: [ 3.14  2.71  5.99 -2.5  -1.8   0.5 ]\n",
            "Después de np.fix: [ 3.  2.  5. -2. -1.  0.]\n"
          ]
        }
      ]
    },
    {
      "cell_type": "code",
      "source": [
        "# Array 2D con valores positivos y negativos\n",
        "matriz = np.array([[1.7, -2.3, 4.9],\n",
        "                   [-5.1, 6.8, -7.2],\n",
        "                   [3.4, -0.5, 8.6]])\n",
        "\n",
        "print(\"Matriz original:\")\n",
        "print(matriz)\n",
        "\n",
        "print(\"\\nMatriz después de np.fix:\")\n",
        "print(np.fix(matriz))"
      ],
      "metadata": {
        "colab": {
          "base_uri": "https://localhost:8080/"
        },
        "id": "Or6em4c4o68S",
        "outputId": "427c3f59-b74e-4743-a6ad-8a72f0a3bf73"
      },
      "execution_count": null,
      "outputs": [
        {
          "output_type": "stream",
          "name": "stdout",
          "text": [
            "Matriz original:\n",
            "[[ 1.7 -2.3  4.9]\n",
            " [-5.1  6.8 -7.2]\n",
            " [ 3.4 -0.5  8.6]]\n",
            "\n",
            "Matriz después de np.fix:\n",
            "[[ 1. -2.  4.]\n",
            " [-5.  6. -7.]\n",
            " [ 3. -0.  8.]]\n"
          ]
        }
      ]
    },
    {
      "cell_type": "markdown",
      "source": [
        "### Métodos estadísticos"
      ],
      "metadata": {
        "id": "wV-k_nhjpI2p"
      }
    },
    {
      "cell_type": "code",
      "source": [
        "x = np.arange(1,11) # esta línea crea un array de 11 elementos, partiendo desde el número 1\n",
        "print(x)\n",
        "suma_elementos = x.sum() # imprime el resultado de sumar todos los elementos del array\n",
        "print(\"Elementos sumados\")\n",
        "print(suma_elementos)\n",
        "promedio_elementos = x.mean() # imprime el promedio de todos los elementos del array\n",
        "print(\"Promedio de los elementos\")\n",
        "print(promedio_elementos)"
      ],
      "metadata": {
        "colab": {
          "base_uri": "https://localhost:8080/"
        },
        "id": "QayLutu8pK5G",
        "outputId": "9a573fee-14db-499c-d8d8-47c2508721e5"
      },
      "execution_count": null,
      "outputs": [
        {
          "output_type": "stream",
          "name": "stdout",
          "text": [
            "[ 1  2  3  4  5  6  7  8  9 10]\n",
            "Elementos sumados\n",
            "55\n",
            "Promedio de los elementos\n",
            "5.5\n"
          ]
        }
      ]
    },
    {
      "cell_type": "markdown",
      "source": [
        "Podemos calcular las desviaciones de cada elemento, respecto a la media (5,5), así como también, sus desviaciones al cuadrado"
      ],
      "metadata": {
        "id": "qAFPHU56qbIU"
      }
    },
    {
      "cell_type": "code",
      "source": [
        "print(\"Desviaciones de cada elemento\")\n",
        "desviaciones_elemento = x - promedio_elementos\n",
        "print(desviaciones_elemento)\n",
        "print(\"Desviaciones de cada elemento al cuadrado\")\n",
        "desviaciones_cuadrado = (x - promedio_elementos) **2\n",
        "print(desviaciones_cuadrado)\n",
        "print(\"Suma de la desviación al cuadrado\")\n",
        "suma_desviaciones_cuadrado = desviaciones_cuadrado.sum()\n",
        "print(suma_desviaciones_cuadrado)\n"
      ],
      "metadata": {
        "colab": {
          "base_uri": "https://localhost:8080/"
        },
        "id": "5M0G-n5rqfeM",
        "outputId": "47a06c87-5909-46df-ba89-9a8ae3d6dfcf"
      },
      "execution_count": null,
      "outputs": [
        {
          "output_type": "stream",
          "name": "stdout",
          "text": [
            "Desviaciones de cada elemento\n",
            "[-4.5 -3.5 -2.5 -1.5 -0.5  0.5  1.5  2.5  3.5  4.5]\n",
            "Desviaciones de cada elemento al cuadrado\n",
            "[20.25 12.25  6.25  2.25  0.25  0.25  2.25  6.25 12.25 20.25]\n",
            "Suma de la desviación al cuadrado\n",
            "82.5\n"
          ]
        }
      ]
    },
    {
      "cell_type": "markdown",
      "source": [
        "Hay dos maneras de calcular la varianza con NumPy"
      ],
      "metadata": {
        "id": "vD5II0xBZmVT"
      }
    },
    {
      "cell_type": "code",
      "source": [
        "# 1era forma\n",
        "varianza1 = desviaciones_cuadrado.sum() / x.size #la suma de las desviaciones al cuadrado divida por el número de matrices se denomina varianza\n",
        "print(varianza1)\n",
        "\n",
        "# 2da forma\n",
        "varianza2 = x.var()\n",
        "print(varianza2)\n",
        "\n",
        "#Para encontrar la desviación estandar\n",
        "desviacion_estandar1 = np.sqrt(x.var()) # esto calcula la raíz cuadrada de la varianza, la cual corresponde a la desviación estandar.\n",
        "print(desviacion_estandar1)\n",
        "\n",
        "# forma con método de NumPy\n",
        "desviacion_estandar2 = x.std()\n",
        "print(desviacion_estandar2)\n"
      ],
      "metadata": {
        "colab": {
          "base_uri": "https://localhost:8080/"
        },
        "id": "EdkmuA-BZrCS",
        "outputId": "f2486ad2-d721-4995-f9a4-617cd03dcbf0"
      },
      "execution_count": null,
      "outputs": [
        {
          "output_type": "stream",
          "name": "stdout",
          "text": [
            "8.25\n",
            "8.25\n",
            "2.8722813232690143\n",
            "2.8722813232690143\n"
          ]
        }
      ]
    },
    {
      "cell_type": "markdown",
      "source": [
        "Podemos calcular la suma acumulativa de todos los elementos de un array usando el método cumsum().  \n",
        "Devuelve un nuevo array donde cada elemento en la posición i es la suma de todos los elementos desde el inicio del array hasta la posición i."
      ],
      "metadata": {
        "id": "C32mUnZtbg2E"
      }
    },
    {
      "cell_type": "code",
      "source": [
        "suma_acumulada = x.cumsum()\n",
        "print(suma_acumulada)"
      ],
      "metadata": {
        "colab": {
          "base_uri": "https://localhost:8080/"
        },
        "id": "K7lEfmsVblMu",
        "outputId": "a4bd1d1d-e998-45b5-9b89-9f80926f52c3"
      },
      "execution_count": null,
      "outputs": [
        {
          "output_type": "stream",
          "name": "stdout",
          "text": [
            "[ 1  3  6 10 15 21 28 36 45 55]\n"
          ]
        }
      ]
    },
    {
      "cell_type": "markdown",
      "source": [
        "A continuación, veremos el uso de el método reshape(), el cual sirve para cambiar las dimensiones de un array"
      ],
      "metadata": {
        "id": "_B0kjgVRce2d"
      }
    },
    {
      "cell_type": "code",
      "source": [
        "# Creamos un array que va desde el 1 al 6\n",
        "y = np.arange(1,7)\n",
        "print(y)\n",
        "# procedemos a convertir el array a uno bidimensional de 2x3\n",
        "array_bidimensional = y.reshape(2,3)\n",
        "print(array_bidimensional)\n",
        "\n",
        "array_modificado = y.reshape(2, -1)\n",
        "# Con esto, estamos especificando que queremos dos filas y dejamos que NumPy calcule automáticamente las columnas necesarias.\n",
        "# Al haber 6 elementos y 2 filas, Numpy calcula: 6/2 = 3 columnas. Al imprimir esto, imprimirá lo mismo que el anterior array.\n",
        "print(array_modificado)\n",
        "\n",
        "array_modificado2 = y.reshape(3, -1)\n",
        "# Aquí tenemos otro ejemplo; queremos 3 filas y dejamos que Numpy calcule automáticamente las columnas necesarias.\n",
        "# Numpy calcula: 6/3 = 2 columnas.\n",
        "print(array_modificado2)\n"
      ],
      "metadata": {
        "colab": {
          "base_uri": "https://localhost:8080/"
        },
        "id": "3OZw8MY5cv-G",
        "outputId": "e0bade5d-7397-45c7-f8c6-6e95f0b22fe5"
      },
      "execution_count": null,
      "outputs": [
        {
          "output_type": "stream",
          "name": "stdout",
          "text": [
            "[1 2 3 4 5 6]\n",
            "[[1 2 3]\n",
            " [4 5 6]]\n",
            "[[1 2 3]\n",
            " [4 5 6]]\n",
            "[[1 2]\n",
            " [3 4]\n",
            " [5 6]]\n"
          ]
        }
      ]
    },
    {
      "cell_type": "markdown",
      "source": [
        "Las funciones estadísticas de NumPy se pueden aplicar por fila y columna siempre y cuando le entreges como argumento el axis que deseas (0 = eje vertical, osea, columnas, y 1 = eje horizontal, osea, filas)"
      ],
      "metadata": {
        "id": "OSpaY9zRefPX"
      }
    },
    {
      "cell_type": "code",
      "source": [
        "y = y.reshape(2,3)\n",
        "print(y)\n",
        "# Calculamos el promedio de cada columna\n",
        "prom_col = y.mean(axis=0)\n",
        "print(prom_col)\n",
        "# Y ahora calculamos el promedio de  cada fila\n",
        "prom_fila = y.mean(axis=1)\n",
        "print(prom_fila)"
      ],
      "metadata": {
        "colab": {
          "base_uri": "https://localhost:8080/"
        },
        "id": "-b4tfktOe0Py",
        "outputId": "80c6fe23-fa20-4673-9413-4a92d37671ec"
      },
      "execution_count": null,
      "outputs": [
        {
          "output_type": "stream",
          "name": "stdout",
          "text": [
            "[[1 2 3]\n",
            " [4 5 6]]\n",
            "[2.5 3.5 4.5]\n",
            "[2. 5.]\n"
          ]
        }
      ]
    },
    {
      "cell_type": "markdown",
      "source": [
        "### Números random en NumPy"
      ],
      "metadata": {
        "id": "m4Dkd8N9fWEz"
      }
    },
    {
      "cell_type": "markdown",
      "source": [
        "np.random.seed() es un método de NumPy que inicializa el generador de números pseudoaleatorios. Establece un punto de partida fijo para la secuencia de números aleatorios."
      ],
      "metadata": {
        "id": "dTdqRxxUgLMN"
      }
    },
    {
      "cell_type": "code",
      "source": [
        "# Ejemplo sin seed\n",
        "print(np.random.rand(3))  # [0.123, 0.456, 0.789] (diferente cada vez)\n",
        "print(np.random.rand(3))  # [0.987, 0.654, 0.321] (siempre cambia)"
      ],
      "metadata": {
        "colab": {
          "base_uri": "https://localhost:8080/"
        },
        "id": "XgSz9zzjf51B",
        "outputId": "1cb4fc83-f563-4cc2-bf45-b951df5db67e"
      },
      "execution_count": null,
      "outputs": [
        {
          "output_type": "stream",
          "name": "stdout",
          "text": [
            "[0.69910086 0.6346118  0.94493344]\n",
            "[0.45791692 0.39993651 0.19168755]\n"
          ]
        }
      ]
    },
    {
      "cell_type": "code",
      "source": [
        "# Ejemplo con seed\n",
        "np.random.seed(123)\n",
        "# Pido 3 números (lee las primeras 3 líneas de la página 123)\n",
        "print(np.random.rand(3))  # [0.696469, 0.286139, 0.226851] (siempre igual)\n",
        "\n",
        "# Pido 3 números más (lee las siguientes 3 líneas)\n",
        "print(np.random.rand(3))  # [0.551315, 0.719469, 0.423106] (siempre igual)"
      ],
      "metadata": {
        "colab": {
          "base_uri": "https://localhost:8080/"
        },
        "id": "vRFnfNeKgbyv",
        "outputId": "36b1e2b8-5b55-41d4-c12e-1abc01dfbba1"
      },
      "execution_count": null,
      "outputs": [
        {
          "output_type": "stream",
          "name": "stdout",
          "text": [
            "[0.69646919 0.28613933 0.22685145]\n",
            "[0.55131477 0.71946897 0.42310646]\n"
          ]
        }
      ]
    },
    {
      "cell_type": "markdown",
      "source": [
        "Explicado en términos simples: Cada vez que pides un número aleatorio, la computadora abre el libro en una página diferente (usando el reloj interno).  \n",
        "\n",
        "**Con semilla:**  \n",
        "np.random.seed(123) le dice a la computadora:  \n",
        "\n",
        "\"¡Abre el libro siempre en la página 123!\"\n",
        "\n",
        "Así siempre leerá los mismos números en el mismo orden.  \n",
        "Al cambiar la semilla, cambian los números que se generan"
      ],
      "metadata": {
        "id": "UYL446JWg1F9"
      }
    },
    {
      "cell_type": "code",
      "source": [
        "np.random.seed(42)\n",
        "print(np.random.rand(3)) # [0.37454012 0.95071431 0.73199394]\n",
        "print(np.random.rand(3)) # [0.59865848 0.15601864 0.15599452]"
      ],
      "metadata": {
        "colab": {
          "base_uri": "https://localhost:8080/"
        },
        "id": "cdktXS-Zhdam",
        "outputId": "086dea1d-ee7e-4a6c-b8cf-427cf516407d"
      },
      "execution_count": null,
      "outputs": [
        {
          "output_type": "stream",
          "name": "stdout",
          "text": [
            "[0.37454012 0.95071431 0.73199394]\n",
            "[0.59865848 0.15601864 0.15599452]\n"
          ]
        }
      ]
    },
    {
      "cell_type": "markdown",
      "source": [
        "Y así los números se generan en base a la semilla proporcionada."
      ],
      "metadata": {
        "id": "MMvHYIBHhpry"
      }
    },
    {
      "cell_type": "code",
      "source": [
        "arr_random = np.random.rand(10) # Esta línea genera 10 números aleatorios entre 0 y 9 (incluye 0 y excluye 10)\n",
        "print(arr_random)\n",
        "arr_random2 = np.random.rand(1, 11) # Esta línea genera 11 números aleatorios entre 1 y 11 excluyendo el 11\n",
        "print(arr_random2)"
      ],
      "metadata": {
        "colab": {
          "base_uri": "https://localhost:8080/"
        },
        "id": "fVNQephdiim-",
        "outputId": "2f58eb58-66df-427d-b949-e897a9787e6d"
      },
      "execution_count": null,
      "outputs": [
        {
          "output_type": "stream",
          "name": "stdout",
          "text": [
            "[0.09767211 0.68423303 0.44015249 0.12203823 0.49517691 0.03438852\n",
            " 0.9093204  0.25877998 0.66252228 0.31171108]\n",
            "[[0.52006802 0.54671028 0.18485446 0.96958463 0.77513282 0.93949894\n",
            "  0.89482735 0.59789998 0.92187424 0.0884925  0.19598286]]\n"
          ]
        }
      ]
    },
    {
      "cell_type": "markdown",
      "source": [
        "### Otras funciones útiles"
      ],
      "metadata": {
        "id": "bUWe7gJXkDbO"
      }
    },
    {
      "cell_type": "markdown",
      "source": [
        "- np.unique(): devuelve valores únicos.\n",
        "- np.round(): redondeo.\n",
        "- np.argmax(): índice del valor máximo.\n",
        "- np.argmin(): índice del valor mínimo."
      ],
      "metadata": {
        "id": "yPGRFWJ2kL4j"
      }
    },
    {
      "cell_type": "code",
      "source": [
        "arr = np.array([1, 2, 2, 3, 4, 4, 5])\n",
        "print(\"Valores únicos:\", np.unique(arr))\n",
        "\n",
        "print(\"Redondear π a 2 decimales:\", np.round(np.pi, 2))\n",
        "\n",
        "print(\"Índice del máximo:\", arr.argmax())\n",
        "print(\"Índice del mínimo:\", arr.argmin())"
      ],
      "metadata": {
        "colab": {
          "base_uri": "https://localhost:8080/"
        },
        "id": "_WsmuIJakS8c",
        "outputId": "38d28e00-3869-470c-c9ac-f72474597c36"
      },
      "execution_count": null,
      "outputs": [
        {
          "output_type": "stream",
          "name": "stdout",
          "text": [
            "Valores únicos: [1 2 3 4 5]\n",
            "Redondear π a 2 decimales: 3.14\n",
            "Índice del máximo: 6\n",
            "Índice del mínimo: 0\n"
          ]
        }
      ]
    }
  ]
}