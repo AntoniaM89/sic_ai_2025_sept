{
  "nbformat": 4,
  "nbformat_minor": 0,
  "metadata": {
    "colab": {
      "provenance": [],
      "authorship_tag": "ABX9TyMQnW0f2cqFT468a6g8pr69",
      "include_colab_link": true
    },
    "kernelspec": {
      "name": "python3",
      "display_name": "Python 3"
    },
    "language_info": {
      "name": "python"
    }
  },
  "cells": [
    {
      "cell_type": "markdown",
      "metadata": {
        "id": "view-in-github",
        "colab_type": "text"
      },
      "source": [
        "<a href=\"https://colab.research.google.com/github/davidlealo/sic_ai_2025_sept/blob/main/6_proyectos/clase_13.ipynb\" target=\"_parent\"><img src=\"https://colab.research.google.com/assets/colab-badge.svg\" alt=\"Open In Colab\"/></a>"
      ]
    },
    {
      "cell_type": "markdown",
      "source": [
        "# Samsung Innovation Campus 2025 – Inteligencia Artificial  \n",
        "## Clase 13 – Grupo 03  \n",
        "**Fecha:** sábado 27 de septiembre de 2025  \n",
        "\n",
        "---\n",
        "\n",
        "## Resumen de la sesión\n",
        "\n",
        "### 1. Contexto\n",
        "- La clase se enmarca en el **módulo de proyectos**, que complementa el eje técnico del programa.  \n",
        "- Objetivo: aplicar lo aprendido en inteligencia artificial y ciencia de datos para **diagnosticar problemáticas reales y proponer soluciones innovadoras**.  \n",
        "- Se trabaja bajo la metodología de **Design Thinking**.  \n",
        "\n",
        "### 2. Recordatorio de fases vistas\n",
        "- Ya se había avanzado en la **identificación de problemáticas** mediante empatía y definición.  \n",
        "- En esta sesión se preparó el terreno para pasar al **espacio de soluciones**.  \n",
        "\n",
        "### 3. Contenidos trabajados\n",
        "- Se explicó que el siguiente paso es **idear, prototipar y evaluar**.  \n",
        "- Se mostraron ejemplos de cómo una problemática puede transformarse en propuesta de solución (ej.: optimización de rutas de recolección de residuos).  \n",
        "- Se enfatizó la importancia de:  \n",
        "  - Pensar en **usuarios concretos** (empresas, municipalidades, comunidades).  \n",
        "  - Formular **insights** a partir de necesidades detectadas.  \n",
        "  - Pasar de la divergencia de ideas al proceso de **convergencia** (selección y agrupación de propuestas).  \n",
        "\n",
        "### 4. Actividad proyectada\n",
        "- En la próxima clase se realizará un **taller de ideación**:  \n",
        "  - Brainstorming de ideas en equipos.  \n",
        "  - Selección de propuestas.  \n",
        "  - Agrupación y convergencia para definir una idea a prototipar.  \n",
        "\n",
        "---\n",
        "\n",
        "## Tareas para el grupo\n",
        "1. Revisar la problemática definida y recopilar **insights claros**.  \n",
        "2. Documentar al menos **3 posibles enfoques de solución**.  \n",
        "3. Preparar insumos para el próximo **ejercicio de ideación en clase**.  \n",
        "\n",
        "---\n",
        "\n",
        "## Observaciones finales\n",
        "- La sesión fue de **transición del espacio del problema al espacio de la solución**.  \n",
        "- Se reforzó la necesidad de vincular los proyectos con el **contexto social y comunitario**.  \n",
        "- Se destacó que el proceso es iterativo y que la **narrativa del problema** debe mantenerse clara al pasar a la ideación.  \n",
        "\n",
        "---\n"
      ],
      "metadata": {
        "id": "b88kaly24EvS"
      }
    },
    {
      "cell_type": "code",
      "execution_count": null,
      "metadata": {
        "id": "XWq-eMx34Ckn"
      },
      "outputs": [],
      "source": []
    }
  ]
}