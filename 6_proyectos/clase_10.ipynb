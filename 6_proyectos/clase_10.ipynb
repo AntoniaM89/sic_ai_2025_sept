{
  "nbformat": 4,
  "nbformat_minor": 0,
  "metadata": {
    "colab": {
      "provenance": [],
      "authorship_tag": "ABX9TyMdCoRoGxtOMGu75qYqRlMs",
      "include_colab_link": true
    },
    "kernelspec": {
      "name": "python3",
      "display_name": "Python 3"
    },
    "language_info": {
      "name": "python"
    }
  },
  "cells": [
    {
      "cell_type": "markdown",
      "metadata": {
        "id": "view-in-github",
        "colab_type": "text"
      },
      "source": [
        "<a href=\"https://colab.research.google.com/github/davidlealo/sic_ai_2025_sept/blob/main/6_proyectos/clase_10.ipynb\" target=\"_parent\"><img src=\"https://colab.research.google.com/assets/colab-badge.svg\" alt=\"Open In Colab\"/></a>"
      ]
    },
    {
      "cell_type": "markdown",
      "source": [
        "# Clase 10 – Introducción a SQL  \n",
        "Fecha: 24 de septiembre de 2025  \n",
        "Profesor invitado: Flavio, especialista en Big Data y SQL  \n",
        "\n",
        "## 1. Contexto de la clase  \n",
        "- Diferentes niveles de conocimiento en el grupo: desde cero hasta avanzado.  \n",
        "- Objetivo: introducción práctica a SQL para nivelar al grupo y comenzar con bases de datos relacionales.  \n",
        "\n",
        "## 2. Conceptos clave  \n",
        "### ¿Qué es SQL?  \n",
        "- SQL (Structured Query Language) es el lenguaje estándar para bases de datos relacionales.  \n",
        "- 70% de las bases de datos en el mundo se gestionan con SQL.  \n",
        "- Permite trabajar en distintos gestores: MySQL, PostgreSQL, SQL Server, MariaDB, etc.  \n",
        "\n",
        "### Elementos principales  \n",
        "- Base de datos (DB): conjunto organizado de información.  \n",
        "- DBMS (Database Management System): software que permite crear, gestionar y consultar bases de datos.  \n",
        "- Interfaz gráfica: herramientas como MySQL Workbench facilitan la visualización de tablas y consultas.  \n",
        "\n",
        "## 3. Evolución de bases de datos  \n",
        "- Sistemas de archivos → documentos en carpetas.  \n",
        "- DB jerárquicas → organización padre-hijo.  \n",
        "- DB de red → nodos y relaciones múltiples.  \n",
        "- DB relacionales → modelo más difundido, organiza en tablas bidimensionales.  \n",
        "- NoSQL → para datos masivos y no estructurados.  \n",
        "\n",
        "## 4. Conceptos fundamentales de SQL  \n",
        "- Tablas: filas (registros) y columnas (atributos).  \n",
        "- Modelo entidad–relación: entidades, atributos y relaciones.  \n",
        "- Claves: primaria (PK) y foránea (FK).  \n",
        "- Normalización: elimina redundancias y mejora coherencia.  \n",
        "\n",
        "## 5. Propiedades ACID  \n",
        "- Atomicidad, Consistencia, Aislamiento, Durabilidad.  \n",
        "\n",
        "## 6. Operaciones CRUD  \n",
        "- Create, Read, Update, Delete.  \n",
        "\n",
        "## 7. Primeros comandos SQL  \n",
        "- SELECT, INSERT, UPDATE, DELETE.  \n",
        "- CREATE DATABASE / CREATE TABLE.  \n",
        "\n",
        "## 8. Tipos de datos comunes  \n",
        "- INT, VARCHAR(n), DATE.  \n",
        "\n",
        "## 9. Herramientas utilizadas  \n",
        "- MySQL Server (Community Edition).  \n",
        "- MySQL Workbench.  \n",
        "- W3Schools SQL Playground.  \n",
        "\n",
        "## 10. Ejemplo práctico  \n",
        "Tabla estudiantes: id, nombre, apellido, edad, email.  \n",
        "\n",
        "```sql\n",
        "INSERT INTO estudiantes (id, nombre, apellido, edad, email)\n",
        "VALUES (1, 'Flavio', 'González', 35, 'flavio@example.com');\n",
        "```\n",
        "\n",
        "```sql\n",
        "SELECT nombre, apellido, edad, email\n",
        "FROM estudiantes;\n",
        "```\n",
        "\n",
        "## 11. Actividad de la clase  \n",
        "- Instalación de MySQL Server y Workbench.  \n",
        "- Creación de una base de datos propia.  \n",
        "- Modelado de tabla estudiantes.  \n",
        "- Inserción de registros.  \n",
        "- Ejecución de consultas simples.  \n",
        "\n",
        "## 12. Cierre  \n",
        "- Primer acercamiento práctico a SQL.  \n",
        "- Bases para consultas simples y modelado de datos.  \n",
        "- Próxima sesión: consultas más complejas (WHERE, ORDER BY, JOIN).  \n"
      ],
      "metadata": {
        "id": "eZXHNy40VO-X"
      }
    },
    {
      "cell_type": "code",
      "execution_count": null,
      "metadata": {
        "id": "_Y9iKJ8pVKPI"
      },
      "outputs": [],
      "source": []
    }
  ]
}