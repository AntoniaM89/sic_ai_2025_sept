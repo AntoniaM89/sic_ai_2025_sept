{
  "nbformat": 4,
  "nbformat_minor": 0,
  "metadata": {
    "colab": {
      "provenance": [],
      "include_colab_link": true
    },
    "kernelspec": {
      "name": "python3",
      "display_name": "Python 3"
    },
    "language_info": {
      "name": "python"
    }
  },
  "cells": [
    {
      "cell_type": "markdown",
      "metadata": {
        "id": "view-in-github",
        "colab_type": "text"
      },
      "source": [
        "<a href=\"https://colab.research.google.com/github/davidlealo/sic_ai_2025_sept/blob/main/1_introduccion/clase_01.ipynb\" target=\"_parent\"><img src=\"https://colab.research.google.com/assets/colab-badge.svg\" alt=\"Open In Colab\"/></a>"
      ]
    },
    {
      "cell_type": "markdown",
      "source": [
        "# Resumen Clase 1 – Samsung Innovation Campus IA Mujeres  \n",
        "**Fecha:** 9 de septiembre de 2025  \n",
        "**Última clase:** 18 de noviembre de 2025  \n",
        "\n",
        "\n",
        "---\n",
        "\n",
        "## 1. Bienvenida e Introducción\n",
        "- Inicio oficial el **9 de septiembre** (no el 5 como decía la web).  \n",
        "- Programa de **+50 clases** hasta el 18 de noviembre.  \n",
        "- Curso exclusivo para mujeres, en el marco global de Samsung Innovation Campus.  \n",
        "- Saludo inicial de **Paulina Rodríguez (Samsung)**: destacó la dificultad de postulación, el objetivo de formar 160 mujeres este año y la oportunidad de aprovechar el curso al máximo.  \n",
        "- Plataforma central: [innovacien.com](https://innovacien.com).  \n",
        "\n",
        "---\n",
        "\n",
        "## 2. Requisitos de Aprobación\n",
        "- **90% de asistencia mínima** (registro en Meet + respaldo en chat).  \n",
        "- **Perfil de LinkedIn actualizado.**  \n",
        "- **Evaluaciones:**\n",
        "  - Quizzes por módulo (mínimo 50%).  \n",
        "  - Test final (mínimo 50%).  \n",
        "- **Participación en actividades presenciales obligatorias** (octubre y cierre en noviembre).  \n",
        "- **Proyecto final grupal**: investigación + solución aplicada + presentación pública.  \n",
        "\n",
        "---\n",
        "\n",
        "## 3. Organización del Curso\n",
        "- **Horarios:**  \n",
        "  - Lunes a viernes: 18:30 – 22:00.  \n",
        "  - Sábados: 08:00 – 13:00.  \n",
        "- **Estructura:**  \n",
        "  - 11 módulos principales.  \n",
        "  - 2 unidades grabadas (Matemática y Probabilidad).  \n",
        "- **Soporte:**  \n",
        "  - Servidor en Discord (comunicación y canales temáticos).  \n",
        "  - Carpeta con materiales y plantillas.  \n",
        "  - Repositorio GitHub: [sic_ai_2025_sept](https://github.com/davidlealo/sic_ai_2025_sept).  \n",
        "\n",
        "---\n",
        "\n",
        "## 4. Contenido de la Primera Sesión\n",
        "- **Historia y filosofía de la IA:**  \n",
        "  - Descartes y el *uso creativo del lenguaje* (1637).  \n",
        "  - Alan Turing y el *Test de Turing* (1940s).  \n",
        "  - Superación del test con modelos GPT (2024).  \n",
        "- **Definición práctica:** IA = capacidad de un programa para *pensar y aprender*.  \n",
        "- **Distinciones clave:**  \n",
        "  - **IA:** campo general (razonamiento, aprendizaje, autocorrección).  \n",
        "  - **Machine Learning (ML):** aprendizaje a partir de datos (predicción y agrupación).  \n",
        "  - **Deep Learning (DL):** redes neuronales profundas, “caja negra”.  \n",
        "  - **IA Generativa:** creación de nuevos datos (texto, imágenes, audio).  \n",
        "- **Ejemplos discutidos:**  \n",
        "  - Recomendaciones en Amazon.  \n",
        "  - Predicción de tráfico con RNN y transformers.  \n",
        "  - Proyectos estudiantiles anteriores:  \n",
        "    - App para reciclaje con visión computacional.  \n",
        "    - Predicción de incendios forestales con modelos en webapp.  \n",
        "    - Reconocimiento de señas con Django.  \n",
        "    - Clasificación de ofertas laborales con scraping.  \n",
        "\n",
        "---\n",
        "\n",
        "## 5. Recursos y Referencias\n",
        "- Paper **Transformers**: [Vaswani et al., 2017](https://arxiv.org/abs/1706.03762).  \n",
        "- Investigación Anthropic: [*Mapping the Mind of a Language Model*](https://www.anthropic.com/research/mapping-mind-language-model).  \n",
        "- Imagen sobre ecosistema IA: ![AI](https://www.devoteam.com/wp-content/uploads/2024/12/image-10.png).  \n",
        "\n",
        "---\n",
        "\n",
        "## 6. Próximos Pasos\n",
        "- Completar el **test diagnóstico inicial**.  \n",
        "- Familiarizarse con la plataforma innovacien.com y Discord.  \n",
        "- Revisar los materiales del **Módulo 1 – Introducción a la IA**.  \n",
        "- Prepararse para iniciar el **trabajo en proyectos grupales**.  \n",
        "\n",
        "---\n"
      ],
      "metadata": {
        "id": "aLMjWOXl5r4C"
      }
    },
    {
      "cell_type": "code",
      "execution_count": null,
      "metadata": {
        "id": "DRrDw73y5qOE"
      },
      "outputs": [],
      "source": [
        "# Llegamos hasta la slide 16"
      ]
    }
  ]
}