{
  "nbformat": 4,
  "nbformat_minor": 0,
  "metadata": {
    "colab": {
      "provenance": []
    },
    "kernelspec": {
      "name": "python3",
      "display_name": "Python 3"
    },
    "language_info": {
      "name": "python"
    }
  },
  "cells": [
    {
      "cell_type": "markdown",
      "source": [],
      "metadata": {
        "id": "aLMjWOXl5r4C"
      }
    },
    {
      "cell_type": "markdown",
      "source": [
        "![ai](https://www.devoteam.com/wp-content/uploads/2024/12/image-10.png)"
      ],
      "metadata": {
        "id": "TIOnIaxm5twB"
      }
    },
    {
      "cell_type": "code",
      "execution_count": null,
      "metadata": {
        "id": "DRrDw73y5qOE"
      },
      "outputs": [],
      "source": [
        "# Llegamos hasta la slide 16"
      ]
    }
  ]
}