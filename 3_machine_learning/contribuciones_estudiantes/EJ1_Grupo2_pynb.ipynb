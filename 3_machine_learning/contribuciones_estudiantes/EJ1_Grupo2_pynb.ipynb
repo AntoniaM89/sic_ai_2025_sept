{
  "nbformat": 4,
  "nbformat_minor": 0,
  "metadata": {
    "colab": {
      "provenance": [],
      "include_colab_link": true
    },
    "kernelspec": {
      "name": "python3",
      "display_name": "Python 3"
    },
    "language_info": {
      "name": "python"
    }
  },
  "cells": [
    {
      "cell_type": "markdown",
      "metadata": {
        "id": "view-in-github",
        "colab_type": "text"
      },
      "source": [
        "<a href=\"https://colab.research.google.com/github/calistojuupiter-collab/sic_ai_2025_sept/blob/main/EJ1_Grupo2_pynb.ipynb\" target=\"_parent\"><img src=\"https://colab.research.google.com/assets/colab-badge.svg\" alt=\"Open In Colab\"/></a>"
      ]
    },
    {
      "cell_type": "markdown",
      "source": [
        "### SAMSUNG INNOVATION CAMPUS - CURSO INTELIGENCIA ARTIFICIAL\n",
        "#### CAPÍTULO 3 :\n",
        "### __ANÁLISIS EXPLORATORIO DE DATOS: NumPy Arrays para Cálculo Numérico Optimizado y Pandas__\n",
        "\n",
        "[ESP SIC_AI_Chapter 3.pdf](https://drive.google.com/drive/folders/1U-qnwGcFqv9VVB3seJiS7J7aAZVCSlnd)\n",
        "\n",
        "\n",
        "Comentarios y observaciones #EQUIPO 2 💛 __Páginas 76 -106__\n",
        "\n"
      ],
      "metadata": {
        "id": "uhd_TVdniuzL"
      }
    },
    {
      "cell_type": "markdown",
      "source": [
        "UNIDAD 1\n",
        "## __Estructura de datos de matriz NumPy para un rendimiento computacional óptimo.__\n",
        "### 1.3. Operaciones de matriz Numpy\n"
      ],
      "metadata": {
        "id": "1skFsmJ7lBCw"
      }
    },
    {
      "cell_type": "markdown",
      "source": [
        "\n",
        "\n",
        "> En la matriz en NumPy los datos pueden procesarse colectivamente, gracias a la vectorización de la información, esto potencia el rendimiento  \n",
        "\n",
        "\n"
      ],
      "metadata": {
        "id": "cOt6IHOrljEo"
      }
    },
    {
      "cell_type": "code",
      "source": [
        "import numpy as np"
      ],
      "metadata": {
        "id": "ZxRxWzajliY0"
      },
      "execution_count": null,
      "outputs": []
    },
    {
      "cell_type": "code",
      "source": [
        "# LISTAS PARA EJEMPLOS\n",
        "\n",
        "list1 = [1,2,3,4,5,6,7,8]\n",
        "list2 = [5,10,15,20,25,30,35,40]\n",
        "\n",
        "# ARRAYS DE NUMPY PARA EJEMPLOS\n",
        "\n",
        "arr1\n",
        "ar"
      ],
      "metadata": {
        "id": "0lFogLynb2Lz"
      },
      "execution_count": null,
      "outputs": []
    },
    {
      "cell_type": "code",
      "source": [
        "# Comparación de listas Python con matrices Numpy: Operador +  [Pág 77 - 78]\n",
        "a=\n",
        "b=\n",
        "print(f\"Esto es una suma de listas \\n{a+b}\")\n",
        "arr1=np.array([1,2,3,4,5])\n",
        "arr2=np.array([3,9,27,81,729])\n",
        "print(f\"\\nEsto es una suma de arrays \\n{arr1+arr2}\")\n"
      ],
      "metadata": {
        "colab": {
          "base_uri": "https://localhost:8080/"
        },
        "id": "nulSMB3Kmdke",
        "outputId": "9e07a0b6-cbe6-4c21-b227-a4046550de8d"
      },
      "execution_count": null,
      "outputs": [
        {
          "output_type": "stream",
          "name": "stdout",
          "text": [
            "Esto es una suma de listas \n",
            "[1, 2, 3, 4, 5, 6, 7, 8, 5, 10, 15, 20, 25, 30, 35, 40]\n",
            "\n",
            "Esto es una suma de arrays \n",
            "[  4  11  30  85 734]\n"
          ]
        }
      ]
    },
    {
      "cell_type": "code",
      "source": [
        "# Operadores de suma, resta, multiplicación y división con matrices y igual dimensión [Pág 79]\n",
        "\n",
        "\"\"\"\n",
        "Primero se compara si ambos arrays son iguales\n",
        "\"\"\"\n",
        "print(f\"Comparación ndim entre matrices {arr1.ndim , arr2.ndim}\")\n",
        "print(f\"Comparación size entre matrices {arr1.size , arr2.size}\")\n",
        "print(f\"Comparación shape entre matrices {arr1.shape , arr2.shape}\")\n",
        "print(\"\")\n",
        "\n",
        "\n",
        "# Operadores entre matrices\n",
        "print(f\"Sume de matrices            :  {arr1+arr2}\")\n",
        "print(f\"Resta de matrices           :  {arr1-arr2}\")\n",
        "print(f\"Multiplicación de matrices  :  {arr1*arr2}\")\n",
        "print(f\"Divisiones de matrices      :  {arr1/arr2}\")\n"
      ],
      "metadata": {
        "colab": {
          "base_uri": "https://localhost:8080/"
        },
        "id": "ZhtoqmTLnnQm",
        "outputId": "8970cd44-3838-4395-d5ab-160d6385c1aa"
      },
      "execution_count": null,
      "outputs": [
        {
          "output_type": "stream",
          "name": "stdout",
          "text": [
            "Comparación ndim entre matrices (1, 1)\n",
            "Comparación size entre matrices (5, 5)\n",
            "Comparación shape entre matrices ((5,), (5,))\n",
            "\n",
            "Sume de matrices            :  [  4  11  30  85 734]\n",
            "Resta de matrices           :  [  -2   -7  -24  -77 -724]\n",
            "Multiplicación de matrices  :  [   3   18   81  324 3645]\n",
            "Divisiones de matrices      :  [0.33333333 0.22222222 0.11111111 0.04938272 0.00685871]\n"
          ]
        }
      ]
    },
    {
      "cell_type": "code",
      "source": [
        "# Comparación de listas Python con matrices Numpy: Muiltiplicación  [Pág 80]\n",
        "print(f\"Esto es una multiplicación de lista * una variable \\n{a*3}\")\n",
        "print(\" 🔹NOTA: al multuplicar una lista por una variable n, esta se repite n veces\")\n",
        "\n",
        "print(f\"\\nEsto es una multiplicación de un array * una variable \\n{arr1*3}\")\n"
      ],
      "metadata": {
        "colab": {
          "base_uri": "https://localhost:8080/"
        },
        "id": "NZ1Xl5hwsqCm",
        "outputId": "90027106-ac61-4e09-8f60-b4afaa163dd8"
      },
      "execution_count": null,
      "outputs": [
        {
          "output_type": "stream",
          "name": "stdout",
          "text": [
            "Esto es una multiplicación de lista * una variable \n",
            "[1, 2, 3, 4, 5, 6, 7, 8, 1, 2, 3, 4, 5, 6, 7, 8, 1, 2, 3, 4, 5, 6, 7, 8]\n",
            " 🔹NOTA: al multuplicar una lista por una variable n, esta se repite n veces\n",
            "\n",
            "Esto es una multiplicación de un array * una variable \n",
            "[ 3  6  9 12 15]\n"
          ]
        }
      ]
    },
    {
      "cell_type": "code",
      "source": [
        "# Repetir y mosaico [Pág 81]\n",
        "print(f\"Esto es un array con repeat [3 veces] :  \\n{np.repeat(arr1,3)}\")\n",
        "print(\"🔹NOTA: Al aplicar repear, los valores se repiten consecutivamente\")\n",
        "\n",
        "print(f\"\\nEsto es un array con tile [3 veces]   :  \\n{np.tile(arr1,3)}\")\n",
        "print(\"🔹NOTA: Al aplicar tile, la matriz se repetira consecutivamente\")"
      ],
      "metadata": {
        "colab": {
          "base_uri": "https://localhost:8080/"
        },
        "id": "qQT9TCcNsc5V",
        "outputId": "210ffdaf-69d6-4227-a6b2-12a90b9a4d81"
      },
      "execution_count": null,
      "outputs": [
        {
          "output_type": "stream",
          "name": "stdout",
          "text": [
            "Esto es un array con repeat [3 veces] :  \n",
            "[1 1 1 2 2 2 3 3 3 4 4 4 5 5 5]\n",
            "🔹NOTA: Al aplicar repear, los valores se repiten consecutivamente\n",
            "\n",
            "Esto es un array con tile [3 veces]   :  \n",
            "[1 2 3 4 5 1 2 3 4 5 1 2 3 4 5]\n",
            "🔹NOTA: Al aplicar tile, la matriz se repetira consecutivamente\n"
          ]
        }
      ]
    },
    {
      "cell_type": "code",
      "source": [
        "# Cuando se utliza el método de mosaico, la matriz se puede repetir de forma bidimensional [Pág 82]\n",
        "arr3 = np.arange(15)\n",
        "arr3 = arr3.reshape(3,5)\n",
        "\n",
        "print(f\"Esto es un array con tile [3 veces]: \\n{np.tile(arr3,3)}\")"
      ],
      "metadata": {
        "colab": {
          "base_uri": "https://localhost:8080/"
        },
        "id": "q55_ALgGGqL9",
        "outputId": "7a69ae41-465d-44f2-ddb8-77627e69fa8d"
      },
      "execution_count": null,
      "outputs": [
        {
          "output_type": "stream",
          "name": "stdout",
          "text": [
            "Esto es un array con tile [3 veces]: \n",
            "[[ 0  1  2  3  4  0  1  2  3  4  0  1  2  3  4]\n",
            " [ 5  6  7  8  9  5  6  7  8  9  5  6  7  8  9]\n",
            " [10 11 12 13 14 10 11 12 13 14 10 11 12 13 14]]\n"
          ]
        }
      ]
    },
    {
      "cell_type": "code",
      "source": [
        "#Las matrices también pueden realizar operaciones exponenciales\n",
        "arr2**2"
      ],
      "metadata": {
        "colab": {
          "base_uri": "https://localhost:8080/",
          "height": 165
        },
        "id": "wE7f9iHYba3I",
        "outputId": "19266cb5-6afb-4725-ccef-a947c2130763"
      },
      "execution_count": null,
      "outputs": [
        {
          "output_type": "error",
          "ename": "NameError",
          "evalue": "name 'arr2' is not defined",
          "traceback": [
            "\u001b[0;31m---------------------------------------------------------------------------\u001b[0m",
            "\u001b[0;31mNameError\u001b[0m                                 Traceback (most recent call last)",
            "\u001b[0;32m/tmp/ipython-input-3147199578.py\u001b[0m in \u001b[0;36m<cell line: 0>\u001b[0;34m()\u001b[0m\n\u001b[1;32m      1\u001b[0m \u001b[0;31m#Las matrices también pueden realizar operaciones exponenciales\u001b[0m\u001b[0;34m\u001b[0m\u001b[0;34m\u001b[0m\u001b[0m\n\u001b[0;32m----> 2\u001b[0;31m \u001b[0marr2\u001b[0m\u001b[0;34m**\u001b[0m\u001b[0;36m2\u001b[0m\u001b[0;34m\u001b[0m\u001b[0;34m\u001b[0m\u001b[0m\n\u001b[0m",
            "\u001b[0;31mNameError\u001b[0m: name 'arr2' is not defined"
          ]
        }
      ]
    },
    {
      "cell_type": "code",
      "source": [
        "\n",
        "\n",
        "# Ralitza\n",
        "# mosaico\n",
        "c = np.arange(8).reshape(2, 4)\n",
        "print(f\"c={c}\")\n",
        "mosaico = np.tile(c, 2)\n",
        "print(f\"mosaico={mosaico}\")\n",
        "\n",
        "# exponencial\n",
        "c = np.array([1, 2, 3, 4])\n",
        "print(f\"valor de c={c}\")\n",
        "d = c ** 2\n",
        "print(f\"valor de d={d}\")\n",
        "e = c / d\n",
        "print(f\"valor de e={e}\")\n",
        "\n",
        "# comparaciones\n",
        "c = np.array([1, 2, 3, 4])\n",
        "print(c > 0)\n",
        "print(c < 0)\n",
        "\n",
        "# funciones elemento por elemento\n",
        "c = np.array([1, 2, 3, 4])\n",
        "print(c ** 2)\n",
        "print(np.sqrt(c))\n",
        "print(np.sin(c))\n",
        "\n",
        "# metodos estadisticos\n",
        "c = np.arange(11)\n",
        "print(c)\n",
        "suma = c.sum()\n",
        "print(f\"suma={suma}\")\n",
        "promedio = c.mean()\n",
        "print(f\"promedio={promedio}\")\n",
        "desviacion = (c - promedio) ** 2\n",
        "print(f\"desviacion={desviacion}\")\n",
        "varianza = desviacion.sum() / c.size\n",
        "print(f\"varianza={varianza}\")\n",
        "\n",
        "# metodos estadisticos matrices\n",
        "m = np.arange(1, 10).reshape(3, 3)\n",
        "print(f\"m={m}\")\n",
        "print(m.mean())\n",
        "print(m.mean(axis=0))\n",
        "print(m.mean(axis=1))\n",
        "print(m ** 2)\n",
        "\n",
        "## numeros aleatorios\n",
        "np.random.seed(123) # iniciar la semilla de los nuevos aleatorios\n",
        "print(f\"random int={np.random.randint(0, 10)}\") # genera  enteros de 0 a 10\n",
        "print(f\"random 3x3={np.random.randint(0, 10, size=(3, 3))}\") # genera enteros de 0 a 10 en matriz de 3x3\n"
      ],
      "metadata": {
        "id": "3SvPLLVJHjXE"
      },
      "execution_count": null,
      "outputs": []
    },
    {
      "cell_type": "code",
      "source": [
        "## Martina y Aracely\n",
        "\n",
        "## martina\n",
        "#Diapositivas 91- 93 Metodos estadísticos\n",
        "import numpy as np\n",
        "z = np.arange(4,20) #crea una matriz de una dimension desde el numero 4 hasta 20\n",
        "#Calculos estadisticos\n",
        "promedio=z.mean() #calcula el promedio de la matriz z a traves de la funcion mean\n",
        "Desviacion= (z-promedio)** 2 #Se calcula la desviacion donde a la matriz z se le resta su promedio y esto se eleva a 2\n",
        "Varianza= z.var()\n",
        "Desviacion_estandar = np.sqrt(Varianza) # el metodo sqrt calcula la raiz cuadrada y en este caso al aplicarse a la varianza se calcula la desviacion estandar\n",
        "Valores_acumulados_de_Z=z.cumsum() #calcula los valores acumulados de la matriz z\n",
        "\n",
        "## aracely\n",
        "## Diapositiva 88 - 90\n",
        "#Primero, se crea un arreglo que contiene los números enteros del 1 al 10.\n",
        "x = np.arange(1,11)\n",
        "print(x)\n",
        "#El código `x = np.arange(1, 11)` genera esa secuencia de números. La función arange crea números desde el primer valor (1) hasta uno antes del segundo valor (11). Este arreglo se almacena en la variable x.\n",
        "x.sum() #Se utiliza para calcular la suma de todos los elementos que están dentro del arreglo x.\n",
        "x.mean() #calcula el promedio (o media aritmetica) de los elementos en el arreglo.\n",
        "x_mean=x.mean() #calcula el promedio del arreglo original x  y lo almacena en la variable x_mean para usarlo fácilmente en los siguientes pasos.\n",
        "x-x_mean #calcula la desviación de cada dato. NumPy le resta el promedio (5.5) a cada uno de los elementos del arreglo original x.\n",
        "#El resultado es un nuevo arreglo que nos dice qué tan lejos está cada número original del promedio.\n",
        "(x-x_mean)**2 #Toma ese arreglo de desviaciones y eleva al cuadrado cada uno de sus elementos.\n",
        "#Al elevar al cuadrado convertimos los valores negativos en positivos.\n",
        "dev=(x-x_mean)**2 #Tomamos el calculo anterior y lo guardamos en una nueva variable llamada dev.\n",
        "dev.sum() #Suma todos los valores que están en el arreglo dev\n",
        "\n",
        "\n"
      ],
      "metadata": {
        "id": "HFzlLDd9KiSt"
      },
      "execution_count": null,
      "outputs": []
    },
    {
      "cell_type": "code",
      "source": [
        "# Fernanda\n",
        "#la D77 :\n",
        "lista_a = [1,2,3,4,5,6]\n",
        "lista_b = [5,10,15,20,25,30]\n",
        "\n",
        "c = lista_a + lista_b\n",
        "c\n",
        "# D78:\n",
        "arr_1 = np.array([1,2,3,4,5,6])\n",
        "arr_2 = np.array([5,10,15,20,25,30])\n",
        "\n",
        "d = arr_1 + arr_2\n",
        "d\n",
        "# D79:\n",
        "print(arr_1.ndim)\n",
        "print(arr_1.size)\n",
        "print(arr_1.shape)\n",
        "# D80\n",
        "display(lista_a*3)\n",
        "display(arr_1*3)\n",
        "# D81:\n",
        "display(np.repeat(arr_1,5))\n",
        "display(np.tile(arr_1,4))"
      ],
      "metadata": {
        "id": "B6CgfBp6RlK5"
      },
      "execution_count": null,
      "outputs": []
    },
    {
      "cell_type": "code",
      "source": [
        "# Camila --- diapo 94 a la 99\n",
        "\n",
        "a = np.arange(1, 19, 3)\n",
        "\n",
        "# Definir dimensiones de matrices\n",
        "print(a.reshape(2,3))\n",
        "print(a.reshape(2,-1)) # -1, def automaticamente la cantidad necesaria de cols\n",
        "a = a.reshape(2,3)\n",
        "\n",
        "# Estadística\n",
        "\n",
        "# promedio\n",
        "print(a.mean(axis=0)) # para cols\n",
        "print(a.mean(axis=1)) # para filas\n",
        "\n",
        "# eligiendo una semilla\n",
        "b = np.random.seed(13)\n",
        "\n",
        "# generando números aleatorios\n",
        "print(np.random.randint(8))\n",
        "print(np.random.randint(13,27))\n",
        "\n",
        "# confirmando semilla\n",
        "while True:\n",
        "  num = np.random.randint(13,27)\n",
        "  print(num)\n",
        "  if (num==15):\n",
        "    break\n"
      ],
      "metadata": {
        "id": "BhDhFabjMGsz"
      },
      "execution_count": null,
      "outputs": []
    },
    {
      "cell_type": "code",
      "source": [
        "# Antonia\n",
        "#Resumen final 101\n",
        "np.random.seed(130)\n",
        "print(f\"\"\"con la funcion randit podemos generar numero aleatorios segun un tamaño determinado \\n en este caso crearremos numero aleatorios del 1 al 10 de un largo de 100\"\"\")\n",
        "\n",
        "a=np.random.randint(1,11,size=100)\n",
        "print(f\"vector de 1000 elementos con numero del 1 al 10 \\n\",a)\n",
        "print(\"###\"*20)\n",
        "\n",
        "a1 = np.random.randint(1,11,size=(4,4))\n",
        "print(f\"genera una matriz 4*4 con numero aleatorios \\n\",a1)\n",
        "print(\"###\"*20)\n",
        "a2= np.random.randint(1,11,size=(4,4,4))\n",
        "print(f\"genera una matriz tridimencional 4*4*4 con numero aleatorios \\n\",a2)\n",
        "print(f\"el tamaño de nuestro primer ejemplo es:\",a.size)\n",
        "print(f\"los numero que encontraremos en el primer ejempo:\",np.unique(a))\n",
        "print(f\"la media de nuestro ejemplo es:\", np.median(a))\n",
        "print(f\"la suma total de nuestro ejemplo es:\", np.sum(a))\n",
        "print(f\"La media de nuestro ejemplo es: \", np.round(np.mean(a), 2))\n",
        "print(f\"La varianza de nuestro ejemplo es:\", np.round(np.var(a), 2))\n",
        "print(f\"La desviación estándar de nuestro ejemplo es: \",np.round(np.std(a), 2))\n",
        "print(f\"El mínimo de nuestro ejemplo es:\", a.min())\n",
        "print(f\"El máximo de nuestro ejemplo es:\",a.max())\n",
        "a=np.random.randint(-10,11,size=100)\n",
        "print(\"\\nVector de 100 elementos con números del -10 al 10:\\n\", a)\n",
        "print(f\"Los números únicos en este ejemplo son:\",np.unique(a))\n",
        "print(f\"La ubicación del índice con el valor más alto es:\",a.argmax())\n",
        "print(f\"La ubicación del índice con el valor más bajo es:\", a.argmin())"
      ],
      "metadata": {
        "id": "jouNHpE4NhjP"
      },
      "execution_count": null,
      "outputs": []
    }
  ]
}