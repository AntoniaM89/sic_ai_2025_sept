{
  "nbformat": 4,
  "nbformat_minor": 0,
  "metadata": {
    "colab": {
      "provenance": [],
      "authorship_tag": "ABX9TyOwT0XcwTWvqMhn2nnm61dw",
      "include_colab_link": true
    },
    "kernelspec": {
      "name": "python3",
      "display_name": "Python 3"
    },
    "language_info": {
      "name": "python"
    }
  },
  "cells": [
    {
      "cell_type": "markdown",
      "metadata": {
        "id": "view-in-github",
        "colab_type": "text"
      },
      "source": [
        "<a href=\"https://colab.research.google.com/github/davidlealo/sic_ai_2025_sept/blob/main/3_machine_learning/clase_12.ipynb\" target=\"_parent\"><img src=\"https://colab.research.google.com/assets/colab-badge.svg\" alt=\"Open In Colab\"/></a>"
      ]
    },
    {
      "cell_type": "markdown",
      "source": [
        "# Clase 12 – Trabajo en Grupos con Presentación y Código\n",
        "**Samsung Innovation Campus 2025 – Inteligencia Artificial**  \n",
        "**Fecha: viernes 26 de septiembre de 2025**\n",
        "\n",
        "## Objetivo\n",
        "Cada grupo deberá **explicar un tema clave de Machine Learning** a partir del rango de diapositivas asignado.  \n",
        "La presentación debe incluir:  \n",
        "1. **Explicación teórica clara y sencilla.**  \n",
        "2. **Ejemplo práctico en Python (código ejecutable en Colab).**  \n",
        "3. **Visualizaciones que ayuden a entender el concepto.**\n",
        "\n",
        "Pueden usar las **slides originales** como apoyo o crear sus **propias diapositivas** para explicar mejor.\n",
        "\n",
        "---\n",
        "\n",
        "## Grupos y temas\n",
        "\n",
        "### Grupo 1 (Slides 195 – 236)  \n",
        "**Tema:** Fundamentos de la **regresión lineal**  \n",
        "- Explicar la ecuación de la recta y los coeficientes.  \n",
        "- Cómo dividir datos en entrenamiento y prueba.  \n",
        "- Ejemplo en Python: regresión lineal con un dataset sencillo (`sklearn.datasets` o CSV).  \n",
        "\n",
        "---\n",
        "\n",
        "### Grupo 2 (Slides 237 – 258)  \n",
        "**Tema:** **Evaluación y diagnóstico de modelos de regresión**  \n",
        "- Explicar métricas: MSE, RMSE, MAE, MAPE, R².  \n",
        "- Mostrar un gráfico de residuos e interpretarlo.  \n",
        "- Ejemplo en Python: comparar modelos con distintas métricas.  \n",
        "\n",
        "---\n",
        "\n",
        "### Grupo 3 (Slides 259 – 265)  \n",
        "**Tema:** Introducción a la **regresión logística**  \n",
        "- Diferencia entre regresión lineal y logística.  \n",
        "- Función sigmoide y concepto de probabilidad.  \n",
        "- Ejemplo en Python: clasificación binaria (ej. aprobar/reprobar).  \n",
        "\n",
        "---\n",
        "\n",
        "### Grupo 4 (Slides 266 – 292)  \n",
        "**Tema:** **Métricas de clasificación**  \n",
        "- Matriz de confusión y sus componentes (TP, TN, FP, FN).  \n",
        "- Explicar precisión, recall, especificidad, F1-score.  \n",
        "- Ejemplo en Python: calcular métricas con `sklearn.metrics`.  \n",
        "- Caso práctico: cuándo la “accuracy” puede ser engañosa.  \n",
        "\n",
        "---\n",
        "\n",
        "### Grupo 5 (Slides 293 – 314)  \n",
        "**Tema:** **Curvas ROC y árboles de decisión**  \n",
        "- Explicar TPR, FPR, AUC y lectura de curvas ROC.  \n",
        "- Cómo funciona un árbol de decisión: nodos, criterios de división, poda.  \n",
        "- Ejemplo en Python: curva ROC con regresión.  \n",
        "\n",
        "---\n",
        "\n",
        "## Requisitos de la presentación\n",
        "- Duración: **7 a 10 minutos por grupo**.  \n",
        "- Presentación apoyada en slides (originales o propias).  \n",
        "- Incluir **fragmentos de código Python** explicados paso a paso.  \n",
        "- Mostrar al menos **un gráfico generado con código**.  \n",
        "- Terminar con **una pregunta o caso práctico** para abrir discusión.  \n",
        "- Compartir el código en: 3_machine_learning/contribuciones_estudiantes\n",
        "\n",
        "---\n"
      ],
      "metadata": {
        "id": "lKKPEVV44dSp"
      }
    },
    {
      "cell_type": "code",
      "execution_count": null,
      "metadata": {
        "id": "u-tMCjP54bpQ"
      },
      "outputs": [],
      "source": []
    }
  ]
}