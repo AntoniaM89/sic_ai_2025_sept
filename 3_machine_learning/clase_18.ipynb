{
  "nbformat": 4,
  "nbformat_minor": 0,
  "metadata": {
    "colab": {
      "provenance": [],
      "authorship_tag": "ABX9TyNLSaNYZQaBNa0Lv/qTNbau",
      "include_colab_link": true
    },
    "kernelspec": {
      "name": "python3",
      "display_name": "Python 3"
    },
    "language_info": {
      "name": "python"
    }
  },
  "cells": [
    {
      "cell_type": "markdown",
      "metadata": {
        "id": "view-in-github",
        "colab_type": "text"
      },
      "source": [
        "<a href=\"https://colab.research.google.com/github/davidlealo/sic_ai_2025_sept/blob/main/3_machine_learning/clase_18.ipynb\" target=\"_parent\"><img src=\"https://colab.research.google.com/assets/colab-badge.svg\" alt=\"Open In Colab\"/></a>"
      ]
    },
    {
      "cell_type": "code",
      "execution_count": null,
      "metadata": {
        "id": "Q8vfWVtc_s5d"
      },
      "outputs": [],
      "source": [
        "# Grupos\n",
        "\n",
        "'''\n",
        "\n",
        "GRUPO 1: Kmeans (44 a 54)\n",
        "\n",
        "GRUPO 2: Otros métodos (55 a 67)\n",
        "\n",
        "GRUPO 3: PCA (68 a 86)\n",
        "\n",
        "GRUPO 4: Aplicación de PCA (87 a 99)\n",
        "\n",
        "\n",
        "'''"
      ]
    }
  ]
}